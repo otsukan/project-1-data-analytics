{
 "cells": [
  {
   "cell_type": "code",
   "execution_count": 1,
   "metadata": {},
   "outputs": [],
   "source": [
    "import pandas as pd\n",
    "import os"
   ]
  },
  {
   "cell_type": "code",
   "execution_count": 2,
   "metadata": {},
   "outputs": [],
   "source": [
    "data_2014 = os.path.join(\"Resources\", \"2014.csv\")"
   ]
  },
  {
   "cell_type": "code",
   "execution_count": 3,
   "metadata": {},
   "outputs": [],
   "source": [
    "data_2014 = pd.read_csv(data_2014)"
   ]
  },
  {
   "cell_type": "code",
   "execution_count": 4,
   "metadata": {},
   "outputs": [],
   "source": [
    "data_2014.columns = data_2014.columns.str.strip().str.lower().str.replace(' ', '_').str.replace('(', '').str.replace(')', '')"
   ]
  },
  {
   "cell_type": "code",
   "execution_count": 5,
   "metadata": {},
   "outputs": [],
   "source": [
    "data_2014 = data_2014[[\"drg_definition\", \"total_discharges\", \"average_medicare_payments\"]]"
   ]
  },
  {
   "cell_type": "code",
   "execution_count": 6,
   "metadata": {},
   "outputs": [],
   "source": [
    "grouped_2014 = data_2014.groupby(\"drg_definition\").sum()\n",
    "grouped_2014_raw = data_2014.groupby(\"drg_definition\").sum()"
   ]
  },
  {
   "cell_type": "code",
   "execution_count": 7,
   "metadata": {},
   "outputs": [],
   "source": [
    "grouped_2014[\"average_medicare_payments\"] = grouped_2014[\"average_medicare_payments\"]\n",
    "grouped_2014_raw[\"average_medicare_payments\"] = grouped_2014_raw[\"average_medicare_payments\"]"
   ]
  },
  {
   "cell_type": "code",
   "execution_count": 8,
   "metadata": {},
   "outputs": [],
   "source": [
    "grouped_2014[\"average_medicare_payments\"] = grouped_2014[\"average_medicare_payments\"].map('${:,.2f}'.format)"
   ]
  },
  {
   "cell_type": "code",
   "execution_count": 9,
   "metadata": {},
   "outputs": [],
   "source": [
    "grouped_2014[\"total_discharges\"] = grouped_2014[\"total_discharges\"].map('{:,.2f}'.format)"
   ]
  },
  {
   "cell_type": "code",
   "execution_count": 10,
   "metadata": {},
   "outputs": [
    {
     "data": {
      "text/html": [
       "<div>\n",
       "<style scoped>\n",
       "    .dataframe tbody tr th:only-of-type {\n",
       "        vertical-align: middle;\n",
       "    }\n",
       "\n",
       "    .dataframe tbody tr th {\n",
       "        vertical-align: top;\n",
       "    }\n",
       "\n",
       "    .dataframe thead th {\n",
       "        text-align: right;\n",
       "    }\n",
       "</style>\n",
       "<table border=\"1\" class=\"dataframe\">\n",
       "  <thead>\n",
       "    <tr style=\"text-align: right;\">\n",
       "      <th></th>\n",
       "      <th>total_discharges</th>\n",
       "      <th>average_medicare_payments</th>\n",
       "    </tr>\n",
       "    <tr>\n",
       "      <th>drg_definition</th>\n",
       "      <th></th>\n",
       "      <th></th>\n",
       "    </tr>\n",
       "  </thead>\n",
       "  <tbody>\n",
       "    <tr>\n",
       "      <th>001 - HEART TRANSPLANT OR IMPLANT OF HEART ASSIST SYSTEM W MCC</th>\n",
       "      <td>1,495.00</td>\n",
       "      <td>$14,221,613.28</td>\n",
       "    </tr>\n",
       "    <tr>\n",
       "      <th>002 - HEART TRANSPLANT OR IMPLANT OF HEART ASSIST SYSTEM W/O MCC</th>\n",
       "      <td>23.00</td>\n",
       "      <td>$256,187.32</td>\n",
       "    </tr>\n",
       "    <tr>\n",
       "      <th>003 - ECMO OR TRACH W MV 96+ HRS OR PDX EXC FACE, MOUTH &amp; NECK W MAJ O.R.</th>\n",
       "      <td>11,987.00</td>\n",
       "      <td>$54,997,546.11</td>\n",
       "    </tr>\n",
       "    <tr>\n",
       "      <th>004 - TRACH W MV 96+ HRS OR PDX EXC FACE, MOUTH &amp; NECK W/O MAJ O.R.</th>\n",
       "      <td>11,774.00</td>\n",
       "      <td>$41,499,440.01</td>\n",
       "    </tr>\n",
       "    <tr>\n",
       "      <th>005 - LIVER TRANSPLANT W MCC OR INTESTINAL TRANSPLANT</th>\n",
       "      <td>741.00</td>\n",
       "      <td>$3,895,729.80</td>\n",
       "    </tr>\n",
       "  </tbody>\n",
       "</table>\n",
       "</div>"
      ],
      "text/plain": [
       "                                                   total_discharges  \\\n",
       "drg_definition                                                        \n",
       "001 - HEART TRANSPLANT OR IMPLANT OF HEART ASSI...         1,495.00   \n",
       "002 - HEART TRANSPLANT OR IMPLANT OF HEART ASSI...            23.00   \n",
       "003 - ECMO OR TRACH W MV 96+ HRS OR PDX EXC FAC...        11,987.00   \n",
       "004 - TRACH W MV 96+ HRS OR PDX EXC FACE, MOUTH...        11,774.00   \n",
       "005 - LIVER TRANSPLANT W MCC OR INTESTINAL TRAN...           741.00   \n",
       "\n",
       "                                                   average_medicare_payments  \n",
       "drg_definition                                                                \n",
       "001 - HEART TRANSPLANT OR IMPLANT OF HEART ASSI...            $14,221,613.28  \n",
       "002 - HEART TRANSPLANT OR IMPLANT OF HEART ASSI...               $256,187.32  \n",
       "003 - ECMO OR TRACH W MV 96+ HRS OR PDX EXC FAC...            $54,997,546.11  \n",
       "004 - TRACH W MV 96+ HRS OR PDX EXC FACE, MOUTH...            $41,499,440.01  \n",
       "005 - LIVER TRANSPLANT W MCC OR INTESTINAL TRAN...             $3,895,729.80  "
      ]
     },
     "execution_count": 10,
     "metadata": {},
     "output_type": "execute_result"
    }
   ],
   "source": [
    "grouped_2014.head()"
   ]
  },
  {
   "cell_type": "code",
   "execution_count": 11,
   "metadata": {},
   "outputs": [],
   "source": [
    "top_payments = (grouped_2014_raw.sort_values(\"average_medicare_payments\", ascending=False)).head(10)"
   ]
  },
  {
   "cell_type": "code",
   "execution_count": 12,
   "metadata": {},
   "outputs": [],
   "source": [
    "top_payments[\"total_discharges\"] = top_payments[\"total_discharges\"].map('{:,.2f}'.format)\n",
    "top_payments[\"average_medicare_payments\"] = top_payments[\"average_medicare_payments\"].map('${:,.2f}'.format)"
   ]
  },
  {
   "cell_type": "code",
   "execution_count": 13,
   "metadata": {},
   "outputs": [
    {
     "data": {
      "text/html": [
       "<div>\n",
       "<style scoped>\n",
       "    .dataframe tbody tr th:only-of-type {\n",
       "        vertical-align: middle;\n",
       "    }\n",
       "\n",
       "    .dataframe tbody tr th {\n",
       "        vertical-align: top;\n",
       "    }\n",
       "\n",
       "    .dataframe thead th {\n",
       "        text-align: right;\n",
       "    }\n",
       "</style>\n",
       "<table border=\"1\" class=\"dataframe\">\n",
       "  <thead>\n",
       "    <tr style=\"text-align: right;\">\n",
       "      <th></th>\n",
       "      <th>total_discharges</th>\n",
       "      <th>average_medicare_payments</th>\n",
       "    </tr>\n",
       "    <tr>\n",
       "      <th>drg_definition</th>\n",
       "      <th></th>\n",
       "      <th></th>\n",
       "    </tr>\n",
       "  </thead>\n",
       "  <tbody>\n",
       "    <tr>\n",
       "      <th>853 - INFECTIOUS &amp; PARASITIC DISEASES W O.R. PROCEDURE W MCC</th>\n",
       "      <td>54,698.00</td>\n",
       "      <td>$56,626,362.96</td>\n",
       "    </tr>\n",
       "    <tr>\n",
       "      <th>003 - ECMO OR TRACH W MV 96+ HRS OR PDX EXC FACE, MOUTH &amp; NECK W MAJ O.R.</th>\n",
       "      <td>11,987.00</td>\n",
       "      <td>$54,997,546.11</td>\n",
       "    </tr>\n",
       "    <tr>\n",
       "      <th>870 - SEPTICEMIA OR SEVERE SEPSIS W MV 96+ HOURS</th>\n",
       "      <td>28,260.00</td>\n",
       "      <td>$44,440,962.75</td>\n",
       "    </tr>\n",
       "    <tr>\n",
       "      <th>329 - MAJOR SMALL &amp; LARGE BOWEL PROCEDURES W MCC</th>\n",
       "      <td>31,619.00</td>\n",
       "      <td>$43,728,815.01</td>\n",
       "    </tr>\n",
       "    <tr>\n",
       "      <th>004 - TRACH W MV 96+ HRS OR PDX EXC FACE, MOUTH &amp; NECK W/O MAJ O.R.</th>\n",
       "      <td>11,774.00</td>\n",
       "      <td>$41,499,440.01</td>\n",
       "    </tr>\n",
       "    <tr>\n",
       "      <th>207 - RESPIRATORY SYSTEM DIAGNOSIS W VENTILATOR SUPPORT 96+ HOURS</th>\n",
       "      <td>21,164.00</td>\n",
       "      <td>$34,483,192.67</td>\n",
       "    </tr>\n",
       "    <tr>\n",
       "      <th>470 - MAJOR JOINT REPLACEMENT OR REATTACHMENT OF LOWER EXTREMITY W/O MCC</th>\n",
       "      <td>458,259.00</td>\n",
       "      <td>$34,241,530.91</td>\n",
       "    </tr>\n",
       "    <tr>\n",
       "      <th>460 - SPINAL FUSION EXCEPT CERVICAL W/O MCC</th>\n",
       "      <td>74,041.00</td>\n",
       "      <td>$33,715,161.29</td>\n",
       "    </tr>\n",
       "    <tr>\n",
       "      <th>871 - SEPTICEMIA OR SEVERE SEPSIS W/O MV 96+ HOURS W MCC</th>\n",
       "      <td>438,597.00</td>\n",
       "      <td>$33,595,250.10</td>\n",
       "    </tr>\n",
       "    <tr>\n",
       "      <th>208 - RESPIRATORY SYSTEM DIAGNOSIS W VENTILATOR SUPPORT &lt;96 HOURS</th>\n",
       "      <td>61,816.00</td>\n",
       "      <td>$27,823,465.23</td>\n",
       "    </tr>\n",
       "  </tbody>\n",
       "</table>\n",
       "</div>"
      ],
      "text/plain": [
       "                                                   total_discharges  \\\n",
       "drg_definition                                                        \n",
       "853 - INFECTIOUS & PARASITIC DISEASES W O.R. PR...        54,698.00   \n",
       "003 - ECMO OR TRACH W MV 96+ HRS OR PDX EXC FAC...        11,987.00   \n",
       "870 - SEPTICEMIA OR SEVERE SEPSIS W MV 96+ HOURS          28,260.00   \n",
       "329 - MAJOR SMALL & LARGE BOWEL PROCEDURES W MCC          31,619.00   \n",
       "004 - TRACH W MV 96+ HRS OR PDX EXC FACE, MOUTH...        11,774.00   \n",
       "207 - RESPIRATORY SYSTEM DIAGNOSIS W VENTILATOR...        21,164.00   \n",
       "470 - MAJOR JOINT REPLACEMENT OR REATTACHMENT O...       458,259.00   \n",
       "460 - SPINAL FUSION EXCEPT CERVICAL W/O MCC               74,041.00   \n",
       "871 - SEPTICEMIA OR SEVERE SEPSIS W/O MV 96+ HO...       438,597.00   \n",
       "208 - RESPIRATORY SYSTEM DIAGNOSIS W VENTILATOR...        61,816.00   \n",
       "\n",
       "                                                   average_medicare_payments  \n",
       "drg_definition                                                                \n",
       "853 - INFECTIOUS & PARASITIC DISEASES W O.R. PR...            $56,626,362.96  \n",
       "003 - ECMO OR TRACH W MV 96+ HRS OR PDX EXC FAC...            $54,997,546.11  \n",
       "870 - SEPTICEMIA OR SEVERE SEPSIS W MV 96+ HOURS              $44,440,962.75  \n",
       "329 - MAJOR SMALL & LARGE BOWEL PROCEDURES W MCC              $43,728,815.01  \n",
       "004 - TRACH W MV 96+ HRS OR PDX EXC FACE, MOUTH...            $41,499,440.01  \n",
       "207 - RESPIRATORY SYSTEM DIAGNOSIS W VENTILATOR...            $34,483,192.67  \n",
       "470 - MAJOR JOINT REPLACEMENT OR REATTACHMENT O...            $34,241,530.91  \n",
       "460 - SPINAL FUSION EXCEPT CERVICAL W/O MCC                   $33,715,161.29  \n",
       "871 - SEPTICEMIA OR SEVERE SEPSIS W/O MV 96+ HO...            $33,595,250.10  \n",
       "208 - RESPIRATORY SYSTEM DIAGNOSIS W VENTILATOR...            $27,823,465.23  "
      ]
     },
     "execution_count": 13,
     "metadata": {},
     "output_type": "execute_result"
    }
   ],
   "source": [
    "top_payments"
   ]
  },
  {
   "cell_type": "code",
   "execution_count": 14,
   "metadata": {},
   "outputs": [],
   "source": [
    "bottom_payments = (grouped_2014_raw.sort_values(\"average_medicare_payments\", ascending=True)).head(n=10)"
   ]
  },
  {
   "cell_type": "code",
   "execution_count": 15,
   "metadata": {},
   "outputs": [],
   "source": [
    "bottom_payments[\"total_discharges\"] = bottom_payments[\"total_discharges\"].map('{:,.2f}'.format)\n",
    "bottom_payments[\"average_medicare_payments\"] = bottom_payments[\"average_medicare_payments\"].map('${:,.2f}'.format)"
   ]
  },
  {
   "cell_type": "code",
   "execution_count": 16,
   "metadata": {},
   "outputs": [
    {
     "data": {
      "text/html": [
       "<div>\n",
       "<style scoped>\n",
       "    .dataframe tbody tr th:only-of-type {\n",
       "        vertical-align: middle;\n",
       "    }\n",
       "\n",
       "    .dataframe tbody tr th {\n",
       "        vertical-align: top;\n",
       "    }\n",
       "\n",
       "    .dataframe thead th {\n",
       "        text-align: right;\n",
       "    }\n",
       "</style>\n",
       "<table border=\"1\" class=\"dataframe\">\n",
       "  <thead>\n",
       "    <tr style=\"text-align: right;\">\n",
       "      <th></th>\n",
       "      <th>total_discharges</th>\n",
       "      <th>average_medicare_payments</th>\n",
       "    </tr>\n",
       "    <tr>\n",
       "      <th>drg_definition</th>\n",
       "      <th></th>\n",
       "      <th></th>\n",
       "    </tr>\n",
       "  </thead>\n",
       "  <tbody>\n",
       "    <tr>\n",
       "      <th>376 - DIGESTIVE MALIGNANCY W/O CC/MCC</th>\n",
       "      <td>16.00</td>\n",
       "      <td>$4,112.69</td>\n",
       "    </tr>\n",
       "    <tr>\n",
       "      <th>514 - HAND OR WRIST PROC, EXCEPT MAJOR THUMB OR JOINT PROC W/O CC/MCC</th>\n",
       "      <td>17.00</td>\n",
       "      <td>$4,624.12</td>\n",
       "    </tr>\n",
       "    <tr>\n",
       "      <th>437 - MALIGNANCY OF HEPATOBILIARY SYSTEM OR PANCREAS W/O CC/MCC</th>\n",
       "      <td>12.00</td>\n",
       "      <td>$4,891.83</td>\n",
       "    </tr>\n",
       "    <tr>\n",
       "      <th>887 - OTHER MENTAL DISORDER DIAGNOSES</th>\n",
       "      <td>14.00</td>\n",
       "      <td>$5,291.43</td>\n",
       "    </tr>\n",
       "    <tr>\n",
       "      <th>598 - MALIGNANT BREAST DISORDERS W CC</th>\n",
       "      <td>20.00</td>\n",
       "      <td>$5,807.20</td>\n",
       "    </tr>\n",
       "    <tr>\n",
       "      <th>758 - INFECTIONS, FEMALE REPRODUCTIVE SYSTEM W CC</th>\n",
       "      <td>14.00</td>\n",
       "      <td>$6,236.21</td>\n",
       "    </tr>\n",
       "    <tr>\n",
       "      <th>505 - FOOT PROCEDURES W/O CC/MCC</th>\n",
       "      <td>16.00</td>\n",
       "      <td>$6,763.62</td>\n",
       "    </tr>\n",
       "    <tr>\n",
       "      <th>630 - OTHER ENDOCRINE, NUTRIT &amp; METAB O.R. PROC W/O CC/MCC</th>\n",
       "      <td>14.00</td>\n",
       "      <td>$6,918.57</td>\n",
       "    </tr>\n",
       "    <tr>\n",
       "      <th>117 - INTRAOCULAR PROCEDURES W/O CC/MCC</th>\n",
       "      <td>14.00</td>\n",
       "      <td>$6,930.86</td>\n",
       "    </tr>\n",
       "    <tr>\n",
       "      <th>198 - INTERSTITIAL LUNG DISEASE W/O CC/MCC</th>\n",
       "      <td>12.00</td>\n",
       "      <td>$7,025.25</td>\n",
       "    </tr>\n",
       "  </tbody>\n",
       "</table>\n",
       "</div>"
      ],
      "text/plain": [
       "                                                   total_discharges  \\\n",
       "drg_definition                                                        \n",
       "376 - DIGESTIVE MALIGNANCY W/O CC/MCC                         16.00   \n",
       "514 - HAND OR WRIST PROC, EXCEPT MAJOR THUMB OR...            17.00   \n",
       "437 - MALIGNANCY OF HEPATOBILIARY SYSTEM OR PAN...            12.00   \n",
       "887 - OTHER MENTAL DISORDER DIAGNOSES                         14.00   \n",
       "598 - MALIGNANT BREAST DISORDERS W CC                         20.00   \n",
       "758 - INFECTIONS, FEMALE REPRODUCTIVE SYSTEM W CC             14.00   \n",
       "505 - FOOT PROCEDURES W/O CC/MCC                              16.00   \n",
       "630 - OTHER ENDOCRINE, NUTRIT & METAB O.R. PROC...            14.00   \n",
       "117 - INTRAOCULAR PROCEDURES W/O CC/MCC                       14.00   \n",
       "198 - INTERSTITIAL LUNG DISEASE W/O CC/MCC                    12.00   \n",
       "\n",
       "                                                   average_medicare_payments  \n",
       "drg_definition                                                                \n",
       "376 - DIGESTIVE MALIGNANCY W/O CC/MCC                              $4,112.69  \n",
       "514 - HAND OR WRIST PROC, EXCEPT MAJOR THUMB OR...                 $4,624.12  \n",
       "437 - MALIGNANCY OF HEPATOBILIARY SYSTEM OR PAN...                 $4,891.83  \n",
       "887 - OTHER MENTAL DISORDER DIAGNOSES                              $5,291.43  \n",
       "598 - MALIGNANT BREAST DISORDERS W CC                              $5,807.20  \n",
       "758 - INFECTIONS, FEMALE REPRODUCTIVE SYSTEM W CC                  $6,236.21  \n",
       "505 - FOOT PROCEDURES W/O CC/MCC                                   $6,763.62  \n",
       "630 - OTHER ENDOCRINE, NUTRIT & METAB O.R. PROC...                 $6,918.57  \n",
       "117 - INTRAOCULAR PROCEDURES W/O CC/MCC                            $6,930.86  \n",
       "198 - INTERSTITIAL LUNG DISEASE W/O CC/MCC                         $7,025.25  "
      ]
     },
     "execution_count": 16,
     "metadata": {},
     "output_type": "execute_result"
    }
   ],
   "source": [
    "bottom_payments"
   ]
  },
  {
   "cell_type": "code",
   "execution_count": 27,
   "metadata": {},
   "outputs": [],
   "source": [
    "all_payments = grouped_2014_raw[\"average_medicare_payments\"].sum()"
   ]
  },
  {
   "cell_type": "code",
   "execution_count": 28,
   "metadata": {},
   "outputs": [],
   "source": [
    "total_discharges = grouped_2014_raw[\"total_discharges\"].sum()"
   ]
  },
  {
   "cell_type": "code",
   "execution_count": 29,
   "metadata": {},
   "outputs": [],
   "source": [
    "summary_data = pd.DataFrame([{\"Total Payments for 2014\": all_payments, \"Total Discharges for 2014\": total_discharges}])"
   ]
  },
  {
   "cell_type": "code",
   "execution_count": 30,
   "metadata": {},
   "outputs": [],
   "source": [
    "summary_data[\"Total Discharges for 2014\"] = summary_data[\"Total Discharges for 2014\"].map('{:,.2f}'.format)\n",
    "summary_data[\"Total Payments for 2014\"] = summary_data[\"Total Payments for 2014\"].map('${:,.2f}'.format)"
   ]
  },
  {
   "cell_type": "code",
   "execution_count": 31,
   "metadata": {},
   "outputs": [
    {
     "data": {
      "text/html": [
       "<div>\n",
       "<style scoped>\n",
       "    .dataframe tbody tr th:only-of-type {\n",
       "        vertical-align: middle;\n",
       "    }\n",
       "\n",
       "    .dataframe tbody tr th {\n",
       "        vertical-align: top;\n",
       "    }\n",
       "\n",
       "    .dataframe thead th {\n",
       "        text-align: right;\n",
       "    }\n",
       "</style>\n",
       "<table border=\"1\" class=\"dataframe\">\n",
       "  <thead>\n",
       "    <tr style=\"text-align: right;\">\n",
       "      <th></th>\n",
       "      <th>Total Discharges for 2014</th>\n",
       "      <th>Total Payments for 2014</th>\n",
       "    </tr>\n",
       "  </thead>\n",
       "  <tbody>\n",
       "    <tr>\n",
       "      <th>0</th>\n",
       "      <td>7,297,885.00</td>\n",
       "      <td>$2,273,489,287.06</td>\n",
       "    </tr>\n",
       "  </tbody>\n",
       "</table>\n",
       "</div>"
      ],
      "text/plain": [
       "  Total Discharges for 2014 Total Payments for 2014\n",
       "0              7,297,885.00       $2,273,489,287.06"
      ]
     },
     "execution_count": 31,
     "metadata": {},
     "output_type": "execute_result"
    }
   ],
   "source": [
    "summary_data"
   ]
  },
  {
   "cell_type": "code",
   "execution_count": null,
   "metadata": {},
   "outputs": [],
   "source": []
  },
  {
   "cell_type": "code",
   "execution_count": null,
   "metadata": {},
   "outputs": [],
   "source": []
  }
 ],
 "metadata": {
  "kernelspec": {
   "display_name": "Python 3",
   "language": "python",
   "name": "python3"
  },
  "language_info": {
   "codemirror_mode": {
    "name": "ipython",
    "version": 3
   },
   "file_extension": ".py",
   "mimetype": "text/x-python",
   "name": "python",
   "nbconvert_exporter": "python",
   "pygments_lexer": "ipython3",
   "version": "3.7.3"
  }
 },
 "nbformat": 4,
 "nbformat_minor": 2
}
