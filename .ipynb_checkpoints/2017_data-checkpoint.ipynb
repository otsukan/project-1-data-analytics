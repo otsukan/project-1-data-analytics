{
 "cells": [
  {
   "cell_type": "code",
   "execution_count": 1,
   "metadata": {},
   "outputs": [],
   "source": [
    "import pandas as pd\n",
    "import os"
   ]
  },
  {
   "cell_type": "code",
   "execution_count": 2,
   "metadata": {},
   "outputs": [],
   "source": [
    "data_2016 = os.path.join(\"Resources\", \"2016.csv\")"
   ]
  },
  {
   "cell_type": "code",
   "execution_count": 3,
   "metadata": {},
   "outputs": [],
   "source": [
    "data_2016 = pd.read_csv(data_2016)"
   ]
  },
  {
   "cell_type": "code",
   "execution_count": 4,
   "metadata": {},
   "outputs": [],
   "source": [
    "data_2016.columns = data_2016.columns.str.strip().str.lower().str.replace(' ', '_').str.replace('(', '').str.replace(')', '')"
   ]
  },
  {
   "cell_type": "code",
   "execution_count": 5,
   "metadata": {},
   "outputs": [],
   "source": [
    "data_2016 = data_2016[[\"drg_definition\", \"total_discharges\", \"average_medicare_payments\"]]"
   ]
  },
  {
   "cell_type": "code",
   "execution_count": 6,
   "metadata": {},
   "outputs": [],
   "source": [
    "grouped_2016 = data_2016.groupby(\"drg_definition\").sum()\n",
    "grouped_2016_raw = data_2016.groupby(\"drg_definition\").sum()"
   ]
  },
  {
   "cell_type": "code",
   "execution_count": 7,
   "metadata": {},
   "outputs": [],
   "source": [
    "data_2016[\"average_medicare_payments\"] = data_2016[\"average_medicare_payments\"]\n",
    "grouped_2016_raw[\"average_medicare_payments\"] = grouped_2016_raw[\"average_medicare_payments\"]"
   ]
  },
  {
   "cell_type": "code",
   "execution_count": 8,
   "metadata": {},
   "outputs": [],
   "source": [
    "grouped_2016[\"average_medicare_payments\"] = grouped_2016[\"average_medicare_payments\"].map('${:,.2f}'.format)"
   ]
  },
  {
   "cell_type": "code",
   "execution_count": 9,
   "metadata": {},
   "outputs": [],
   "source": [
    "grouped_2016[\"total_discharges\"] = grouped_2016[\"total_discharges\"].map('{:,.2f}'.format)"
   ]
  },
  {
   "cell_type": "code",
   "execution_count": 10,
   "metadata": {},
   "outputs": [
    {
     "data": {
      "text/html": [
       "<div>\n",
       "<style scoped>\n",
       "    .dataframe tbody tr th:only-of-type {\n",
       "        vertical-align: middle;\n",
       "    }\n",
       "\n",
       "    .dataframe tbody tr th {\n",
       "        vertical-align: top;\n",
       "    }\n",
       "\n",
       "    .dataframe thead th {\n",
       "        text-align: right;\n",
       "    }\n",
       "</style>\n",
       "<table border=\"1\" class=\"dataframe\">\n",
       "  <thead>\n",
       "    <tr style=\"text-align: right;\">\n",
       "      <th></th>\n",
       "      <th>total_discharges</th>\n",
       "      <th>average_medicare_payments</th>\n",
       "    </tr>\n",
       "    <tr>\n",
       "      <th>drg_definition</th>\n",
       "      <th></th>\n",
       "      <th></th>\n",
       "    </tr>\n",
       "  </thead>\n",
       "  <tbody>\n",
       "    <tr>\n",
       "      <th>001 - HEART TRANSPLANT OR IMPLANT OF HEART ASSIST SYSTEM W MCC</th>\n",
       "      <td>1,851.00</td>\n",
       "      <td>$17,190,447.89</td>\n",
       "    </tr>\n",
       "    <tr>\n",
       "      <th>002 - HEART TRANSPLANT OR IMPLANT OF HEART ASSIST SYSTEM W/O MCC</th>\n",
       "      <td>39.00</td>\n",
       "      <td>$331,006.60</td>\n",
       "    </tr>\n",
       "    <tr>\n",
       "      <th>003 - ECMO OR TRACH W MV &gt;96 HRS OR PDX EXC FACE, MOUTH &amp; NECK W MAJ O.R.</th>\n",
       "      <td>13,088.00</td>\n",
       "      <td>$58,531,593.01</td>\n",
       "    </tr>\n",
       "    <tr>\n",
       "      <th>004 - TRACH W MV &gt;96 HRS OR PDX EXC FACE, MOUTH &amp; NECK W/O MAJ O.R.</th>\n",
       "      <td>8,053.00</td>\n",
       "      <td>$30,081,907.44</td>\n",
       "    </tr>\n",
       "    <tr>\n",
       "      <th>005 - LIVER TRANSPLANT W MCC OR INTESTINAL TRANSPLANT</th>\n",
       "      <td>914.00</td>\n",
       "      <td>$4,927,421.64</td>\n",
       "    </tr>\n",
       "  </tbody>\n",
       "</table>\n",
       "</div>"
      ],
      "text/plain": [
       "                                                   total_discharges  \\\n",
       "drg_definition                                                        \n",
       "001 - HEART TRANSPLANT OR IMPLANT OF HEART ASSI...         1,851.00   \n",
       "002 - HEART TRANSPLANT OR IMPLANT OF HEART ASSI...            39.00   \n",
       "003 - ECMO OR TRACH W MV >96 HRS OR PDX EXC FAC...        13,088.00   \n",
       "004 - TRACH W MV >96 HRS OR PDX EXC FACE, MOUTH...         8,053.00   \n",
       "005 - LIVER TRANSPLANT W MCC OR INTESTINAL TRAN...           914.00   \n",
       "\n",
       "                                                   average_medicare_payments  \n",
       "drg_definition                                                                \n",
       "001 - HEART TRANSPLANT OR IMPLANT OF HEART ASSI...            $17,190,447.89  \n",
       "002 - HEART TRANSPLANT OR IMPLANT OF HEART ASSI...               $331,006.60  \n",
       "003 - ECMO OR TRACH W MV >96 HRS OR PDX EXC FAC...            $58,531,593.01  \n",
       "004 - TRACH W MV >96 HRS OR PDX EXC FACE, MOUTH...            $30,081,907.44  \n",
       "005 - LIVER TRANSPLANT W MCC OR INTESTINAL TRAN...             $4,927,421.64  "
      ]
     },
     "execution_count": 10,
     "metadata": {},
     "output_type": "execute_result"
    }
   ],
   "source": [
    "grouped_2016.head()"
   ]
  },
  {
   "cell_type": "code",
   "execution_count": 11,
   "metadata": {},
   "outputs": [],
   "source": [
    "top_payments = (grouped_2016_raw.sort_values(\"average_medicare_payments\", ascending=False)).head(10)"
   ]
  },
  {
   "cell_type": "code",
   "execution_count": 12,
   "metadata": {},
   "outputs": [],
   "source": [
    "top_payments[\"total_discharges\"] = top_payments[\"total_discharges\"].map('{:,.2f}'.format)\n",
    "top_payments[\"average_medicare_payments\"] = top_payments[\"average_medicare_payments\"].map('${:,.2f}'.format)"
   ]
  },
  {
   "cell_type": "code",
   "execution_count": 13,
   "metadata": {},
   "outputs": [
    {
     "data": {
      "text/html": [
       "<div>\n",
       "<style scoped>\n",
       "    .dataframe tbody tr th:only-of-type {\n",
       "        vertical-align: middle;\n",
       "    }\n",
       "\n",
       "    .dataframe tbody tr th {\n",
       "        vertical-align: top;\n",
       "    }\n",
       "\n",
       "    .dataframe thead th {\n",
       "        text-align: right;\n",
       "    }\n",
       "</style>\n",
       "<table border=\"1\" class=\"dataframe\">\n",
       "  <thead>\n",
       "    <tr style=\"text-align: right;\">\n",
       "      <th></th>\n",
       "      <th>total_discharges</th>\n",
       "      <th>average_medicare_payments</th>\n",
       "    </tr>\n",
       "    <tr>\n",
       "      <th>drg_definition</th>\n",
       "      <th></th>\n",
       "      <th></th>\n",
       "    </tr>\n",
       "  </thead>\n",
       "  <tbody>\n",
       "    <tr>\n",
       "      <th>853 - INFECTIOUS &amp; PARASITIC DISEASES W O.R. PROCEDURE W MCC</th>\n",
       "      <td>88,073.00</td>\n",
       "      <td>$63,695,826.68</td>\n",
       "    </tr>\n",
       "    <tr>\n",
       "      <th>003 - ECMO OR TRACH W MV &gt;96 HRS OR PDX EXC FACE, MOUTH &amp; NECK W MAJ O.R.</th>\n",
       "      <td>13,088.00</td>\n",
       "      <td>$58,531,593.01</td>\n",
       "    </tr>\n",
       "    <tr>\n",
       "      <th>870 - SEPTICEMIA OR SEVERE SEPSIS W MV &gt;96 HOURS</th>\n",
       "      <td>25,139.00</td>\n",
       "      <td>$40,841,828.61</td>\n",
       "    </tr>\n",
       "    <tr>\n",
       "      <th>329 - MAJOR SMALL &amp; LARGE BOWEL PROCEDURES W MCC</th>\n",
       "      <td>28,425.00</td>\n",
       "      <td>$39,738,478.06</td>\n",
       "    </tr>\n",
       "    <tr>\n",
       "      <th>981 - EXTENSIVE O.R. PROCEDURE UNRELATED TO PRINCIPAL DIAGNOSIS W MCC</th>\n",
       "      <td>36,166.00</td>\n",
       "      <td>$38,867,409.83</td>\n",
       "    </tr>\n",
       "    <tr>\n",
       "      <th>460 - SPINAL FUSION EXCEPT CERVICAL W/O MCC</th>\n",
       "      <td>77,033.00</td>\n",
       "      <td>$33,751,626.83</td>\n",
       "    </tr>\n",
       "    <tr>\n",
       "      <th>470 - MAJOR JOINT REPLACEMENT OR REATTACHMENT OF LOWER EXTREMITY W/O MCC</th>\n",
       "      <td>501,443.00</td>\n",
       "      <td>$32,864,117.06</td>\n",
       "    </tr>\n",
       "    <tr>\n",
       "      <th>871 - SEPTICEMIA OR SEVERE SEPSIS W/O MV &gt;96 HOURS W MCC</th>\n",
       "      <td>538,435.00</td>\n",
       "      <td>$32,601,479.00</td>\n",
       "    </tr>\n",
       "    <tr>\n",
       "      <th>004 - TRACH W MV &gt;96 HRS OR PDX EXC FACE, MOUTH &amp; NECK W/O MAJ O.R.</th>\n",
       "      <td>8,053.00</td>\n",
       "      <td>$30,081,907.44</td>\n",
       "    </tr>\n",
       "    <tr>\n",
       "      <th>252 - OTHER VASCULAR PROCEDURES W MCC</th>\n",
       "      <td>38,123.00</td>\n",
       "      <td>$27,036,474.15</td>\n",
       "    </tr>\n",
       "  </tbody>\n",
       "</table>\n",
       "</div>"
      ],
      "text/plain": [
       "                                                   total_discharges  \\\n",
       "drg_definition                                                        \n",
       "853 - INFECTIOUS & PARASITIC DISEASES W O.R. PR...        88,073.00   \n",
       "003 - ECMO OR TRACH W MV >96 HRS OR PDX EXC FAC...        13,088.00   \n",
       "870 - SEPTICEMIA OR SEVERE SEPSIS W MV >96 HOURS          25,139.00   \n",
       "329 - MAJOR SMALL & LARGE BOWEL PROCEDURES W MCC          28,425.00   \n",
       "981 - EXTENSIVE O.R. PROCEDURE UNRELATED TO PRI...        36,166.00   \n",
       "460 - SPINAL FUSION EXCEPT CERVICAL W/O MCC               77,033.00   \n",
       "470 - MAJOR JOINT REPLACEMENT OR REATTACHMENT O...       501,443.00   \n",
       "871 - SEPTICEMIA OR SEVERE SEPSIS W/O MV >96 HO...       538,435.00   \n",
       "004 - TRACH W MV >96 HRS OR PDX EXC FACE, MOUTH...         8,053.00   \n",
       "252 - OTHER VASCULAR PROCEDURES W MCC                     38,123.00   \n",
       "\n",
       "                                                   average_medicare_payments  \n",
       "drg_definition                                                                \n",
       "853 - INFECTIOUS & PARASITIC DISEASES W O.R. PR...            $63,695,826.68  \n",
       "003 - ECMO OR TRACH W MV >96 HRS OR PDX EXC FAC...            $58,531,593.01  \n",
       "870 - SEPTICEMIA OR SEVERE SEPSIS W MV >96 HOURS              $40,841,828.61  \n",
       "329 - MAJOR SMALL & LARGE BOWEL PROCEDURES W MCC              $39,738,478.06  \n",
       "981 - EXTENSIVE O.R. PROCEDURE UNRELATED TO PRI...            $38,867,409.83  \n",
       "460 - SPINAL FUSION EXCEPT CERVICAL W/O MCC                   $33,751,626.83  \n",
       "470 - MAJOR JOINT REPLACEMENT OR REATTACHMENT O...            $32,864,117.06  \n",
       "871 - SEPTICEMIA OR SEVERE SEPSIS W/O MV >96 HO...            $32,601,479.00  \n",
       "004 - TRACH W MV >96 HRS OR PDX EXC FACE, MOUTH...            $30,081,907.44  \n",
       "252 - OTHER VASCULAR PROCEDURES W MCC                         $27,036,474.15  "
      ]
     },
     "execution_count": 13,
     "metadata": {},
     "output_type": "execute_result"
    }
   ],
   "source": [
    "top_payments"
   ]
  },
  {
   "cell_type": "code",
   "execution_count": 14,
   "metadata": {},
   "outputs": [],
   "source": [
    "bottom_payments = (grouped_2016_raw.sort_values(\"average_medicare_payments\", ascending=True)).head(n=10)"
   ]
  },
  {
   "cell_type": "code",
   "execution_count": 15,
   "metadata": {},
   "outputs": [],
   "source": [
    "bottom_payments[\"total_discharges\"] = bottom_payments[\"total_discharges\"].map('{:,.2f}'.format)\n",
    "bottom_payments[\"average_medicare_payments\"] = bottom_payments[\"average_medicare_payments\"].map('${:,.2f}'.format)"
   ]
  },
  {
   "cell_type": "code",
   "execution_count": 16,
   "metadata": {},
   "outputs": [
    {
     "data": {
      "text/html": [
       "<div>\n",
       "<style scoped>\n",
       "    .dataframe tbody tr th:only-of-type {\n",
       "        vertical-align: middle;\n",
       "    }\n",
       "\n",
       "    .dataframe tbody tr th {\n",
       "        vertical-align: top;\n",
       "    }\n",
       "\n",
       "    .dataframe thead th {\n",
       "        text-align: right;\n",
       "    }\n",
       "</style>\n",
       "<table border=\"1\" class=\"dataframe\">\n",
       "  <thead>\n",
       "    <tr style=\"text-align: right;\">\n",
       "      <th></th>\n",
       "      <th>total_discharges</th>\n",
       "      <th>average_medicare_payments</th>\n",
       "    </tr>\n",
       "    <tr>\n",
       "      <th>drg_definition</th>\n",
       "      <th></th>\n",
       "      <th></th>\n",
       "    </tr>\n",
       "  </thead>\n",
       "  <tbody>\n",
       "    <tr>\n",
       "      <th>534 - FRACTURES OF FEMUR W/O MCC</th>\n",
       "      <td>13.00</td>\n",
       "      <td>$2,846.15</td>\n",
       "    </tr>\n",
       "    <tr>\n",
       "      <th>514 - HAND OR WRIST PROC, EXCEPT MAJOR THUMB OR JOINT PROC W/O CC/MCC</th>\n",
       "      <td>13.00</td>\n",
       "      <td>$3,856.23</td>\n",
       "    </tr>\n",
       "    <tr>\n",
       "      <th>810 - MAJOR HEMATOL/IMMUN DIAG EXC SICKLE CELL CRISIS &amp; COAGUL W/O CC/MCC</th>\n",
       "      <td>11.00</td>\n",
       "      <td>$3,880.18</td>\n",
       "    </tr>\n",
       "    <tr>\n",
       "      <th>760 - MENSTRUAL &amp; OTHER FEMALE REPRODUCTIVE SYSTEM DISORDERS W CC/MCC</th>\n",
       "      <td>13.00</td>\n",
       "      <td>$4,737.54</td>\n",
       "    </tr>\n",
       "    <tr>\n",
       "      <th>672 - URETHRAL PROCEDURES W/O CC/MCC</th>\n",
       "      <td>14.00</td>\n",
       "      <td>$4,858.14</td>\n",
       "    </tr>\n",
       "    <tr>\n",
       "      <th>887 - OTHER MENTAL DISORDER DIAGNOSES</th>\n",
       "      <td>16.00</td>\n",
       "      <td>$4,870.88</td>\n",
       "    </tr>\n",
       "    <tr>\n",
       "      <th>600 - NON-MALIGNANT BREAST DISORDERS W CC/MCC</th>\n",
       "      <td>11.00</td>\n",
       "      <td>$5,450.00</td>\n",
       "    </tr>\n",
       "    <tr>\n",
       "      <th>416 - CHOLECYSTECTOMY EXCEPT BY LAPAROSCOPE W/O C.D.E. W/O CC/MCC</th>\n",
       "      <td>26.00</td>\n",
       "      <td>$5,713.27</td>\n",
       "    </tr>\n",
       "    <tr>\n",
       "      <th>437 - MALIGNANCY OF HEPATOBILIARY SYSTEM OR PANCREAS W/O CC/MCC</th>\n",
       "      <td>15.00</td>\n",
       "      <td>$5,797.07</td>\n",
       "    </tr>\n",
       "    <tr>\n",
       "      <th>156 - OTHER EAR, NOSE, MOUTH &amp; THROAT DIAGNOSES W/O CC/MCC</th>\n",
       "      <td>11.00</td>\n",
       "      <td>$6,893.45</td>\n",
       "    </tr>\n",
       "  </tbody>\n",
       "</table>\n",
       "</div>"
      ],
      "text/plain": [
       "                                                   total_discharges  \\\n",
       "drg_definition                                                        \n",
       "534 - FRACTURES OF FEMUR W/O MCC                              13.00   \n",
       "514 - HAND OR WRIST PROC, EXCEPT MAJOR THUMB OR...            13.00   \n",
       "810 - MAJOR HEMATOL/IMMUN DIAG EXC SICKLE CELL ...            11.00   \n",
       "760 - MENSTRUAL & OTHER FEMALE REPRODUCTIVE SYS...            13.00   \n",
       "672 - URETHRAL PROCEDURES W/O CC/MCC                          14.00   \n",
       "887 - OTHER MENTAL DISORDER DIAGNOSES                         16.00   \n",
       "600 - NON-MALIGNANT BREAST DISORDERS W CC/MCC                 11.00   \n",
       "416 - CHOLECYSTECTOMY EXCEPT BY LAPAROSCOPE W/O...            26.00   \n",
       "437 - MALIGNANCY OF HEPATOBILIARY SYSTEM OR PAN...            15.00   \n",
       "156 - OTHER EAR, NOSE, MOUTH & THROAT DIAGNOSES...            11.00   \n",
       "\n",
       "                                                   average_medicare_payments  \n",
       "drg_definition                                                                \n",
       "534 - FRACTURES OF FEMUR W/O MCC                                   $2,846.15  \n",
       "514 - HAND OR WRIST PROC, EXCEPT MAJOR THUMB OR...                 $3,856.23  \n",
       "810 - MAJOR HEMATOL/IMMUN DIAG EXC SICKLE CELL ...                 $3,880.18  \n",
       "760 - MENSTRUAL & OTHER FEMALE REPRODUCTIVE SYS...                 $4,737.54  \n",
       "672 - URETHRAL PROCEDURES W/O CC/MCC                               $4,858.14  \n",
       "887 - OTHER MENTAL DISORDER DIAGNOSES                              $4,870.88  \n",
       "600 - NON-MALIGNANT BREAST DISORDERS W CC/MCC                      $5,450.00  \n",
       "416 - CHOLECYSTECTOMY EXCEPT BY LAPAROSCOPE W/O...                 $5,713.27  \n",
       "437 - MALIGNANCY OF HEPATOBILIARY SYSTEM OR PAN...                 $5,797.07  \n",
       "156 - OTHER EAR, NOSE, MOUTH & THROAT DIAGNOSES...                 $6,893.45  "
      ]
     },
     "execution_count": 16,
     "metadata": {},
     "output_type": "execute_result"
    }
   ],
   "source": [
    "bottom_payments"
   ]
  },
  {
   "cell_type": "code",
   "execution_count": 17,
   "metadata": {},
   "outputs": [],
   "source": [
    "all_payments = grouped_2016_raw[\"average_medicare_payments\"].sum()"
   ]
  },
  {
   "cell_type": "code",
   "execution_count": 18,
   "metadata": {},
   "outputs": [],
   "source": [
    "total_discharges = grouped_2016_raw[\"total_discharges\"].sum()"
   ]
  },
  {
   "cell_type": "code",
   "execution_count": 19,
   "metadata": {},
   "outputs": [],
   "source": [
    "summary_data = pd.DataFrame([{\"Total Payments for 2016\": all_payments, \"Total Discharges for 2016\": total_discharges}])"
   ]
  },
  {
   "cell_type": "code",
   "execution_count": 20,
   "metadata": {},
   "outputs": [],
   "source": [
    "summary_data[\"Total Discharges for 2016\"] = summary_data[\"Total Discharges for 2016\"].map('{:,.2f}'.format)\n",
    "summary_data[\"Total Payments for 2016\"] = summary_data[\"Total Payments for 2016\"].map('${:,.2f}'.format)"
   ]
  },
  {
   "cell_type": "code",
   "execution_count": 21,
   "metadata": {},
   "outputs": [
    {
     "data": {
      "text/html": [
       "<div>\n",
       "<style scoped>\n",
       "    .dataframe tbody tr th:only-of-type {\n",
       "        vertical-align: middle;\n",
       "    }\n",
       "\n",
       "    .dataframe tbody tr th {\n",
       "        vertical-align: top;\n",
       "    }\n",
       "\n",
       "    .dataframe thead th {\n",
       "        text-align: right;\n",
       "    }\n",
       "</style>\n",
       "<table border=\"1\" class=\"dataframe\">\n",
       "  <thead>\n",
       "    <tr style=\"text-align: right;\">\n",
       "      <th></th>\n",
       "      <th>Total Discharges for 2016</th>\n",
       "      <th>Total Payments for 2016</th>\n",
       "    </tr>\n",
       "  </thead>\n",
       "  <tbody>\n",
       "    <tr>\n",
       "      <th>0</th>\n",
       "      <td>7,284,061.00</td>\n",
       "      <td>$2,299,655,121.70</td>\n",
       "    </tr>\n",
       "  </tbody>\n",
       "</table>\n",
       "</div>"
      ],
      "text/plain": [
       "  Total Discharges for 2016 Total Payments for 2016\n",
       "0              7,284,061.00       $2,299,655,121.70"
      ]
     },
     "execution_count": 21,
     "metadata": {},
     "output_type": "execute_result"
    }
   ],
   "source": [
    "summary_data"
   ]
  }
 ],
 "metadata": {
  "kernelspec": {
   "display_name": "Python 3",
   "language": "python",
   "name": "python3"
  },
  "language_info": {
   "codemirror_mode": {
    "name": "ipython",
    "version": 3
   },
   "file_extension": ".py",
   "mimetype": "text/x-python",
   "name": "python",
   "nbconvert_exporter": "python",
   "pygments_lexer": "ipython3",
   "version": "3.7.3"
  }
 },
 "nbformat": 4,
 "nbformat_minor": 2
}
