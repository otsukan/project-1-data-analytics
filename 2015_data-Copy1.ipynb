{
 "cells": [
  {
   "cell_type": "code",
   "execution_count": 13,
   "metadata": {},
   "outputs": [],
   "source": [
    "import pandas as pd\n",
    "import os"
   ]
  },
  {
   "cell_type": "code",
   "execution_count": 14,
   "metadata": {},
   "outputs": [],
   "source": [
    "data_2015 = os.path.join(\"Resources\", \"2015.csv\")"
   ]
  },
  {
   "cell_type": "code",
   "execution_count": 15,
   "metadata": {},
   "outputs": [],
   "source": [
    "data_2015 = pd.read_csv(data_2015)"
   ]
  },
  {
   "cell_type": "code",
   "execution_count": 16,
   "metadata": {},
   "outputs": [],
   "source": [
    "data_2015.columns = data_2015.columns.str.strip().str.lower().str.replace(' ', '_').str.replace('(', '').str.replace(')', '')"
   ]
  },
  {
   "cell_type": "code",
   "execution_count": 17,
   "metadata": {},
   "outputs": [],
   "source": [
    "data_2015 = data_2015[[\"drg_definition\", \"total_discharges\", \"average_medicare_payments\"]]"
   ]
  },
  {
   "cell_type": "code",
   "execution_count": 26,
   "metadata": {},
   "outputs": [],
   "source": [
    "grouped_2015 = data_2015.groupby(\"drg_definition\").sum()\n",
    "grouped_2015_raw = data_2015.groupby(\"drg_definition\").sum()"
   ]
  },
  {
   "cell_type": "code",
   "execution_count": 27,
   "metadata": {},
   "outputs": [],
   "source": [
    "data_2015[\"average_medicare_payments\"] = data_2015[\"average_medicare_payments\"]\n",
    "grouped_2015_raw[\"average_medicare_payments\"] = grouped_2015_raw[\"average_medicare_payments\"]"
   ]
  },
  {
   "cell_type": "code",
   "execution_count": 28,
   "metadata": {},
   "outputs": [],
   "source": [
    "grouped_2015[\"average_medicare_payments\"] = grouped_2015[\"average_medicare_payments\"].map('${:,.2f}'.format)"
   ]
  },
  {
   "cell_type": "code",
   "execution_count": 29,
   "metadata": {},
   "outputs": [],
   "source": [
    "grouped_2015[\"total_discharges\"] = grouped_2015[\"total_discharges\"].map('{:,.2f}'.format)"
   ]
  },
  {
   "cell_type": "code",
   "execution_count": 30,
   "metadata": {},
   "outputs": [
    {
     "data": {
      "text/html": [
       "<div>\n",
       "<style scoped>\n",
       "    .dataframe tbody tr th:only-of-type {\n",
       "        vertical-align: middle;\n",
       "    }\n",
       "\n",
       "    .dataframe tbody tr th {\n",
       "        vertical-align: top;\n",
       "    }\n",
       "\n",
       "    .dataframe thead th {\n",
       "        text-align: right;\n",
       "    }\n",
       "</style>\n",
       "<table border=\"1\" class=\"dataframe\">\n",
       "  <thead>\n",
       "    <tr style=\"text-align: right;\">\n",
       "      <th></th>\n",
       "      <th>total_discharges</th>\n",
       "      <th>average_medicare_payments</th>\n",
       "    </tr>\n",
       "    <tr>\n",
       "      <th>drg_definition</th>\n",
       "      <th></th>\n",
       "      <th></th>\n",
       "    </tr>\n",
       "  </thead>\n",
       "  <tbody>\n",
       "    <tr>\n",
       "      <th>001 - HEART TRANSPLANT OR IMPLANT OF HEART ASSIST SYSTEM W MCC</th>\n",
       "      <td>1,633.00</td>\n",
       "      <td>$16,110,562.17</td>\n",
       "    </tr>\n",
       "    <tr>\n",
       "      <th>003 - ECMO OR TRACH W MV &gt;96 HRS OR PDX EXC FACE, MOUTH &amp; NECK W MAJ O.R.</th>\n",
       "      <td>11,224.00</td>\n",
       "      <td>$49,680,096.99</td>\n",
       "    </tr>\n",
       "    <tr>\n",
       "      <th>004 - TRACH W MV 96+ HRS OR PDX EXC FACE, MOUTH &amp; NECK W/O MAJ O.R.</th>\n",
       "      <td>11,206.00</td>\n",
       "      <td>$38,620,632.43</td>\n",
       "    </tr>\n",
       "    <tr>\n",
       "      <th>005 - LIVER TRANSPLANT W MCC OR INTESTINAL TRANSPLANT</th>\n",
       "      <td>870.00</td>\n",
       "      <td>$4,489,899.98</td>\n",
       "    </tr>\n",
       "    <tr>\n",
       "      <th>006 - LIVER TRANSPLANT W/O MCC</th>\n",
       "      <td>40.00</td>\n",
       "      <td>$101,338.59</td>\n",
       "    </tr>\n",
       "  </tbody>\n",
       "</table>\n",
       "</div>"
      ],
      "text/plain": [
       "                                                   total_discharges  \\\n",
       "drg_definition                                                        \n",
       "001 - HEART TRANSPLANT OR IMPLANT OF HEART ASSI...         1,633.00   \n",
       "003 - ECMO OR TRACH W MV >96 HRS OR PDX EXC FAC...        11,224.00   \n",
       "004 - TRACH W MV 96+ HRS OR PDX EXC FACE, MOUTH...        11,206.00   \n",
       "005 - LIVER TRANSPLANT W MCC OR INTESTINAL TRAN...           870.00   \n",
       "006 - LIVER TRANSPLANT W/O MCC                                40.00   \n",
       "\n",
       "                                                   average_medicare_payments  \n",
       "drg_definition                                                                \n",
       "001 - HEART TRANSPLANT OR IMPLANT OF HEART ASSI...            $16,110,562.17  \n",
       "003 - ECMO OR TRACH W MV >96 HRS OR PDX EXC FAC...            $49,680,096.99  \n",
       "004 - TRACH W MV 96+ HRS OR PDX EXC FACE, MOUTH...            $38,620,632.43  \n",
       "005 - LIVER TRANSPLANT W MCC OR INTESTINAL TRAN...             $4,489,899.98  \n",
       "006 - LIVER TRANSPLANT W/O MCC                                   $101,338.59  "
      ]
     },
     "execution_count": 30,
     "metadata": {},
     "output_type": "execute_result"
    }
   ],
   "source": [
    "grouped_2015.head()"
   ]
  },
  {
   "cell_type": "code",
   "execution_count": 33,
   "metadata": {},
   "outputs": [],
   "source": [
    "top_payments = (grouped_2015_raw.sort_values(\"average_medicare_payments\", ascending=False)).head(10)"
   ]
  },
  {
   "cell_type": "code",
   "execution_count": 34,
   "metadata": {},
   "outputs": [],
   "source": [
    "top_payments[\"total_discharges\"] = top_payments[\"total_discharges\"].map('{:,.2f}'.format)\n",
    "top_payments[\"average_medicare_payments\"] = top_payments[\"average_medicare_payments\"].map('${:,.2f}'.format)"
   ]
  },
  {
   "cell_type": "code",
   "execution_count": 35,
   "metadata": {},
   "outputs": [
    {
     "data": {
      "text/html": [
       "<div>\n",
       "<style scoped>\n",
       "    .dataframe tbody tr th:only-of-type {\n",
       "        vertical-align: middle;\n",
       "    }\n",
       "\n",
       "    .dataframe tbody tr th {\n",
       "        vertical-align: top;\n",
       "    }\n",
       "\n",
       "    .dataframe thead th {\n",
       "        text-align: right;\n",
       "    }\n",
       "</style>\n",
       "<table border=\"1\" class=\"dataframe\">\n",
       "  <thead>\n",
       "    <tr style=\"text-align: right;\">\n",
       "      <th></th>\n",
       "      <th>total_discharges</th>\n",
       "      <th>average_medicare_payments</th>\n",
       "    </tr>\n",
       "    <tr>\n",
       "      <th>drg_definition</th>\n",
       "      <th></th>\n",
       "      <th></th>\n",
       "    </tr>\n",
       "  </thead>\n",
       "  <tbody>\n",
       "    <tr>\n",
       "      <th>853 - INFECTIOUS &amp; PARASITIC DISEASES W O.R. PROCEDURE W MCC</th>\n",
       "      <td>62,551.00</td>\n",
       "      <td>$58,089,818.24</td>\n",
       "    </tr>\n",
       "    <tr>\n",
       "      <th>003 - ECMO OR TRACH W MV &gt;96 HRS OR PDX EXC FACE, MOUTH &amp; NECK W MAJ O.R.</th>\n",
       "      <td>11,224.00</td>\n",
       "      <td>$49,680,096.99</td>\n",
       "    </tr>\n",
       "    <tr>\n",
       "      <th>870 - SEPTICEMIA OR SEVERE SEPSIS W MV &gt;96 HOURS</th>\n",
       "      <td>30,390.00</td>\n",
       "      <td>$45,199,044.72</td>\n",
       "    </tr>\n",
       "    <tr>\n",
       "      <th>329 - MAJOR SMALL &amp; LARGE BOWEL PROCEDURES W MCC</th>\n",
       "      <td>29,982.00</td>\n",
       "      <td>$41,084,846.95</td>\n",
       "    </tr>\n",
       "    <tr>\n",
       "      <th>004 - TRACH W MV 96+ HRS OR PDX EXC FACE, MOUTH &amp; NECK W/O MAJ O.R.</th>\n",
       "      <td>11,206.00</td>\n",
       "      <td>$38,620,632.43</td>\n",
       "    </tr>\n",
       "    <tr>\n",
       "      <th>460 - SPINAL FUSION EXCEPT CERVICAL W/O MCC</th>\n",
       "      <td>74,833.00</td>\n",
       "      <td>$33,663,813.19</td>\n",
       "    </tr>\n",
       "    <tr>\n",
       "      <th>470 - MAJOR JOINT REPLACEMENT OR REATTACHMENT OF LOWER EXTREMITY W/O MCC</th>\n",
       "      <td>463,930.00</td>\n",
       "      <td>$33,242,389.19</td>\n",
       "    </tr>\n",
       "    <tr>\n",
       "      <th>871 - SEPTICEMIA OR SEVERE SEPSIS W/O MV 96+ HOURS W MCC</th>\n",
       "      <td>521,358.00</td>\n",
       "      <td>$32,622,944.31</td>\n",
       "    </tr>\n",
       "    <tr>\n",
       "      <th>207 - RESPIRATORY SYSTEM DIAGNOSIS W VENTILATOR SUPPORT 96+ HOURS</th>\n",
       "      <td>19,174.00</td>\n",
       "      <td>$32,267,319.94</td>\n",
       "    </tr>\n",
       "    <tr>\n",
       "      <th>208 - RESPIRATORY SYSTEM DIAGNOSIS W VENTILATOR SUPPORT &lt;96 HOURS</th>\n",
       "      <td>58,853.00</td>\n",
       "      <td>$26,555,433.93</td>\n",
       "    </tr>\n",
       "  </tbody>\n",
       "</table>\n",
       "</div>"
      ],
      "text/plain": [
       "                                                   total_discharges  \\\n",
       "drg_definition                                                        \n",
       "853 - INFECTIOUS & PARASITIC DISEASES W O.R. PR...        62,551.00   \n",
       "003 - ECMO OR TRACH W MV >96 HRS OR PDX EXC FAC...        11,224.00   \n",
       "870 - SEPTICEMIA OR SEVERE SEPSIS W MV >96 HOURS          30,390.00   \n",
       "329 - MAJOR SMALL & LARGE BOWEL PROCEDURES W MCC          29,982.00   \n",
       "004 - TRACH W MV 96+ HRS OR PDX EXC FACE, MOUTH...        11,206.00   \n",
       "460 - SPINAL FUSION EXCEPT CERVICAL W/O MCC               74,833.00   \n",
       "470 - MAJOR JOINT REPLACEMENT OR REATTACHMENT O...       463,930.00   \n",
       "871 - SEPTICEMIA OR SEVERE SEPSIS W/O MV 96+ HO...       521,358.00   \n",
       "207 - RESPIRATORY SYSTEM DIAGNOSIS W VENTILATOR...        19,174.00   \n",
       "208 - RESPIRATORY SYSTEM DIAGNOSIS W VENTILATOR...        58,853.00   \n",
       "\n",
       "                                                   average_medicare_payments  \n",
       "drg_definition                                                                \n",
       "853 - INFECTIOUS & PARASITIC DISEASES W O.R. PR...            $58,089,818.24  \n",
       "003 - ECMO OR TRACH W MV >96 HRS OR PDX EXC FAC...            $49,680,096.99  \n",
       "870 - SEPTICEMIA OR SEVERE SEPSIS W MV >96 HOURS              $45,199,044.72  \n",
       "329 - MAJOR SMALL & LARGE BOWEL PROCEDURES W MCC              $41,084,846.95  \n",
       "004 - TRACH W MV 96+ HRS OR PDX EXC FACE, MOUTH...            $38,620,632.43  \n",
       "460 - SPINAL FUSION EXCEPT CERVICAL W/O MCC                   $33,663,813.19  \n",
       "470 - MAJOR JOINT REPLACEMENT OR REATTACHMENT O...            $33,242,389.19  \n",
       "871 - SEPTICEMIA OR SEVERE SEPSIS W/O MV 96+ HO...            $32,622,944.31  \n",
       "207 - RESPIRATORY SYSTEM DIAGNOSIS W VENTILATOR...            $32,267,319.94  \n",
       "208 - RESPIRATORY SYSTEM DIAGNOSIS W VENTILATOR...            $26,555,433.93  "
      ]
     },
     "execution_count": 35,
     "metadata": {},
     "output_type": "execute_result"
    }
   ],
   "source": [
    "top_payments"
   ]
  },
  {
   "cell_type": "code",
   "execution_count": 36,
   "metadata": {},
   "outputs": [],
   "source": [
    "bottom_payments = (grouped_2015_raw.sort_values(\"average_medicare_payments\", ascending=True)).head(n=10)"
   ]
  },
  {
   "cell_type": "code",
   "execution_count": 37,
   "metadata": {},
   "outputs": [],
   "source": [
    "bottom_payments[\"total_discharges\"] = bottom_payments[\"total_discharges\"].map('{:,.2f}'.format)\n",
    "bottom_payments[\"average_medicare_payments\"] = bottom_payments[\"average_medicare_payments\"].map('${:,.2f}'.format)"
   ]
  },
  {
   "cell_type": "code",
   "execution_count": 38,
   "metadata": {},
   "outputs": [
    {
     "data": {
      "text/html": [
       "<div>\n",
       "<style scoped>\n",
       "    .dataframe tbody tr th:only-of-type {\n",
       "        vertical-align: middle;\n",
       "    }\n",
       "\n",
       "    .dataframe tbody tr th {\n",
       "        vertical-align: top;\n",
       "    }\n",
       "\n",
       "    .dataframe thead th {\n",
       "        text-align: right;\n",
       "    }\n",
       "</style>\n",
       "<table border=\"1\" class=\"dataframe\">\n",
       "  <thead>\n",
       "    <tr style=\"text-align: right;\">\n",
       "      <th></th>\n",
       "      <th>total_discharges</th>\n",
       "      <th>average_medicare_payments</th>\n",
       "    </tr>\n",
       "    <tr>\n",
       "      <th>drg_definition</th>\n",
       "      <th></th>\n",
       "      <th></th>\n",
       "    </tr>\n",
       "  </thead>\n",
       "  <tbody>\n",
       "    <tr>\n",
       "      <th>950 - AFTERCARE W/O CC/MCC</th>\n",
       "      <td>11.00</td>\n",
       "      <td>$2,741.64</td>\n",
       "    </tr>\n",
       "    <tr>\n",
       "      <th>188 - PLEURAL EFFUSION W/O CC/MCC</th>\n",
       "      <td>12.00</td>\n",
       "      <td>$3,978.75</td>\n",
       "    </tr>\n",
       "    <tr>\n",
       "      <th>514 - HAND OR WRIST PROC, EXCEPT MAJOR THUMB OR JOINT PROC W/O CC/MCC</th>\n",
       "      <td>23.00</td>\n",
       "      <td>$4,406.70</td>\n",
       "    </tr>\n",
       "    <tr>\n",
       "      <th>376 - DIGESTIVE MALIGNANCY W/O CC/MCC</th>\n",
       "      <td>11.00</td>\n",
       "      <td>$4,417.45</td>\n",
       "    </tr>\n",
       "    <tr>\n",
       "      <th>766 - CESAREAN SECTION W/O CC/MCC</th>\n",
       "      <td>12.00</td>\n",
       "      <td>$4,517.00</td>\n",
       "    </tr>\n",
       "    <tr>\n",
       "      <th>760 - MENSTRUAL &amp; OTHER FEMALE REPRODUCTIVE SYSTEM DISORDERS W CC/MCC</th>\n",
       "      <td>24.00</td>\n",
       "      <td>$4,755.21</td>\n",
       "    </tr>\n",
       "    <tr>\n",
       "      <th>989 - NON-EXTENSIVE O.R. PROC UNRELATED TO PRINCIPAL DIAGNOSIS W/O CC/MCC</th>\n",
       "      <td>13.00</td>\n",
       "      <td>$5,078.08</td>\n",
       "    </tr>\n",
       "    <tr>\n",
       "      <th>887 - OTHER MENTAL DISORDER DIAGNOSES</th>\n",
       "      <td>15.00</td>\n",
       "      <td>$5,240.47</td>\n",
       "    </tr>\n",
       "    <tr>\n",
       "      <th>102 - HEADACHES W MCC</th>\n",
       "      <td>11.00</td>\n",
       "      <td>$5,487.73</td>\n",
       "    </tr>\n",
       "    <tr>\n",
       "      <th>349 - ANAL &amp; STOMAL PROCEDURES W/O CC/MCC</th>\n",
       "      <td>11.00</td>\n",
       "      <td>$5,634.45</td>\n",
       "    </tr>\n",
       "  </tbody>\n",
       "</table>\n",
       "</div>"
      ],
      "text/plain": [
       "                                                   total_discharges  \\\n",
       "drg_definition                                                        \n",
       "950 - AFTERCARE W/O CC/MCC                                    11.00   \n",
       "188 - PLEURAL EFFUSION W/O CC/MCC                             12.00   \n",
       "514 - HAND OR WRIST PROC, EXCEPT MAJOR THUMB OR...            23.00   \n",
       "376 - DIGESTIVE MALIGNANCY W/O CC/MCC                         11.00   \n",
       "766 - CESAREAN SECTION W/O CC/MCC                             12.00   \n",
       "760 - MENSTRUAL & OTHER FEMALE REPRODUCTIVE SYS...            24.00   \n",
       "989 - NON-EXTENSIVE O.R. PROC UNRELATED TO PRIN...            13.00   \n",
       "887 - OTHER MENTAL DISORDER DIAGNOSES                         15.00   \n",
       "102 - HEADACHES W MCC                                         11.00   \n",
       "349 - ANAL & STOMAL PROCEDURES W/O CC/MCC                     11.00   \n",
       "\n",
       "                                                   average_medicare_payments  \n",
       "drg_definition                                                                \n",
       "950 - AFTERCARE W/O CC/MCC                                         $2,741.64  \n",
       "188 - PLEURAL EFFUSION W/O CC/MCC                                  $3,978.75  \n",
       "514 - HAND OR WRIST PROC, EXCEPT MAJOR THUMB OR...                 $4,406.70  \n",
       "376 - DIGESTIVE MALIGNANCY W/O CC/MCC                              $4,417.45  \n",
       "766 - CESAREAN SECTION W/O CC/MCC                                  $4,517.00  \n",
       "760 - MENSTRUAL & OTHER FEMALE REPRODUCTIVE SYS...                 $4,755.21  \n",
       "989 - NON-EXTENSIVE O.R. PROC UNRELATED TO PRIN...                 $5,078.08  \n",
       "887 - OTHER MENTAL DISORDER DIAGNOSES                              $5,240.47  \n",
       "102 - HEADACHES W MCC                                              $5,487.73  \n",
       "349 - ANAL & STOMAL PROCEDURES W/O CC/MCC                          $5,634.45  "
      ]
     },
     "execution_count": 38,
     "metadata": {},
     "output_type": "execute_result"
    }
   ],
   "source": [
    "bottom_payments"
   ]
  },
  {
   "cell_type": "code",
   "execution_count": 39,
   "metadata": {},
   "outputs": [],
   "source": [
    "all_payments = grouped_2015_raw[\"average_medicare_payments\"].sum()"
   ]
  },
  {
   "cell_type": "code",
   "execution_count": 40,
   "metadata": {},
   "outputs": [],
   "source": [
    "total_discharges = grouped_2015_raw[\"total_discharges\"].sum()"
   ]
  },
  {
   "cell_type": "code",
   "execution_count": 41,
   "metadata": {},
   "outputs": [],
   "source": [
    "summary_data = pd.DataFrame([{\"Total Payments for 2015\": all_payments, \"Total Discharges for 2015\": total_discharges}])"
   ]
  },
  {
   "cell_type": "code",
   "execution_count": 42,
   "metadata": {},
   "outputs": [],
   "source": [
    "summary_data[\"Total Discharges for 2015\"] = summary_data[\"Total Discharges for 2015\"].map('{:,.2f}'.format)\n",
    "summary_data[\"Total Payments for 2015\"] = summary_data[\"Total Payments for 2015\"].map('${:,.2f}'.format)"
   ]
  },
  {
   "cell_type": "code",
   "execution_count": 43,
   "metadata": {},
   "outputs": [
    {
     "data": {
      "text/html": [
       "<div>\n",
       "<style scoped>\n",
       "    .dataframe tbody tr th:only-of-type {\n",
       "        vertical-align: middle;\n",
       "    }\n",
       "\n",
       "    .dataframe tbody tr th {\n",
       "        vertical-align: top;\n",
       "    }\n",
       "\n",
       "    .dataframe thead th {\n",
       "        text-align: right;\n",
       "    }\n",
       "</style>\n",
       "<table border=\"1\" class=\"dataframe\">\n",
       "  <thead>\n",
       "    <tr style=\"text-align: right;\">\n",
       "      <th></th>\n",
       "      <th>Total Discharges for 2015</th>\n",
       "      <th>Total Payments for 2015</th>\n",
       "    </tr>\n",
       "  </thead>\n",
       "  <tbody>\n",
       "    <tr>\n",
       "      <th>0</th>\n",
       "      <td>7,433,268.00</td>\n",
       "      <td>$2,263,819,266.31</td>\n",
       "    </tr>\n",
       "  </tbody>\n",
       "</table>\n",
       "</div>"
      ],
      "text/plain": [
       "  Total Discharges for 2015 Total Payments for 2015\n",
       "0              7,433,268.00       $2,263,819,266.31"
      ]
     },
     "execution_count": 43,
     "metadata": {},
     "output_type": "execute_result"
    }
   ],
   "source": [
    "summary_data"
   ]
  },
  {
   "cell_type": "code",
   "execution_count": null,
   "metadata": {},
   "outputs": [],
   "source": []
  },
  {
   "cell_type": "code",
   "execution_count": null,
   "metadata": {},
   "outputs": [],
   "source": []
  }
 ],
 "metadata": {
  "kernelspec": {
   "display_name": "Python 3",
   "language": "python",
   "name": "python3"
  },
  "language_info": {
   "codemirror_mode": {
    "name": "ipython",
    "version": 3
   },
   "file_extension": ".py",
   "mimetype": "text/x-python",
   "name": "python",
   "nbconvert_exporter": "python",
   "pygments_lexer": "ipython3",
   "version": "3.7.3"
  }
 },
 "nbformat": 4,
 "nbformat_minor": 2
}
