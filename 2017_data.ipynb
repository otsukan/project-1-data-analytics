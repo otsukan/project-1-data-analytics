{
 "cells": [
  {
   "cell_type": "code",
   "execution_count": 1,
   "metadata": {},
   "outputs": [],
   "source": [
    "import pandas as pd\n",
    "import os"
   ]
  },
  {
   "cell_type": "code",
   "execution_count": 2,
   "metadata": {},
   "outputs": [],
   "source": [
    "data_2017 = os.path.join(\"Resources\", \"2017.csv\")"
   ]
  },
  {
   "cell_type": "code",
   "execution_count": 3,
   "metadata": {},
   "outputs": [],
   "source": [
    "data_2017 = pd.read_csv(data_2017)"
   ]
  },
  {
   "cell_type": "code",
   "execution_count": 4,
   "metadata": {},
   "outputs": [],
   "source": [
    "data_2017.columns = data_2017.columns.str.strip().str.lower().str.replace(' ', '_').str.replace('(', '').str.replace(')', '')"
   ]
  },
  {
   "cell_type": "code",
   "execution_count": 5,
   "metadata": {},
   "outputs": [],
   "source": [
    "data_2017 = data_2017[[\"drg_definition\", \"total_discharges\", \"average_medicare_payments\", \"average_total_payments\"]]"
   ]
  },
  {
   "cell_type": "code",
   "execution_count": 6,
   "metadata": {},
   "outputs": [],
   "source": [
    "grouped_2017 = data_2017.groupby(\"drg_definition\").sum()\n",
    "grouped_2017_raw = data_2017.groupby(\"drg_definition\").sum()"
   ]
  },
  {
   "cell_type": "code",
   "execution_count": 7,
   "metadata": {},
   "outputs": [],
   "source": [
    "grouped_2017[\"average_medicare_payments\"] = grouped_2017[\"average_medicare_payments\"].map('${:,.2f}'.format)"
   ]
  },
  {
   "cell_type": "code",
   "execution_count": 8,
   "metadata": {},
   "outputs": [],
   "source": [
    "grouped_2017[\"total_discharges\"] = grouped_2017[\"total_discharges\"].map('{:,.2f}'.format)"
   ]
  },
  {
   "cell_type": "code",
   "execution_count": 9,
   "metadata": {},
   "outputs": [],
   "source": [
    "grouped_2017[\"average_total_payments\"] = grouped_2017[\"average_total_payments\"].map('${:,.2f}'.format)"
   ]
  },
  {
   "cell_type": "code",
   "execution_count": 10,
   "metadata": {},
   "outputs": [
    {
     "data": {
      "text/html": [
       "<div>\n",
       "<style scoped>\n",
       "    .dataframe tbody tr th:only-of-type {\n",
       "        vertical-align: middle;\n",
       "    }\n",
       "\n",
       "    .dataframe tbody tr th {\n",
       "        vertical-align: top;\n",
       "    }\n",
       "\n",
       "    .dataframe thead th {\n",
       "        text-align: right;\n",
       "    }\n",
       "</style>\n",
       "<table border=\"1\" class=\"dataframe\">\n",
       "  <thead>\n",
       "    <tr style=\"text-align: right;\">\n",
       "      <th></th>\n",
       "      <th>total_discharges</th>\n",
       "      <th>average_medicare_payments</th>\n",
       "      <th>average_total_payments</th>\n",
       "    </tr>\n",
       "    <tr>\n",
       "      <th>drg_definition</th>\n",
       "      <th></th>\n",
       "      <th></th>\n",
       "      <th></th>\n",
       "    </tr>\n",
       "  </thead>\n",
       "  <tbody>\n",
       "    <tr>\n",
       "      <th>001 - HEART TRANSPLANT OR IMPLANT OF HEART ASSIST SYSTEM W MCC</th>\n",
       "      <td>1,955.00</td>\n",
       "      <td>$18,893,097.91</td>\n",
       "      <td>$21,464,152.81</td>\n",
       "    </tr>\n",
       "    <tr>\n",
       "      <th>003 - ECMO OR TRACH W MV &gt;96 HRS OR PDX EXC FACE, MOUTH &amp; NECK W MAJ O.R.</th>\n",
       "      <td>11,695.00</td>\n",
       "      <td>$54,524,024.02</td>\n",
       "      <td>$60,450,304.73</td>\n",
       "    </tr>\n",
       "    <tr>\n",
       "      <th>004 - TRACH W MV &gt;96 HRS OR PDX EXC FACE, MOUTH &amp; NECK W/O MAJ O.R.</th>\n",
       "      <td>8,328.00</td>\n",
       "      <td>$31,831,570.46</td>\n",
       "      <td>$35,652,867.60</td>\n",
       "    </tr>\n",
       "    <tr>\n",
       "      <th>005 - LIVER TRANSPLANT W MCC OR INTESTINAL TRANSPLANT</th>\n",
       "      <td>1,080.00</td>\n",
       "      <td>$5,048,451.70</td>\n",
       "      <td>$6,570,982.31</td>\n",
       "    </tr>\n",
       "    <tr>\n",
       "      <th>006 - LIVER TRANSPLANT W/O MCC</th>\n",
       "      <td>143.00</td>\n",
       "      <td>$432,180.38</td>\n",
       "      <td>$627,148.38</td>\n",
       "    </tr>\n",
       "  </tbody>\n",
       "</table>\n",
       "</div>"
      ],
      "text/plain": [
       "                                                   total_discharges  \\\n",
       "drg_definition                                                        \n",
       "001 - HEART TRANSPLANT OR IMPLANT OF HEART ASSI...         1,955.00   \n",
       "003 - ECMO OR TRACH W MV >96 HRS OR PDX EXC FAC...        11,695.00   \n",
       "004 - TRACH W MV >96 HRS OR PDX EXC FACE, MOUTH...         8,328.00   \n",
       "005 - LIVER TRANSPLANT W MCC OR INTESTINAL TRAN...         1,080.00   \n",
       "006 - LIVER TRANSPLANT W/O MCC                               143.00   \n",
       "\n",
       "                                                   average_medicare_payments  \\\n",
       "drg_definition                                                                 \n",
       "001 - HEART TRANSPLANT OR IMPLANT OF HEART ASSI...            $18,893,097.91   \n",
       "003 - ECMO OR TRACH W MV >96 HRS OR PDX EXC FAC...            $54,524,024.02   \n",
       "004 - TRACH W MV >96 HRS OR PDX EXC FACE, MOUTH...            $31,831,570.46   \n",
       "005 - LIVER TRANSPLANT W MCC OR INTESTINAL TRAN...             $5,048,451.70   \n",
       "006 - LIVER TRANSPLANT W/O MCC                                   $432,180.38   \n",
       "\n",
       "                                                   average_total_payments  \n",
       "drg_definition                                                             \n",
       "001 - HEART TRANSPLANT OR IMPLANT OF HEART ASSI...         $21,464,152.81  \n",
       "003 - ECMO OR TRACH W MV >96 HRS OR PDX EXC FAC...         $60,450,304.73  \n",
       "004 - TRACH W MV >96 HRS OR PDX EXC FACE, MOUTH...         $35,652,867.60  \n",
       "005 - LIVER TRANSPLANT W MCC OR INTESTINAL TRAN...          $6,570,982.31  \n",
       "006 - LIVER TRANSPLANT W/O MCC                                $627,148.38  "
      ]
     },
     "execution_count": 10,
     "metadata": {},
     "output_type": "execute_result"
    }
   ],
   "source": [
    "grouped_2017.head()"
   ]
  },
  {
   "cell_type": "code",
   "execution_count": 11,
   "metadata": {},
   "outputs": [],
   "source": [
    "top_payments = (grouped_2017_raw.sort_values(\"average_medicare_payments\", ascending=False)).head(10)"
   ]
  },
  {
   "cell_type": "code",
   "execution_count": 12,
   "metadata": {},
   "outputs": [],
   "source": [
    "top_payments[\"total_discharges\"] = top_payments[\"total_discharges\"].map('{:,.2f}'.format)\n",
    "top_payments[\"average_medicare_payments\"] = top_payments[\"average_medicare_payments\"].map('${:,.2f}'.format)\n",
    "top_payments[\"average_total_payments\"] = top_payments[\"average_total_payments\"].map('${:,.2f}'.format)"
   ]
  },
  {
   "cell_type": "code",
   "execution_count": 13,
   "metadata": {},
   "outputs": [
    {
     "data": {
      "text/html": [
       "<div>\n",
       "<style scoped>\n",
       "    .dataframe tbody tr th:only-of-type {\n",
       "        vertical-align: middle;\n",
       "    }\n",
       "\n",
       "    .dataframe tbody tr th {\n",
       "        vertical-align: top;\n",
       "    }\n",
       "\n",
       "    .dataframe thead th {\n",
       "        text-align: right;\n",
       "    }\n",
       "</style>\n",
       "<table border=\"1\" class=\"dataframe\">\n",
       "  <thead>\n",
       "    <tr style=\"text-align: right;\">\n",
       "      <th></th>\n",
       "      <th>total_discharges</th>\n",
       "      <th>average_medicare_payments</th>\n",
       "      <th>average_total_payments</th>\n",
       "    </tr>\n",
       "    <tr>\n",
       "      <th>drg_definition</th>\n",
       "      <th></th>\n",
       "      <th></th>\n",
       "      <th></th>\n",
       "    </tr>\n",
       "  </thead>\n",
       "  <tbody>\n",
       "    <tr>\n",
       "      <th>853 - INFECTIOUS &amp; PARASITIC DISEASES W O.R. PROCEDURE W MCC</th>\n",
       "      <td>78,288.00</td>\n",
       "      <td>$63,023,812.34</td>\n",
       "      <td>$69,709,555.15</td>\n",
       "    </tr>\n",
       "    <tr>\n",
       "      <th>003 - ECMO OR TRACH W MV &gt;96 HRS OR PDX EXC FACE, MOUTH &amp; NECK W MAJ O.R.</th>\n",
       "      <td>11,695.00</td>\n",
       "      <td>$54,524,024.02</td>\n",
       "      <td>$60,450,304.73</td>\n",
       "    </tr>\n",
       "    <tr>\n",
       "      <th>870 - SEPTICEMIA OR SEVERE SEPSIS W MV &gt;96 HOURS</th>\n",
       "      <td>26,984.00</td>\n",
       "      <td>$43,778,075.37</td>\n",
       "      <td>$48,179,583.93</td>\n",
       "    </tr>\n",
       "    <tr>\n",
       "      <th>329 - MAJOR SMALL &amp; LARGE BOWEL PROCEDURES W MCC</th>\n",
       "      <td>28,820.00</td>\n",
       "      <td>$38,580,857.31</td>\n",
       "      <td>$42,993,009.83</td>\n",
       "    </tr>\n",
       "    <tr>\n",
       "      <th>460 - SPINAL FUSION EXCEPT CERVICAL W/O MCC</th>\n",
       "      <td>76,568.00</td>\n",
       "      <td>$34,016,903.08</td>\n",
       "      <td>$40,138,523.34</td>\n",
       "    </tr>\n",
       "    <tr>\n",
       "      <th>470 - MAJOR JOINT REPLACEMENT OR REATTACHMENT OF LOWER EXTREMITY W/O MCC</th>\n",
       "      <td>510,632.00</td>\n",
       "      <td>$32,479,768.94</td>\n",
       "      <td>$40,211,432.88</td>\n",
       "    </tr>\n",
       "    <tr>\n",
       "      <th>871 - SEPTICEMIA OR SEVERE SEPSIS W/O MV &gt;96 HOURS W MCC</th>\n",
       "      <td>597,736.00</td>\n",
       "      <td>$32,359,370.44</td>\n",
       "      <td>$37,048,991.16</td>\n",
       "    </tr>\n",
       "    <tr>\n",
       "      <th>004 - TRACH W MV &gt;96 HRS OR PDX EXC FACE, MOUTH &amp; NECK W/O MAJ O.R.</th>\n",
       "      <td>8,328.00</td>\n",
       "      <td>$31,831,570.46</td>\n",
       "      <td>$35,652,867.60</td>\n",
       "    </tr>\n",
       "    <tr>\n",
       "      <th>981 - EXTENSIVE O.R. PROCEDURE UNRELATED TO PRINCIPAL DIAGNOSIS W MCC</th>\n",
       "      <td>23,846.00</td>\n",
       "      <td>$30,900,114.78</td>\n",
       "      <td>$34,238,493.82</td>\n",
       "    </tr>\n",
       "    <tr>\n",
       "      <th>246 - PERC CARDIOVASC PROC W DRUG-ELUTING STENT W MCC OR 4+ VESSELS/STENTS</th>\n",
       "      <td>43,512.00</td>\n",
       "      <td>$26,955,700.12</td>\n",
       "      <td>$30,655,201.42</td>\n",
       "    </tr>\n",
       "  </tbody>\n",
       "</table>\n",
       "</div>"
      ],
      "text/plain": [
       "                                                   total_discharges  \\\n",
       "drg_definition                                                        \n",
       "853 - INFECTIOUS & PARASITIC DISEASES W O.R. PR...        78,288.00   \n",
       "003 - ECMO OR TRACH W MV >96 HRS OR PDX EXC FAC...        11,695.00   \n",
       "870 - SEPTICEMIA OR SEVERE SEPSIS W MV >96 HOURS          26,984.00   \n",
       "329 - MAJOR SMALL & LARGE BOWEL PROCEDURES W MCC          28,820.00   \n",
       "460 - SPINAL FUSION EXCEPT CERVICAL W/O MCC               76,568.00   \n",
       "470 - MAJOR JOINT REPLACEMENT OR REATTACHMENT O...       510,632.00   \n",
       "871 - SEPTICEMIA OR SEVERE SEPSIS W/O MV >96 HO...       597,736.00   \n",
       "004 - TRACH W MV >96 HRS OR PDX EXC FACE, MOUTH...         8,328.00   \n",
       "981 - EXTENSIVE O.R. PROCEDURE UNRELATED TO PRI...        23,846.00   \n",
       "246 - PERC CARDIOVASC PROC W DRUG-ELUTING STENT...        43,512.00   \n",
       "\n",
       "                                                   average_medicare_payments  \\\n",
       "drg_definition                                                                 \n",
       "853 - INFECTIOUS & PARASITIC DISEASES W O.R. PR...            $63,023,812.34   \n",
       "003 - ECMO OR TRACH W MV >96 HRS OR PDX EXC FAC...            $54,524,024.02   \n",
       "870 - SEPTICEMIA OR SEVERE SEPSIS W MV >96 HOURS              $43,778,075.37   \n",
       "329 - MAJOR SMALL & LARGE BOWEL PROCEDURES W MCC              $38,580,857.31   \n",
       "460 - SPINAL FUSION EXCEPT CERVICAL W/O MCC                   $34,016,903.08   \n",
       "470 - MAJOR JOINT REPLACEMENT OR REATTACHMENT O...            $32,479,768.94   \n",
       "871 - SEPTICEMIA OR SEVERE SEPSIS W/O MV >96 HO...            $32,359,370.44   \n",
       "004 - TRACH W MV >96 HRS OR PDX EXC FACE, MOUTH...            $31,831,570.46   \n",
       "981 - EXTENSIVE O.R. PROCEDURE UNRELATED TO PRI...            $30,900,114.78   \n",
       "246 - PERC CARDIOVASC PROC W DRUG-ELUTING STENT...            $26,955,700.12   \n",
       "\n",
       "                                                   average_total_payments  \n",
       "drg_definition                                                             \n",
       "853 - INFECTIOUS & PARASITIC DISEASES W O.R. PR...         $69,709,555.15  \n",
       "003 - ECMO OR TRACH W MV >96 HRS OR PDX EXC FAC...         $60,450,304.73  \n",
       "870 - SEPTICEMIA OR SEVERE SEPSIS W MV >96 HOURS           $48,179,583.93  \n",
       "329 - MAJOR SMALL & LARGE BOWEL PROCEDURES W MCC           $42,993,009.83  \n",
       "460 - SPINAL FUSION EXCEPT CERVICAL W/O MCC                $40,138,523.34  \n",
       "470 - MAJOR JOINT REPLACEMENT OR REATTACHMENT O...         $40,211,432.88  \n",
       "871 - SEPTICEMIA OR SEVERE SEPSIS W/O MV >96 HO...         $37,048,991.16  \n",
       "004 - TRACH W MV >96 HRS OR PDX EXC FACE, MOUTH...         $35,652,867.60  \n",
       "981 - EXTENSIVE O.R. PROCEDURE UNRELATED TO PRI...         $34,238,493.82  \n",
       "246 - PERC CARDIOVASC PROC W DRUG-ELUTING STENT...         $30,655,201.42  "
      ]
     },
     "execution_count": 13,
     "metadata": {},
     "output_type": "execute_result"
    }
   ],
   "source": [
    "top_payments"
   ]
  },
  {
   "cell_type": "code",
   "execution_count": 14,
   "metadata": {},
   "outputs": [],
   "source": [
    "bottom_payments = (grouped_2017_raw.sort_values(\"average_medicare_payments\", ascending=True)).head(n=10)"
   ]
  },
  {
   "cell_type": "code",
   "execution_count": 15,
   "metadata": {},
   "outputs": [],
   "source": [
    "bottom_payments[\"total_discharges\"] = bottom_payments[\"total_discharges\"].map('{:,.2f}'.format)\n",
    "bottom_payments[\"average_medicare_payments\"] = bottom_payments[\"average_medicare_payments\"].map('${:,.2f}'.format)\n",
    "bottom_payments[\"average_total_payments\"] = bottom_payments[\"average_total_payments\"].map('${:,.2f}'.format)"
   ]
  },
  {
   "cell_type": "code",
   "execution_count": 16,
   "metadata": {},
   "outputs": [
    {
     "data": {
      "text/html": [
       "<div>\n",
       "<style scoped>\n",
       "    .dataframe tbody tr th:only-of-type {\n",
       "        vertical-align: middle;\n",
       "    }\n",
       "\n",
       "    .dataframe tbody tr th {\n",
       "        vertical-align: top;\n",
       "    }\n",
       "\n",
       "    .dataframe thead th {\n",
       "        text-align: right;\n",
       "    }\n",
       "</style>\n",
       "<table border=\"1\" class=\"dataframe\">\n",
       "  <thead>\n",
       "    <tr style=\"text-align: right;\">\n",
       "      <th></th>\n",
       "      <th>total_discharges</th>\n",
       "      <th>average_medicare_payments</th>\n",
       "      <th>average_total_payments</th>\n",
       "    </tr>\n",
       "    <tr>\n",
       "      <th>drg_definition</th>\n",
       "      <th></th>\n",
       "      <th></th>\n",
       "      <th></th>\n",
       "    </tr>\n",
       "  </thead>\n",
       "  <tbody>\n",
       "    <tr>\n",
       "      <th>198 - INTERSTITIAL LUNG DISEASE W/O CC/MCC</th>\n",
       "      <td>25.00</td>\n",
       "      <td>$112.24</td>\n",
       "      <td>$17,827.84</td>\n",
       "    </tr>\n",
       "    <tr>\n",
       "      <th>816 - RETICULOENDOTHELIAL &amp; IMMUNITY DISORDERS W/O CC/MCC</th>\n",
       "      <td>14.00</td>\n",
       "      <td>$3,763.64</td>\n",
       "      <td>$5,287.07</td>\n",
       "    </tr>\n",
       "    <tr>\n",
       "      <th>156 - OTHER EAR, NOSE, MOUTH &amp; THROAT DIAGNOSES W/O CC/MCC</th>\n",
       "      <td>11.00</td>\n",
       "      <td>$3,868.55</td>\n",
       "      <td>$5,459.27</td>\n",
       "    </tr>\n",
       "    <tr>\n",
       "      <th>437 - MALIGNANCY OF HEPATOBILIARY SYSTEM OR PANCREAS W/O CC/MCC</th>\n",
       "      <td>14.00</td>\n",
       "      <td>$4,249.79</td>\n",
       "      <td>$9,128.64</td>\n",
       "    </tr>\n",
       "    <tr>\n",
       "      <th>869 - OTHER INFECTIOUS &amp; PARASITIC DISEASES DIAGNOSES W/O CC/MCC</th>\n",
       "      <td>12.00</td>\n",
       "      <td>$4,269.08</td>\n",
       "      <td>$5,707.42</td>\n",
       "    </tr>\n",
       "    <tr>\n",
       "      <th>766 - CESAREAN SECTION W/O CC/MCC</th>\n",
       "      <td>15.00</td>\n",
       "      <td>$4,347.20</td>\n",
       "      <td>$5,667.20</td>\n",
       "    </tr>\n",
       "    <tr>\n",
       "      <th>053 - SPINAL DISORDERS &amp; INJURIES W/O CC/MCC</th>\n",
       "      <td>13.00</td>\n",
       "      <td>$4,386.15</td>\n",
       "      <td>$5,695.69</td>\n",
       "    </tr>\n",
       "    <tr>\n",
       "      <th>514 - HAND OR WRIST PROC, EXCEPT MAJOR THUMB OR JOINT PROC W/O CC/MCC</th>\n",
       "      <td>12.00</td>\n",
       "      <td>$4,549.75</td>\n",
       "      <td>$7,904.58</td>\n",
       "    </tr>\n",
       "    <tr>\n",
       "      <th>760 - MENSTRUAL &amp; OTHER FEMALE REPRODUCTIVE SYSTEM DISORDERS W CC/MCC</th>\n",
       "      <td>11.00</td>\n",
       "      <td>$4,790.45</td>\n",
       "      <td>$6,183.36</td>\n",
       "    </tr>\n",
       "    <tr>\n",
       "      <th>201 - PNEUMOTHORAX W/O CC/MCC</th>\n",
       "      <td>11.00</td>\n",
       "      <td>$5,102.27</td>\n",
       "      <td>$8,208.91</td>\n",
       "    </tr>\n",
       "  </tbody>\n",
       "</table>\n",
       "</div>"
      ],
      "text/plain": [
       "                                                   total_discharges  \\\n",
       "drg_definition                                                        \n",
       "198 - INTERSTITIAL LUNG DISEASE W/O CC/MCC                    25.00   \n",
       "816 - RETICULOENDOTHELIAL & IMMUNITY DISORDERS ...            14.00   \n",
       "156 - OTHER EAR, NOSE, MOUTH & THROAT DIAGNOSES...            11.00   \n",
       "437 - MALIGNANCY OF HEPATOBILIARY SYSTEM OR PAN...            14.00   \n",
       "869 - OTHER INFECTIOUS & PARASITIC DISEASES DIA...            12.00   \n",
       "766 - CESAREAN SECTION W/O CC/MCC                             15.00   \n",
       "053 - SPINAL DISORDERS & INJURIES W/O CC/MCC                  13.00   \n",
       "514 - HAND OR WRIST PROC, EXCEPT MAJOR THUMB OR...            12.00   \n",
       "760 - MENSTRUAL & OTHER FEMALE REPRODUCTIVE SYS...            11.00   \n",
       "201 - PNEUMOTHORAX W/O CC/MCC                                 11.00   \n",
       "\n",
       "                                                   average_medicare_payments  \\\n",
       "drg_definition                                                                 \n",
       "198 - INTERSTITIAL LUNG DISEASE W/O CC/MCC                           $112.24   \n",
       "816 - RETICULOENDOTHELIAL & IMMUNITY DISORDERS ...                 $3,763.64   \n",
       "156 - OTHER EAR, NOSE, MOUTH & THROAT DIAGNOSES...                 $3,868.55   \n",
       "437 - MALIGNANCY OF HEPATOBILIARY SYSTEM OR PAN...                 $4,249.79   \n",
       "869 - OTHER INFECTIOUS & PARASITIC DISEASES DIA...                 $4,269.08   \n",
       "766 - CESAREAN SECTION W/O CC/MCC                                  $4,347.20   \n",
       "053 - SPINAL DISORDERS & INJURIES W/O CC/MCC                       $4,386.15   \n",
       "514 - HAND OR WRIST PROC, EXCEPT MAJOR THUMB OR...                 $4,549.75   \n",
       "760 - MENSTRUAL & OTHER FEMALE REPRODUCTIVE SYS...                 $4,790.45   \n",
       "201 - PNEUMOTHORAX W/O CC/MCC                                      $5,102.27   \n",
       "\n",
       "                                                   average_total_payments  \n",
       "drg_definition                                                             \n",
       "198 - INTERSTITIAL LUNG DISEASE W/O CC/MCC                     $17,827.84  \n",
       "816 - RETICULOENDOTHELIAL & IMMUNITY DISORDERS ...              $5,287.07  \n",
       "156 - OTHER EAR, NOSE, MOUTH & THROAT DIAGNOSES...              $5,459.27  \n",
       "437 - MALIGNANCY OF HEPATOBILIARY SYSTEM OR PAN...              $9,128.64  \n",
       "869 - OTHER INFECTIOUS & PARASITIC DISEASES DIA...              $5,707.42  \n",
       "766 - CESAREAN SECTION W/O CC/MCC                               $5,667.20  \n",
       "053 - SPINAL DISORDERS & INJURIES W/O CC/MCC                    $5,695.69  \n",
       "514 - HAND OR WRIST PROC, EXCEPT MAJOR THUMB OR...              $7,904.58  \n",
       "760 - MENSTRUAL & OTHER FEMALE REPRODUCTIVE SYS...              $6,183.36  \n",
       "201 - PNEUMOTHORAX W/O CC/MCC                                   $8,208.91  "
      ]
     },
     "execution_count": 16,
     "metadata": {},
     "output_type": "execute_result"
    }
   ],
   "source": [
    "bottom_payments"
   ]
  },
  {
   "cell_type": "code",
   "execution_count": 17,
   "metadata": {},
   "outputs": [],
   "source": [
    "all_payments = grouped_2017_raw[\"average_medicare_payments\"].sum()"
   ]
  },
  {
   "cell_type": "code",
   "execution_count": 18,
   "metadata": {},
   "outputs": [],
   "source": [
    "total_discharges = grouped_2017_raw[\"total_discharges\"].sum()"
   ]
  },
  {
   "cell_type": "code",
   "execution_count": 19,
   "metadata": {},
   "outputs": [],
   "source": [
    "total_average_payments = grouped_2017_raw[\"average_total_payments\"].sum()"
   ]
  },
  {
   "cell_type": "code",
   "execution_count": 20,
   "metadata": {},
   "outputs": [],
   "source": [
    "summary_data = pd.DataFrame([{\"Total Medicare Payments for 2017\": all_payments, \"Total Discharges for 2017\": total_discharges, \"Total Payments for 2017\": total_average_payments}])"
   ]
  },
  {
   "cell_type": "code",
   "execution_count": 21,
   "metadata": {},
   "outputs": [],
   "source": [
    "summary_data[\"Total Discharges for 2017\"] = summary_data[\"Total Discharges for 2017\"].map('{:,.2f}'.format)\n",
    "summary_data[\"Total Medicare Payments for 2017\"] = summary_data[\"Total Medicare Payments for 2017\"].map('${:,.2f}'.format)\n",
    "summary_data[\"Total Payments for 2017\"] = summary_data[\"Total Payments for 2017\"].map('${:,.2f}'.format)\n"
   ]
  },
  {
   "cell_type": "code",
   "execution_count": 22,
   "metadata": {},
   "outputs": [
    {
     "data": {
      "text/html": [
       "<div>\n",
       "<style scoped>\n",
       "    .dataframe tbody tr th:only-of-type {\n",
       "        vertical-align: middle;\n",
       "    }\n",
       "\n",
       "    .dataframe tbody tr th {\n",
       "        vertical-align: top;\n",
       "    }\n",
       "\n",
       "    .dataframe thead th {\n",
       "        text-align: right;\n",
       "    }\n",
       "</style>\n",
       "<table border=\"1\" class=\"dataframe\">\n",
       "  <thead>\n",
       "    <tr style=\"text-align: right;\">\n",
       "      <th></th>\n",
       "      <th>Total Discharges for 2017</th>\n",
       "      <th>Total Medicare Payments for 2017</th>\n",
       "      <th>Total Payments for 2017</th>\n",
       "    </tr>\n",
       "  </thead>\n",
       "  <tbody>\n",
       "    <tr>\n",
       "      <th>0</th>\n",
       "      <td>7,382,688.00</td>\n",
       "      <td>$2,319,822,335.65</td>\n",
       "      <td>$2,744,269,073.57</td>\n",
       "    </tr>\n",
       "  </tbody>\n",
       "</table>\n",
       "</div>"
      ],
      "text/plain": [
       "  Total Discharges for 2017 Total Medicare Payments for 2017  \\\n",
       "0              7,382,688.00                $2,319,822,335.65   \n",
       "\n",
       "  Total Payments for 2017  \n",
       "0       $2,744,269,073.57  "
      ]
     },
     "execution_count": 22,
     "metadata": {},
     "output_type": "execute_result"
    }
   ],
   "source": [
    "summary_data"
   ]
  },
  {
   "cell_type": "code",
   "execution_count": null,
   "metadata": {},
   "outputs": [],
   "source": []
  },
  {
   "cell_type": "code",
   "execution_count": null,
   "metadata": {},
   "outputs": [],
   "source": []
  }
 ],
 "metadata": {
  "kernelspec": {
   "display_name": "Python 3",
   "language": "python",
   "name": "python3"
  },
  "language_info": {
   "codemirror_mode": {
    "name": "ipython",
    "version": 3
   },
   "file_extension": ".py",
   "mimetype": "text/x-python",
   "name": "python",
   "nbconvert_exporter": "python",
   "pygments_lexer": "ipython3",
   "version": "3.7.3"
  }
 },
 "nbformat": 4,
 "nbformat_minor": 2
}
