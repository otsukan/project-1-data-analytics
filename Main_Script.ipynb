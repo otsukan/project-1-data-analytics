{
 "cells": [
  {
   "cell_type": "code",
   "execution_count": 691,
   "metadata": {},
   "outputs": [],
   "source": [
    "import pandas as pd\n",
    "import os\n",
    "import numpy as np\n",
    "import matplotlib.pyplot as plt"
   ]
  },
  {
   "cell_type": "code",
   "execution_count": 692,
   "metadata": {},
   "outputs": [],
   "source": [
    "data_2017 = os.path.join(\"Resources\", \"2017.csv\")\n",
    "cost_of_living = os.path.join(\"Resources\", \"cost_of_living.csv\")\n",
    "physician_data = os.path.join(\"Resources\", \"physician_data.csv\")\n",
    "nurse_data = os.path.join(\"Resources\", \"nurse_data.csv\")\n",
    "PA_data = os.path.join(\"Resources\", \"PA_data.csv\")"
   ]
  },
  {
   "cell_type": "code",
   "execution_count": 693,
   "metadata": {},
   "outputs": [],
   "source": [
    "data_2017 = pd.read_csv(data_2017)\n",
    "cost_of_living = pd.read_csv(cost_of_living)\n",
    "physician_data = pd.read_csv(physician_data)\n",
    "nurse_data = pd.read_csv(nurse_data)\n",
    "PA_data = pd.read_csv(PA_data)"
   ]
  },
  {
   "cell_type": "code",
   "execution_count": 694,
   "metadata": {},
   "outputs": [
    {
     "data": {
      "text/html": [
       "<div>\n",
       "<style scoped>\n",
       "    .dataframe tbody tr th:only-of-type {\n",
       "        vertical-align: middle;\n",
       "    }\n",
       "\n",
       "    .dataframe tbody tr th {\n",
       "        vertical-align: top;\n",
       "    }\n",
       "\n",
       "    .dataframe thead th {\n",
       "        text-align: right;\n",
       "    }\n",
       "</style>\n",
       "<table border=\"1\" class=\"dataframe\">\n",
       "  <thead>\n",
       "    <tr style=\"text-align: right;\">\n",
       "      <th></th>\n",
       "      <th>Location</th>\n",
       "      <th>Total</th>\n",
       "    </tr>\n",
       "  </thead>\n",
       "  <tbody>\n",
       "    <tr>\n",
       "      <th>0</th>\n",
       "      <td>United States</td>\n",
       "      <td>88604.0</td>\n",
       "    </tr>\n",
       "    <tr>\n",
       "      <th>1</th>\n",
       "      <td>Alabama</td>\n",
       "      <td>535.0</td>\n",
       "    </tr>\n",
       "    <tr>\n",
       "      <th>2</th>\n",
       "      <td>Alaska</td>\n",
       "      <td>346.0</td>\n",
       "    </tr>\n",
       "    <tr>\n",
       "      <th>3</th>\n",
       "      <td>Arizona</td>\n",
       "      <td>1940.0</td>\n",
       "    </tr>\n",
       "    <tr>\n",
       "      <th>4</th>\n",
       "      <td>Arkansas</td>\n",
       "      <td>209.0</td>\n",
       "    </tr>\n",
       "  </tbody>\n",
       "</table>\n",
       "</div>"
      ],
      "text/plain": [
       "        Location    Total\n",
       "0  United States  88604.0\n",
       "1        Alabama    535.0\n",
       "2         Alaska    346.0\n",
       "3        Arizona   1940.0\n",
       "4       Arkansas    209.0"
      ]
     },
     "execution_count": 694,
     "metadata": {},
     "output_type": "execute_result"
    }
   ],
   "source": [
    "PA_data.head()"
   ]
  },
  {
   "cell_type": "code",
   "execution_count": 695,
   "metadata": {},
   "outputs": [],
   "source": [
    "pa_data = PA_data.rename(columns={\"Location\": \"State\", \"Total\": \"pa_total\"})"
   ]
  },
  {
   "cell_type": "code",
   "execution_count": 696,
   "metadata": {},
   "outputs": [
    {
     "data": {
      "text/html": [
       "<div>\n",
       "<style scoped>\n",
       "    .dataframe tbody tr th:only-of-type {\n",
       "        vertical-align: middle;\n",
       "    }\n",
       "\n",
       "    .dataframe tbody tr th {\n",
       "        vertical-align: top;\n",
       "    }\n",
       "\n",
       "    .dataframe thead th {\n",
       "        text-align: right;\n",
       "    }\n",
       "</style>\n",
       "<table border=\"1\" class=\"dataframe\">\n",
       "  <thead>\n",
       "    <tr style=\"text-align: right;\">\n",
       "      <th></th>\n",
       "      <th>State</th>\n",
       "      <th>pa_total</th>\n",
       "    </tr>\n",
       "  </thead>\n",
       "  <tbody>\n",
       "    <tr>\n",
       "      <th>0</th>\n",
       "      <td>United States</td>\n",
       "      <td>88604.0</td>\n",
       "    </tr>\n",
       "    <tr>\n",
       "      <th>1</th>\n",
       "      <td>Alabama</td>\n",
       "      <td>535.0</td>\n",
       "    </tr>\n",
       "    <tr>\n",
       "      <th>2</th>\n",
       "      <td>Alaska</td>\n",
       "      <td>346.0</td>\n",
       "    </tr>\n",
       "    <tr>\n",
       "      <th>3</th>\n",
       "      <td>Arizona</td>\n",
       "      <td>1940.0</td>\n",
       "    </tr>\n",
       "    <tr>\n",
       "      <th>4</th>\n",
       "      <td>Arkansas</td>\n",
       "      <td>209.0</td>\n",
       "    </tr>\n",
       "  </tbody>\n",
       "</table>\n",
       "</div>"
      ],
      "text/plain": [
       "           State  pa_total\n",
       "0  United States   88604.0\n",
       "1        Alabama     535.0\n",
       "2         Alaska     346.0\n",
       "3        Arizona    1940.0\n",
       "4       Arkansas     209.0"
      ]
     },
     "execution_count": 696,
     "metadata": {},
     "output_type": "execute_result"
    }
   ],
   "source": [
    "pa_data.head()"
   ]
  },
  {
   "cell_type": "code",
   "execution_count": 697,
   "metadata": {},
   "outputs": [
    {
     "data": {
      "text/html": [
       "<div>\n",
       "<style scoped>\n",
       "    .dataframe tbody tr th:only-of-type {\n",
       "        vertical-align: middle;\n",
       "    }\n",
       "\n",
       "    .dataframe tbody tr th {\n",
       "        vertical-align: top;\n",
       "    }\n",
       "\n",
       "    .dataframe thead th {\n",
       "        text-align: right;\n",
       "    }\n",
       "</style>\n",
       "<table border=\"1\" class=\"dataframe\">\n",
       "  <thead>\n",
       "    <tr style=\"text-align: right;\">\n",
       "      <th></th>\n",
       "      <th>Location</th>\n",
       "      <th>Total</th>\n",
       "    </tr>\n",
       "  </thead>\n",
       "  <tbody>\n",
       "    <tr>\n",
       "      <th>0</th>\n",
       "      <td>United States</td>\n",
       "      <td>165480.0</td>\n",
       "    </tr>\n",
       "    <tr>\n",
       "      <th>1</th>\n",
       "      <td>Alabama</td>\n",
       "      <td>2537.0</td>\n",
       "    </tr>\n",
       "    <tr>\n",
       "      <th>2</th>\n",
       "      <td>Alaska</td>\n",
       "      <td>480.0</td>\n",
       "    </tr>\n",
       "    <tr>\n",
       "      <th>3</th>\n",
       "      <td>Arizona</td>\n",
       "      <td>3403.0</td>\n",
       "    </tr>\n",
       "    <tr>\n",
       "      <th>4</th>\n",
       "      <td>Arkansas</td>\n",
       "      <td>1305.0</td>\n",
       "    </tr>\n",
       "  </tbody>\n",
       "</table>\n",
       "</div>"
      ],
      "text/plain": [
       "        Location     Total\n",
       "0  United States  165480.0\n",
       "1        Alabama    2537.0\n",
       "2         Alaska     480.0\n",
       "3        Arizona    3403.0\n",
       "4       Arkansas    1305.0"
      ]
     },
     "execution_count": 697,
     "metadata": {},
     "output_type": "execute_result"
    }
   ],
   "source": [
    "nurse_data.head()"
   ]
  },
  {
   "cell_type": "code",
   "execution_count": 698,
   "metadata": {},
   "outputs": [],
   "source": [
    "nurse_data = nurse_data.rename(columns={\"Location\": \"State\", \"Total\": \"total_nurses\"})"
   ]
  },
  {
   "cell_type": "code",
   "execution_count": 699,
   "metadata": {},
   "outputs": [
    {
     "data": {
      "text/html": [
       "<div>\n",
       "<style scoped>\n",
       "    .dataframe tbody tr th:only-of-type {\n",
       "        vertical-align: middle;\n",
       "    }\n",
       "\n",
       "    .dataframe tbody tr th {\n",
       "        vertical-align: top;\n",
       "    }\n",
       "\n",
       "    .dataframe thead th {\n",
       "        text-align: right;\n",
       "    }\n",
       "</style>\n",
       "<table border=\"1\" class=\"dataframe\">\n",
       "  <thead>\n",
       "    <tr style=\"text-align: right;\">\n",
       "      <th></th>\n",
       "      <th>State</th>\n",
       "      <th>total_nurses</th>\n",
       "    </tr>\n",
       "  </thead>\n",
       "  <tbody>\n",
       "    <tr>\n",
       "      <th>0</th>\n",
       "      <td>United States</td>\n",
       "      <td>165480.0</td>\n",
       "    </tr>\n",
       "    <tr>\n",
       "      <th>1</th>\n",
       "      <td>Alabama</td>\n",
       "      <td>2537.0</td>\n",
       "    </tr>\n",
       "    <tr>\n",
       "      <th>2</th>\n",
       "      <td>Alaska</td>\n",
       "      <td>480.0</td>\n",
       "    </tr>\n",
       "    <tr>\n",
       "      <th>3</th>\n",
       "      <td>Arizona</td>\n",
       "      <td>3403.0</td>\n",
       "    </tr>\n",
       "    <tr>\n",
       "      <th>4</th>\n",
       "      <td>Arkansas</td>\n",
       "      <td>1305.0</td>\n",
       "    </tr>\n",
       "  </tbody>\n",
       "</table>\n",
       "</div>"
      ],
      "text/plain": [
       "           State  total_nurses\n",
       "0  United States      165480.0\n",
       "1        Alabama        2537.0\n",
       "2         Alaska         480.0\n",
       "3        Arizona        3403.0\n",
       "4       Arkansas        1305.0"
      ]
     },
     "execution_count": 699,
     "metadata": {},
     "output_type": "execute_result"
    }
   ],
   "source": [
    "nurse_data.head()"
   ]
  },
  {
   "cell_type": "code",
   "execution_count": 700,
   "metadata": {},
   "outputs": [],
   "source": [
    "physician_data = physician_data.rename(columns={\"Location\":\"State\", \"Primary Care Physicians\": \"primary_care_physicians\", \"Specialist Physicians\": \"specialist_physicians\", \"Total\": \"total\"})"
   ]
  },
  {
   "cell_type": "code",
   "execution_count": 701,
   "metadata": {},
   "outputs": [
    {
     "data": {
      "text/html": [
       "<div>\n",
       "<style scoped>\n",
       "    .dataframe tbody tr th:only-of-type {\n",
       "        vertical-align: middle;\n",
       "    }\n",
       "\n",
       "    .dataframe tbody tr th {\n",
       "        vertical-align: top;\n",
       "    }\n",
       "\n",
       "    .dataframe thead th {\n",
       "        text-align: right;\n",
       "    }\n",
       "</style>\n",
       "<table border=\"1\" class=\"dataframe\">\n",
       "  <thead>\n",
       "    <tr style=\"text-align: right;\">\n",
       "      <th></th>\n",
       "      <th>State</th>\n",
       "      <th>primary_care_physicians</th>\n",
       "      <th>specialist_physicians</th>\n",
       "      <th>total</th>\n",
       "    </tr>\n",
       "  </thead>\n",
       "  <tbody>\n",
       "    <tr>\n",
       "      <th>0</th>\n",
       "      <td>United States</td>\n",
       "      <td>479856.0</td>\n",
       "      <td>525439.0</td>\n",
       "      <td>1005295.0</td>\n",
       "    </tr>\n",
       "    <tr>\n",
       "      <th>1</th>\n",
       "      <td>Alabama</td>\n",
       "      <td>5863.0</td>\n",
       "      <td>6342.0</td>\n",
       "      <td>12205.0</td>\n",
       "    </tr>\n",
       "    <tr>\n",
       "      <th>2</th>\n",
       "      <td>Alaska</td>\n",
       "      <td>1054.0</td>\n",
       "      <td>846.0</td>\n",
       "      <td>1900.0</td>\n",
       "    </tr>\n",
       "    <tr>\n",
       "      <th>3</th>\n",
       "      <td>Arizona</td>\n",
       "      <td>8537.0</td>\n",
       "      <td>9269.0</td>\n",
       "      <td>17806.0</td>\n",
       "    </tr>\n",
       "    <tr>\n",
       "      <th>4</th>\n",
       "      <td>Arkansas</td>\n",
       "      <td>3513.0</td>\n",
       "      <td>3637.0</td>\n",
       "      <td>7150.0</td>\n",
       "    </tr>\n",
       "  </tbody>\n",
       "</table>\n",
       "</div>"
      ],
      "text/plain": [
       "           State  primary_care_physicians  specialist_physicians      total\n",
       "0  United States                 479856.0               525439.0  1005295.0\n",
       "1        Alabama                   5863.0                 6342.0    12205.0\n",
       "2         Alaska                   1054.0                  846.0     1900.0\n",
       "3        Arizona                   8537.0                 9269.0    17806.0\n",
       "4       Arkansas                   3513.0                 3637.0     7150.0"
      ]
     },
     "execution_count": 701,
     "metadata": {},
     "output_type": "execute_result"
    }
   ],
   "source": [
    "physician_data.head()"
   ]
  },
  {
   "cell_type": "code",
   "execution_count": 702,
   "metadata": {},
   "outputs": [
    {
     "data": {
      "text/html": [
       "<div>\n",
       "<style scoped>\n",
       "    .dataframe tbody tr th:only-of-type {\n",
       "        vertical-align: middle;\n",
       "    }\n",
       "\n",
       "    .dataframe tbody tr th {\n",
       "        vertical-align: top;\n",
       "    }\n",
       "\n",
       "    .dataframe thead th {\n",
       "        text-align: right;\n",
       "    }\n",
       "</style>\n",
       "<table border=\"1\" class=\"dataframe\">\n",
       "  <thead>\n",
       "    <tr style=\"text-align: right;\">\n",
       "      <th></th>\n",
       "      <th>costIndex</th>\n",
       "      <th>State</th>\n",
       "      <th>costRank</th>\n",
       "      <th>groceryCost</th>\n",
       "      <th>housingCost</th>\n",
       "      <th>utilitiesCost</th>\n",
       "      <th>transportationCost</th>\n",
       "      <th>miscCost</th>\n",
       "    </tr>\n",
       "  </thead>\n",
       "  <tbody>\n",
       "    <tr>\n",
       "      <th>0</th>\n",
       "      <td>1</td>\n",
       "      <td>Mississippi</td>\n",
       "      <td>86.1</td>\n",
       "      <td>91.6</td>\n",
       "      <td>70.1</td>\n",
       "      <td>89.1</td>\n",
       "      <td>89.2</td>\n",
       "      <td>91.4</td>\n",
       "    </tr>\n",
       "    <tr>\n",
       "      <th>1</th>\n",
       "      <td>2</td>\n",
       "      <td>Arkansas</td>\n",
       "      <td>86.9</td>\n",
       "      <td>92.0</td>\n",
       "      <td>73.9</td>\n",
       "      <td>91.8</td>\n",
       "      <td>83.6</td>\n",
       "      <td>85.6</td>\n",
       "    </tr>\n",
       "    <tr>\n",
       "      <th>2</th>\n",
       "      <td>3</td>\n",
       "      <td>Oklahoma</td>\n",
       "      <td>87.0</td>\n",
       "      <td>95.4</td>\n",
       "      <td>71.9</td>\n",
       "      <td>94.1</td>\n",
       "      <td>89.5</td>\n",
       "      <td>93.2</td>\n",
       "    </tr>\n",
       "    <tr>\n",
       "      <th>3</th>\n",
       "      <td>4</td>\n",
       "      <td>Missouri</td>\n",
       "      <td>87.1</td>\n",
       "      <td>96.6</td>\n",
       "      <td>70.6</td>\n",
       "      <td>99.6</td>\n",
       "      <td>87.3</td>\n",
       "      <td>95.7</td>\n",
       "    </tr>\n",
       "    <tr>\n",
       "      <th>4</th>\n",
       "      <td>5</td>\n",
       "      <td>New Mexico</td>\n",
       "      <td>87.5</td>\n",
       "      <td>100.9</td>\n",
       "      <td>77.7</td>\n",
       "      <td>87.9</td>\n",
       "      <td>91.6</td>\n",
       "      <td>100.1</td>\n",
       "    </tr>\n",
       "  </tbody>\n",
       "</table>\n",
       "</div>"
      ],
      "text/plain": [
       "   costIndex        State  costRank  groceryCost  housingCost  utilitiesCost  \\\n",
       "0          1  Mississippi      86.1         91.6         70.1           89.1   \n",
       "1          2     Arkansas      86.9         92.0         73.9           91.8   \n",
       "2          3     Oklahoma      87.0         95.4         71.9           94.1   \n",
       "3          4     Missouri      87.1         96.6         70.6           99.6   \n",
       "4          5   New Mexico      87.5        100.9         77.7           87.9   \n",
       "\n",
       "   transportationCost  miscCost  \n",
       "0                89.2      91.4  \n",
       "1                83.6      85.6  \n",
       "2                89.5      93.2  \n",
       "3                87.3      95.7  \n",
       "4                91.6     100.1  "
      ]
     },
     "execution_count": 702,
     "metadata": {},
     "output_type": "execute_result"
    }
   ],
   "source": [
    "cost_of_living.head()"
   ]
  },
  {
   "cell_type": "code",
   "execution_count": 703,
   "metadata": {},
   "outputs": [],
   "source": [
    "us_state_abbrev = [{\n",
    "    'Alabama': 'AL',\n",
    "    'Alaska': 'AK',\n",
    "    'Arizona': 'AZ',\n",
    "    'Arkansas': 'AR',\n",
    "    'California': 'CA',\n",
    "    'Colorado': 'CO',\n",
    "    'Connecticut': 'CT',\n",
    "    'Delaware': 'DE',\n",
    "    'District of Columbia': 'DC',\n",
    "    'Florida': 'FL',\n",
    "    'Georgia': 'GA',\n",
    "    'Hawaii': 'HI',\n",
    "    'Idaho': 'ID',\n",
    "    'Illinois': 'IL',\n",
    "    'Indiana': 'IN',\n",
    "    'Iowa': 'IA',\n",
    "    'Kansas': 'KS',\n",
    "    'Kentucky': 'KY',\n",
    "    'Louisiana': 'LA',\n",
    "    'Maine': 'ME',\n",
    "    'Maryland': 'MD',\n",
    "    'Massachusetts': 'MA',\n",
    "    'Michigan': 'MI',\n",
    "    'Minnesota': 'MN',\n",
    "    'Mississippi': 'MS',\n",
    "    'Missouri': 'MO',\n",
    "    'Montana': 'MT',\n",
    "    'Nebraska': 'NE',\n",
    "    'Nevada': 'NV',\n",
    "    'New Hampshire': 'NH',\n",
    "    'New Jersey': 'NJ',\n",
    "    'New Mexico': 'NM',\n",
    "    'New York': 'NY',\n",
    "    'North Carolina': 'NC',\n",
    "    'North Dakota': 'ND',\n",
    "    'Northern Mariana Islands':'MP',\n",
    "    'Ohio': 'OH',\n",
    "    'Oklahoma': 'OK',\n",
    "    'Oregon': 'OR',\n",
    "    'Palau': 'PW',\n",
    "    'Pennsylvania': 'PA',\n",
    "    'Puerto Rico': 'PR',\n",
    "    'Rhode Island': 'RI',\n",
    "    'South Carolina': 'SC',\n",
    "    'South Dakota': 'SD',\n",
    "    'Tennessee': 'TN',\n",
    "    'Texas': 'TX',\n",
    "    'Utah': 'UT',\n",
    "    'Vermont': 'VT',\n",
    "    'Virgin Islands': 'VI',\n",
    "    'Virginia': 'VA',\n",
    "    'Washington': 'WA',\n",
    "    'West Virginia': 'WV',\n",
    "    'Wisconsin': 'WI',\n",
    "    'Wyoming': 'WY',\n",
    "}]"
   ]
  },
  {
   "cell_type": "code",
   "execution_count": 704,
   "metadata": {},
   "outputs": [],
   "source": [
    "us_state_abbrev = pd.DataFrame(us_state_abbrev).T"
   ]
  },
  {
   "cell_type": "code",
   "execution_count": 705,
   "metadata": {},
   "outputs": [],
   "source": [
    "us_state_abbrev = us_state_abbrev.reset_index(level=0)"
   ]
  },
  {
   "cell_type": "code",
   "execution_count": 706,
   "metadata": {},
   "outputs": [],
   "source": [
    "us_state_abbrev = us_state_abbrev.rename(columns={\"index\": \"State\"})"
   ]
  },
  {
   "cell_type": "code",
   "execution_count": 707,
   "metadata": {},
   "outputs": [
    {
     "data": {
      "text/html": [
       "<div>\n",
       "<style scoped>\n",
       "    .dataframe tbody tr th:only-of-type {\n",
       "        vertical-align: middle;\n",
       "    }\n",
       "\n",
       "    .dataframe tbody tr th {\n",
       "        vertical-align: top;\n",
       "    }\n",
       "\n",
       "    .dataframe thead th {\n",
       "        text-align: right;\n",
       "    }\n",
       "</style>\n",
       "<table border=\"1\" class=\"dataframe\">\n",
       "  <thead>\n",
       "    <tr style=\"text-align: right;\">\n",
       "      <th></th>\n",
       "      <th>State</th>\n",
       "      <th>0</th>\n",
       "    </tr>\n",
       "  </thead>\n",
       "  <tbody>\n",
       "    <tr>\n",
       "      <th>0</th>\n",
       "      <td>Alabama</td>\n",
       "      <td>AL</td>\n",
       "    </tr>\n",
       "    <tr>\n",
       "      <th>1</th>\n",
       "      <td>Alaska</td>\n",
       "      <td>AK</td>\n",
       "    </tr>\n",
       "    <tr>\n",
       "      <th>2</th>\n",
       "      <td>Arizona</td>\n",
       "      <td>AZ</td>\n",
       "    </tr>\n",
       "    <tr>\n",
       "      <th>3</th>\n",
       "      <td>Arkansas</td>\n",
       "      <td>AR</td>\n",
       "    </tr>\n",
       "    <tr>\n",
       "      <th>4</th>\n",
       "      <td>California</td>\n",
       "      <td>CA</td>\n",
       "    </tr>\n",
       "  </tbody>\n",
       "</table>\n",
       "</div>"
      ],
      "text/plain": [
       "        State   0\n",
       "0     Alabama  AL\n",
       "1      Alaska  AK\n",
       "2     Arizona  AZ\n",
       "3    Arkansas  AR\n",
       "4  California  CA"
      ]
     },
     "execution_count": 707,
     "metadata": {},
     "output_type": "execute_result"
    }
   ],
   "source": [
    "us_state_abbrev.head()"
   ]
  },
  {
   "cell_type": "code",
   "execution_count": 708,
   "metadata": {},
   "outputs": [],
   "source": [
    "cost_of_living = pd.merge(cost_of_living, us_state_abbrev, on=\"State\")\n",
    "physician_data = pd.merge(physician_data, us_state_abbrev, on=\"State\" )\n",
    "nurse_data = pd.merge(nurse_data, us_state_abbrev, on=\"State\")\n",
    "pa_data = pd.merge(pa_data, us_state_abbrev, on=\"State\")"
   ]
  },
  {
   "cell_type": "code",
   "execution_count": 709,
   "metadata": {},
   "outputs": [
    {
     "data": {
      "text/html": [
       "<div>\n",
       "<style scoped>\n",
       "    .dataframe tbody tr th:only-of-type {\n",
       "        vertical-align: middle;\n",
       "    }\n",
       "\n",
       "    .dataframe tbody tr th {\n",
       "        vertical-align: top;\n",
       "    }\n",
       "\n",
       "    .dataframe thead th {\n",
       "        text-align: right;\n",
       "    }\n",
       "</style>\n",
       "<table border=\"1\" class=\"dataframe\">\n",
       "  <thead>\n",
       "    <tr style=\"text-align: right;\">\n",
       "      <th></th>\n",
       "      <th>State</th>\n",
       "      <th>total_nurses</th>\n",
       "      <th>0</th>\n",
       "    </tr>\n",
       "  </thead>\n",
       "  <tbody>\n",
       "    <tr>\n",
       "      <th>0</th>\n",
       "      <td>Alabama</td>\n",
       "      <td>2537.0</td>\n",
       "      <td>AL</td>\n",
       "    </tr>\n",
       "    <tr>\n",
       "      <th>1</th>\n",
       "      <td>Alaska</td>\n",
       "      <td>480.0</td>\n",
       "      <td>AK</td>\n",
       "    </tr>\n",
       "    <tr>\n",
       "      <th>2</th>\n",
       "      <td>Arizona</td>\n",
       "      <td>3403.0</td>\n",
       "      <td>AZ</td>\n",
       "    </tr>\n",
       "    <tr>\n",
       "      <th>3</th>\n",
       "      <td>Arkansas</td>\n",
       "      <td>1305.0</td>\n",
       "      <td>AR</td>\n",
       "    </tr>\n",
       "    <tr>\n",
       "      <th>4</th>\n",
       "      <td>California</td>\n",
       "      <td>15414.0</td>\n",
       "      <td>CA</td>\n",
       "    </tr>\n",
       "  </tbody>\n",
       "</table>\n",
       "</div>"
      ],
      "text/plain": [
       "        State  total_nurses   0\n",
       "0     Alabama        2537.0  AL\n",
       "1      Alaska         480.0  AK\n",
       "2     Arizona        3403.0  AZ\n",
       "3    Arkansas        1305.0  AR\n",
       "4  California       15414.0  CA"
      ]
     },
     "execution_count": 709,
     "metadata": {},
     "output_type": "execute_result"
    }
   ],
   "source": [
    "nurse_data.head()"
   ]
  },
  {
   "cell_type": "code",
   "execution_count": 710,
   "metadata": {},
   "outputs": [],
   "source": [
    "pa_data = pa_data.rename(columns={0: \"provider_state\"})"
   ]
  },
  {
   "cell_type": "code",
   "execution_count": 711,
   "metadata": {},
   "outputs": [
    {
     "data": {
      "text/html": [
       "<div>\n",
       "<style scoped>\n",
       "    .dataframe tbody tr th:only-of-type {\n",
       "        vertical-align: middle;\n",
       "    }\n",
       "\n",
       "    .dataframe tbody tr th {\n",
       "        vertical-align: top;\n",
       "    }\n",
       "\n",
       "    .dataframe thead th {\n",
       "        text-align: right;\n",
       "    }\n",
       "</style>\n",
       "<table border=\"1\" class=\"dataframe\">\n",
       "  <thead>\n",
       "    <tr style=\"text-align: right;\">\n",
       "      <th></th>\n",
       "      <th>State</th>\n",
       "      <th>pa_total</th>\n",
       "      <th>provider_state</th>\n",
       "    </tr>\n",
       "  </thead>\n",
       "  <tbody>\n",
       "    <tr>\n",
       "      <th>0</th>\n",
       "      <td>Alabama</td>\n",
       "      <td>535.0</td>\n",
       "      <td>AL</td>\n",
       "    </tr>\n",
       "    <tr>\n",
       "      <th>1</th>\n",
       "      <td>Alaska</td>\n",
       "      <td>346.0</td>\n",
       "      <td>AK</td>\n",
       "    </tr>\n",
       "    <tr>\n",
       "      <th>2</th>\n",
       "      <td>Arizona</td>\n",
       "      <td>1940.0</td>\n",
       "      <td>AZ</td>\n",
       "    </tr>\n",
       "    <tr>\n",
       "      <th>3</th>\n",
       "      <td>Arkansas</td>\n",
       "      <td>209.0</td>\n",
       "      <td>AR</td>\n",
       "    </tr>\n",
       "    <tr>\n",
       "      <th>4</th>\n",
       "      <td>California</td>\n",
       "      <td>7917.0</td>\n",
       "      <td>CA</td>\n",
       "    </tr>\n",
       "  </tbody>\n",
       "</table>\n",
       "</div>"
      ],
      "text/plain": [
       "        State  pa_total provider_state\n",
       "0     Alabama     535.0             AL\n",
       "1      Alaska     346.0             AK\n",
       "2     Arizona    1940.0             AZ\n",
       "3    Arkansas     209.0             AR\n",
       "4  California    7917.0             CA"
      ]
     },
     "execution_count": 711,
     "metadata": {},
     "output_type": "execute_result"
    }
   ],
   "source": [
    "pa_data.head()"
   ]
  },
  {
   "cell_type": "code",
   "execution_count": 712,
   "metadata": {},
   "outputs": [],
   "source": [
    "nurse_data = nurse_data.rename(columns={0: \"provider_state\"})"
   ]
  },
  {
   "cell_type": "code",
   "execution_count": 713,
   "metadata": {},
   "outputs": [
    {
     "data": {
      "text/html": [
       "<div>\n",
       "<style scoped>\n",
       "    .dataframe tbody tr th:only-of-type {\n",
       "        vertical-align: middle;\n",
       "    }\n",
       "\n",
       "    .dataframe tbody tr th {\n",
       "        vertical-align: top;\n",
       "    }\n",
       "\n",
       "    .dataframe thead th {\n",
       "        text-align: right;\n",
       "    }\n",
       "</style>\n",
       "<table border=\"1\" class=\"dataframe\">\n",
       "  <thead>\n",
       "    <tr style=\"text-align: right;\">\n",
       "      <th></th>\n",
       "      <th>State</th>\n",
       "      <th>total_nurses</th>\n",
       "      <th>provider_state</th>\n",
       "    </tr>\n",
       "  </thead>\n",
       "  <tbody>\n",
       "    <tr>\n",
       "      <th>0</th>\n",
       "      <td>Alabama</td>\n",
       "      <td>2537.0</td>\n",
       "      <td>AL</td>\n",
       "    </tr>\n",
       "    <tr>\n",
       "      <th>1</th>\n",
       "      <td>Alaska</td>\n",
       "      <td>480.0</td>\n",
       "      <td>AK</td>\n",
       "    </tr>\n",
       "    <tr>\n",
       "      <th>2</th>\n",
       "      <td>Arizona</td>\n",
       "      <td>3403.0</td>\n",
       "      <td>AZ</td>\n",
       "    </tr>\n",
       "    <tr>\n",
       "      <th>3</th>\n",
       "      <td>Arkansas</td>\n",
       "      <td>1305.0</td>\n",
       "      <td>AR</td>\n",
       "    </tr>\n",
       "    <tr>\n",
       "      <th>4</th>\n",
       "      <td>California</td>\n",
       "      <td>15414.0</td>\n",
       "      <td>CA</td>\n",
       "    </tr>\n",
       "  </tbody>\n",
       "</table>\n",
       "</div>"
      ],
      "text/plain": [
       "        State  total_nurses provider_state\n",
       "0     Alabama        2537.0             AL\n",
       "1      Alaska         480.0             AK\n",
       "2     Arizona        3403.0             AZ\n",
       "3    Arkansas        1305.0             AR\n",
       "4  California       15414.0             CA"
      ]
     },
     "execution_count": 713,
     "metadata": {},
     "output_type": "execute_result"
    }
   ],
   "source": [
    "nurse_data.head()"
   ]
  },
  {
   "cell_type": "code",
   "execution_count": 714,
   "metadata": {},
   "outputs": [],
   "source": [
    "physician_data = physician_data.rename(columns={0:\"provider_state\"})"
   ]
  },
  {
   "cell_type": "code",
   "execution_count": 715,
   "metadata": {},
   "outputs": [],
   "source": [
    "cost_of_living = cost_of_living.rename(columns={0:\"provider_state\"})"
   ]
  },
  {
   "cell_type": "code",
   "execution_count": 716,
   "metadata": {},
   "outputs": [
    {
     "data": {
      "text/html": [
       "<div>\n",
       "<style scoped>\n",
       "    .dataframe tbody tr th:only-of-type {\n",
       "        vertical-align: middle;\n",
       "    }\n",
       "\n",
       "    .dataframe tbody tr th {\n",
       "        vertical-align: top;\n",
       "    }\n",
       "\n",
       "    .dataframe thead th {\n",
       "        text-align: right;\n",
       "    }\n",
       "</style>\n",
       "<table border=\"1\" class=\"dataframe\">\n",
       "  <thead>\n",
       "    <tr style=\"text-align: right;\">\n",
       "      <th></th>\n",
       "      <th>costIndex</th>\n",
       "      <th>State</th>\n",
       "      <th>costRank</th>\n",
       "      <th>groceryCost</th>\n",
       "      <th>housingCost</th>\n",
       "      <th>utilitiesCost</th>\n",
       "      <th>transportationCost</th>\n",
       "      <th>miscCost</th>\n",
       "      <th>provider_state</th>\n",
       "    </tr>\n",
       "  </thead>\n",
       "  <tbody>\n",
       "    <tr>\n",
       "      <th>0</th>\n",
       "      <td>1</td>\n",
       "      <td>Mississippi</td>\n",
       "      <td>86.1</td>\n",
       "      <td>91.6</td>\n",
       "      <td>70.1</td>\n",
       "      <td>89.1</td>\n",
       "      <td>89.2</td>\n",
       "      <td>91.4</td>\n",
       "      <td>MS</td>\n",
       "    </tr>\n",
       "    <tr>\n",
       "      <th>1</th>\n",
       "      <td>2</td>\n",
       "      <td>Arkansas</td>\n",
       "      <td>86.9</td>\n",
       "      <td>92.0</td>\n",
       "      <td>73.9</td>\n",
       "      <td>91.8</td>\n",
       "      <td>83.6</td>\n",
       "      <td>85.6</td>\n",
       "      <td>AR</td>\n",
       "    </tr>\n",
       "    <tr>\n",
       "      <th>2</th>\n",
       "      <td>3</td>\n",
       "      <td>Oklahoma</td>\n",
       "      <td>87.0</td>\n",
       "      <td>95.4</td>\n",
       "      <td>71.9</td>\n",
       "      <td>94.1</td>\n",
       "      <td>89.5</td>\n",
       "      <td>93.2</td>\n",
       "      <td>OK</td>\n",
       "    </tr>\n",
       "    <tr>\n",
       "      <th>3</th>\n",
       "      <td>4</td>\n",
       "      <td>Missouri</td>\n",
       "      <td>87.1</td>\n",
       "      <td>96.6</td>\n",
       "      <td>70.6</td>\n",
       "      <td>99.6</td>\n",
       "      <td>87.3</td>\n",
       "      <td>95.7</td>\n",
       "      <td>MO</td>\n",
       "    </tr>\n",
       "    <tr>\n",
       "      <th>4</th>\n",
       "      <td>5</td>\n",
       "      <td>New Mexico</td>\n",
       "      <td>87.5</td>\n",
       "      <td>100.9</td>\n",
       "      <td>77.7</td>\n",
       "      <td>87.9</td>\n",
       "      <td>91.6</td>\n",
       "      <td>100.1</td>\n",
       "      <td>NM</td>\n",
       "    </tr>\n",
       "  </tbody>\n",
       "</table>\n",
       "</div>"
      ],
      "text/plain": [
       "   costIndex        State  costRank  groceryCost  housingCost  utilitiesCost  \\\n",
       "0          1  Mississippi      86.1         91.6         70.1           89.1   \n",
       "1          2     Arkansas      86.9         92.0         73.9           91.8   \n",
       "2          3     Oklahoma      87.0         95.4         71.9           94.1   \n",
       "3          4     Missouri      87.1         96.6         70.6           99.6   \n",
       "4          5   New Mexico      87.5        100.9         77.7           87.9   \n",
       "\n",
       "   transportationCost  miscCost provider_state  \n",
       "0                89.2      91.4             MS  \n",
       "1                83.6      85.6             AR  \n",
       "2                89.5      93.2             OK  \n",
       "3                87.3      95.7             MO  \n",
       "4                91.6     100.1             NM  "
      ]
     },
     "execution_count": 716,
     "metadata": {},
     "output_type": "execute_result"
    }
   ],
   "source": [
    "cost_of_living.head()"
   ]
  },
  {
   "cell_type": "code",
   "execution_count": 717,
   "metadata": {},
   "outputs": [],
   "source": [
    "data_2017.columns = data_2017.columns.str.strip().str.lower().str.replace(' ', '_').str.replace('(', '').str.replace(')', '')"
   ]
  },
  {
   "cell_type": "code",
   "execution_count": 718,
   "metadata": {},
   "outputs": [
    {
     "data": {
      "text/html": [
       "<div>\n",
       "<style scoped>\n",
       "    .dataframe tbody tr th:only-of-type {\n",
       "        vertical-align: middle;\n",
       "    }\n",
       "\n",
       "    .dataframe tbody tr th {\n",
       "        vertical-align: top;\n",
       "    }\n",
       "\n",
       "    .dataframe thead th {\n",
       "        text-align: right;\n",
       "    }\n",
       "</style>\n",
       "<table border=\"1\" class=\"dataframe\">\n",
       "  <thead>\n",
       "    <tr style=\"text-align: right;\">\n",
       "      <th></th>\n",
       "      <th>drg_definition</th>\n",
       "      <th>provider_id</th>\n",
       "      <th>provider_name</th>\n",
       "      <th>provider_street_address</th>\n",
       "      <th>provider_city</th>\n",
       "      <th>provider_state</th>\n",
       "      <th>provider_zip_code</th>\n",
       "      <th>hospital_referral_region_hrr_description</th>\n",
       "      <th>total_discharges</th>\n",
       "      <th>average_covered_charges</th>\n",
       "      <th>average_total_payments</th>\n",
       "      <th>average_medicare_payments</th>\n",
       "    </tr>\n",
       "  </thead>\n",
       "  <tbody>\n",
       "    <tr>\n",
       "      <th>0</th>\n",
       "      <td>023 - CRANIOTOMY W MAJOR DEVICE IMPLANT OR ACU...</td>\n",
       "      <td>10001</td>\n",
       "      <td>SOUTHEAST ALABAMA MEDICAL CENTER</td>\n",
       "      <td>1108 ROSS CLARK CIRCLE</td>\n",
       "      <td>DOTHAN</td>\n",
       "      <td>AL</td>\n",
       "      <td>36301</td>\n",
       "      <td>AL - Dothan</td>\n",
       "      <td>28</td>\n",
       "      <td>117117.79</td>\n",
       "      <td>25823.71</td>\n",
       "      <td>24057.39</td>\n",
       "    </tr>\n",
       "    <tr>\n",
       "      <th>1</th>\n",
       "      <td>025 - CRANIOTOMY &amp; ENDOVASCULAR INTRACRANIAL P...</td>\n",
       "      <td>10001</td>\n",
       "      <td>SOUTHEAST ALABAMA MEDICAL CENTER</td>\n",
       "      <td>1108 ROSS CLARK CIRCLE</td>\n",
       "      <td>DOTHAN</td>\n",
       "      <td>AL</td>\n",
       "      <td>36301</td>\n",
       "      <td>AL - Dothan</td>\n",
       "      <td>32</td>\n",
       "      <td>98357.56</td>\n",
       "      <td>20688.34</td>\n",
       "      <td>19791.41</td>\n",
       "    </tr>\n",
       "    <tr>\n",
       "      <th>2</th>\n",
       "      <td>027 - CRANIOTOMY &amp; ENDOVASCULAR INTRACRANIAL P...</td>\n",
       "      <td>10001</td>\n",
       "      <td>SOUTHEAST ALABAMA MEDICAL CENTER</td>\n",
       "      <td>1108 ROSS CLARK CIRCLE</td>\n",
       "      <td>DOTHAN</td>\n",
       "      <td>AL</td>\n",
       "      <td>36301</td>\n",
       "      <td>AL - Dothan</td>\n",
       "      <td>11</td>\n",
       "      <td>69153.55</td>\n",
       "      <td>11811.18</td>\n",
       "      <td>8194.36</td>\n",
       "    </tr>\n",
       "    <tr>\n",
       "      <th>3</th>\n",
       "      <td>037 - EXTRACRANIAL PROCEDURES W MCC</td>\n",
       "      <td>10001</td>\n",
       "      <td>SOUTHEAST ALABAMA MEDICAL CENTER</td>\n",
       "      <td>1108 ROSS CLARK CIRCLE</td>\n",
       "      <td>DOTHAN</td>\n",
       "      <td>AL</td>\n",
       "      <td>36301</td>\n",
       "      <td>AL - Dothan</td>\n",
       "      <td>12</td>\n",
       "      <td>100427.33</td>\n",
       "      <td>19134.00</td>\n",
       "      <td>18154.00</td>\n",
       "    </tr>\n",
       "    <tr>\n",
       "      <th>4</th>\n",
       "      <td>038 - EXTRACRANIAL PROCEDURES W CC</td>\n",
       "      <td>10001</td>\n",
       "      <td>SOUTHEAST ALABAMA MEDICAL CENTER</td>\n",
       "      <td>1108 ROSS CLARK CIRCLE</td>\n",
       "      <td>DOTHAN</td>\n",
       "      <td>AL</td>\n",
       "      <td>36301</td>\n",
       "      <td>AL - Dothan</td>\n",
       "      <td>17</td>\n",
       "      <td>58199.47</td>\n",
       "      <td>8519.47</td>\n",
       "      <td>6714.88</td>\n",
       "    </tr>\n",
       "  </tbody>\n",
       "</table>\n",
       "</div>"
      ],
      "text/plain": [
       "                                      drg_definition  provider_id  \\\n",
       "0  023 - CRANIOTOMY W MAJOR DEVICE IMPLANT OR ACU...        10001   \n",
       "1  025 - CRANIOTOMY & ENDOVASCULAR INTRACRANIAL P...        10001   \n",
       "2  027 - CRANIOTOMY & ENDOVASCULAR INTRACRANIAL P...        10001   \n",
       "3                037 - EXTRACRANIAL PROCEDURES W MCC        10001   \n",
       "4                 038 - EXTRACRANIAL PROCEDURES W CC        10001   \n",
       "\n",
       "                      provider_name provider_street_address provider_city  \\\n",
       "0  SOUTHEAST ALABAMA MEDICAL CENTER  1108 ROSS CLARK CIRCLE        DOTHAN   \n",
       "1  SOUTHEAST ALABAMA MEDICAL CENTER  1108 ROSS CLARK CIRCLE        DOTHAN   \n",
       "2  SOUTHEAST ALABAMA MEDICAL CENTER  1108 ROSS CLARK CIRCLE        DOTHAN   \n",
       "3  SOUTHEAST ALABAMA MEDICAL CENTER  1108 ROSS CLARK CIRCLE        DOTHAN   \n",
       "4  SOUTHEAST ALABAMA MEDICAL CENTER  1108 ROSS CLARK CIRCLE        DOTHAN   \n",
       "\n",
       "  provider_state  provider_zip_code hospital_referral_region_hrr_description  \\\n",
       "0             AL              36301                              AL - Dothan   \n",
       "1             AL              36301                              AL - Dothan   \n",
       "2             AL              36301                              AL - Dothan   \n",
       "3             AL              36301                              AL - Dothan   \n",
       "4             AL              36301                              AL - Dothan   \n",
       "\n",
       "   total_discharges  average_covered_charges  average_total_payments  \\\n",
       "0                28                117117.79                25823.71   \n",
       "1                32                 98357.56                20688.34   \n",
       "2                11                 69153.55                11811.18   \n",
       "3                12                100427.33                19134.00   \n",
       "4                17                 58199.47                 8519.47   \n",
       "\n",
       "   average_medicare_payments  \n",
       "0                   24057.39  \n",
       "1                   19791.41  \n",
       "2                    8194.36  \n",
       "3                   18154.00  \n",
       "4                    6714.88  "
      ]
     },
     "execution_count": 718,
     "metadata": {},
     "output_type": "execute_result"
    }
   ],
   "source": [
    "data_2017.head()"
   ]
  },
  {
   "cell_type": "code",
   "execution_count": 719,
   "metadata": {},
   "outputs": [],
   "source": [
    "data_2017 = data_2017[[\"provider_state\", \"provider_name\", \"total_discharges\", \"average_covered_charges\", \"average_total_payments\", \"average_medicare_payments\"]]"
   ]
  },
  {
   "cell_type": "code",
   "execution_count": 720,
   "metadata": {},
   "outputs": [],
   "source": [
    "data_2017_raw = data_2017[[\"provider_state\", \"provider_name\", \"total_discharges\", \"average_covered_charges\", \"average_total_payments\", \"average_medicare_payments\"]]"
   ]
  },
  {
   "cell_type": "code",
   "execution_count": 721,
   "metadata": {},
   "outputs": [],
   "source": [
    "data_2017[\"average_consumer_payments\"] = data_2017[\"average_total_payments\"] - data_2017[\"average_medicare_payments\"]"
   ]
  },
  {
   "cell_type": "code",
   "execution_count": 722,
   "metadata": {},
   "outputs": [
    {
     "data": {
      "text/html": [
       "<div>\n",
       "<style scoped>\n",
       "    .dataframe tbody tr th:only-of-type {\n",
       "        vertical-align: middle;\n",
       "    }\n",
       "\n",
       "    .dataframe tbody tr th {\n",
       "        vertical-align: top;\n",
       "    }\n",
       "\n",
       "    .dataframe thead th {\n",
       "        text-align: right;\n",
       "    }\n",
       "</style>\n",
       "<table border=\"1\" class=\"dataframe\">\n",
       "  <thead>\n",
       "    <tr style=\"text-align: right;\">\n",
       "      <th></th>\n",
       "      <th>provider_state</th>\n",
       "      <th>provider_name</th>\n",
       "      <th>total_discharges</th>\n",
       "      <th>average_covered_charges</th>\n",
       "      <th>average_total_payments</th>\n",
       "      <th>average_medicare_payments</th>\n",
       "      <th>average_consumer_payments</th>\n",
       "    </tr>\n",
       "  </thead>\n",
       "  <tbody>\n",
       "    <tr>\n",
       "      <th>0</th>\n",
       "      <td>AL</td>\n",
       "      <td>SOUTHEAST ALABAMA MEDICAL CENTER</td>\n",
       "      <td>28</td>\n",
       "      <td>117117.79</td>\n",
       "      <td>25823.71</td>\n",
       "      <td>24057.39</td>\n",
       "      <td>1766.32</td>\n",
       "    </tr>\n",
       "    <tr>\n",
       "      <th>1</th>\n",
       "      <td>AL</td>\n",
       "      <td>SOUTHEAST ALABAMA MEDICAL CENTER</td>\n",
       "      <td>32</td>\n",
       "      <td>98357.56</td>\n",
       "      <td>20688.34</td>\n",
       "      <td>19791.41</td>\n",
       "      <td>896.93</td>\n",
       "    </tr>\n",
       "    <tr>\n",
       "      <th>2</th>\n",
       "      <td>AL</td>\n",
       "      <td>SOUTHEAST ALABAMA MEDICAL CENTER</td>\n",
       "      <td>11</td>\n",
       "      <td>69153.55</td>\n",
       "      <td>11811.18</td>\n",
       "      <td>8194.36</td>\n",
       "      <td>3616.82</td>\n",
       "    </tr>\n",
       "    <tr>\n",
       "      <th>3</th>\n",
       "      <td>AL</td>\n",
       "      <td>SOUTHEAST ALABAMA MEDICAL CENTER</td>\n",
       "      <td>12</td>\n",
       "      <td>100427.33</td>\n",
       "      <td>19134.00</td>\n",
       "      <td>18154.00</td>\n",
       "      <td>980.00</td>\n",
       "    </tr>\n",
       "    <tr>\n",
       "      <th>4</th>\n",
       "      <td>AL</td>\n",
       "      <td>SOUTHEAST ALABAMA MEDICAL CENTER</td>\n",
       "      <td>17</td>\n",
       "      <td>58199.47</td>\n",
       "      <td>8519.47</td>\n",
       "      <td>6714.88</td>\n",
       "      <td>1804.59</td>\n",
       "    </tr>\n",
       "  </tbody>\n",
       "</table>\n",
       "</div>"
      ],
      "text/plain": [
       "  provider_state                     provider_name  total_discharges  \\\n",
       "0             AL  SOUTHEAST ALABAMA MEDICAL CENTER                28   \n",
       "1             AL  SOUTHEAST ALABAMA MEDICAL CENTER                32   \n",
       "2             AL  SOUTHEAST ALABAMA MEDICAL CENTER                11   \n",
       "3             AL  SOUTHEAST ALABAMA MEDICAL CENTER                12   \n",
       "4             AL  SOUTHEAST ALABAMA MEDICAL CENTER                17   \n",
       "\n",
       "   average_covered_charges  average_total_payments  average_medicare_payments  \\\n",
       "0                117117.79                25823.71                   24057.39   \n",
       "1                 98357.56                20688.34                   19791.41   \n",
       "2                 69153.55                11811.18                    8194.36   \n",
       "3                100427.33                19134.00                   18154.00   \n",
       "4                 58199.47                 8519.47                    6714.88   \n",
       "\n",
       "   average_consumer_payments  \n",
       "0                    1766.32  \n",
       "1                     896.93  \n",
       "2                    3616.82  \n",
       "3                     980.00  \n",
       "4                    1804.59  "
      ]
     },
     "execution_count": 722,
     "metadata": {},
     "output_type": "execute_result"
    }
   ],
   "source": [
    "data_2017.head()"
   ]
  },
  {
   "cell_type": "code",
   "execution_count": 723,
   "metadata": {},
   "outputs": [],
   "source": [
    "state_grouped = data_2017.groupby(\"provider_state\").sum()"
   ]
  },
  {
   "cell_type": "code",
   "execution_count": 724,
   "metadata": {},
   "outputs": [],
   "source": [
    "state_grouped[\"per_capita_average_total_payments\"] = state_grouped[\"average_total_payments\"]/state_grouped[\"total_discharges\"]\n",
    "state_grouped[\"per capita average medicare payments\"] = state_grouped[\"average_medicare_payments\"]/state_grouped[\"total_discharges\"]\n",
    "state_grouped[\"per capita average consumer payments\"] = state_grouped[\"average_consumer_payments\"]/state_grouped[\"total_discharges\"]"
   ]
  },
  {
   "cell_type": "code",
   "execution_count": 725,
   "metadata": {},
   "outputs": [],
   "source": [
    "state_total_payments_grouped = state_grouped[\"per_capita_average_total_payments\"].reset_index()"
   ]
  },
  {
   "cell_type": "code",
   "execution_count": 726,
   "metadata": {},
   "outputs": [],
   "source": [
    "state_total_payments_grouped = state_total_payments_grouped.sort_values(\"per_capita_average_total_payments\", ascending=False)"
   ]
  },
  {
   "cell_type": "code",
   "execution_count": 727,
   "metadata": {},
   "outputs": [
    {
     "data": {
      "text/html": [
       "<div>\n",
       "<style scoped>\n",
       "    .dataframe tbody tr th:only-of-type {\n",
       "        vertical-align: middle;\n",
       "    }\n",
       "\n",
       "    .dataframe tbody tr th {\n",
       "        vertical-align: top;\n",
       "    }\n",
       "\n",
       "    .dataframe thead th {\n",
       "        text-align: right;\n",
       "    }\n",
       "</style>\n",
       "<table border=\"1\" class=\"dataframe\">\n",
       "  <thead>\n",
       "    <tr style=\"text-align: right;\">\n",
       "      <th></th>\n",
       "      <th>provider_state</th>\n",
       "      <th>per_capita_average_total_payments</th>\n",
       "    </tr>\n",
       "  </thead>\n",
       "  <tbody>\n",
       "    <tr>\n",
       "      <th>0</th>\n",
       "      <td>AK</td>\n",
       "      <td>742.757479</td>\n",
       "    </tr>\n",
       "    <tr>\n",
       "      <th>11</th>\n",
       "      <td>HI</td>\n",
       "      <td>629.444775</td>\n",
       "    </tr>\n",
       "    <tr>\n",
       "      <th>7</th>\n",
       "      <td>DC</td>\n",
       "      <td>569.416996</td>\n",
       "    </tr>\n",
       "    <tr>\n",
       "      <th>4</th>\n",
       "      <td>CA</td>\n",
       "      <td>527.639260</td>\n",
       "    </tr>\n",
       "    <tr>\n",
       "      <th>37</th>\n",
       "      <td>OR</td>\n",
       "      <td>526.075845</td>\n",
       "    </tr>\n",
       "  </tbody>\n",
       "</table>\n",
       "</div>"
      ],
      "text/plain": [
       "   provider_state  per_capita_average_total_payments\n",
       "0              AK                         742.757479\n",
       "11             HI                         629.444775\n",
       "7              DC                         569.416996\n",
       "4              CA                         527.639260\n",
       "37             OR                         526.075845"
      ]
     },
     "execution_count": 727,
     "metadata": {},
     "output_type": "execute_result"
    }
   ],
   "source": [
    "state_total_payments_grouped.head()"
   ]
  },
  {
   "cell_type": "code",
   "execution_count": 728,
   "metadata": {},
   "outputs": [],
   "source": [
    "names = []\n",
    "for name in state_total_payments_grouped[\"provider_state\"]: \n",
    "    names.append(name)"
   ]
  },
  {
   "cell_type": "code",
   "execution_count": 729,
   "metadata": {},
   "outputs": [
    {
     "data": {
      "image/png": "[encoded data removed]",
      "text/plain": [
       "<Figure size 1080x720 with 1 Axes>"
      ]
     },
     "metadata": {
      "needs_background": "light"
     },
     "output_type": "display_data"
    }
   ],
   "source": [
    "plt.figure(figsize=(15,10))\n",
    "x_axis = np.arange(len(state_total_payments_grouped[\"provider_state\"]))\n",
    "tick_locations = [value for value in x_axis]\n",
    "plt.xticks(tick_locations, names, rotation=\"vertical\")\n",
    "plt.bar(x_axis, state_total_payments_grouped[\"per_capita_average_total_payments\"])\n",
    "plt.grid()\n",
    "plt.xlabel(\"State\")\n",
    "plt.ylabel(\"Average Per Capita Payments ($)\")\n",
    "plt.title(\"Per Capita Average Total Payments by State\")\n",
    "plt.tight_layout()\n",
    "# plt.savefig(\"Per Capita Average Total Payments by State\")"
   ]
  },
  {
   "cell_type": "code",
   "execution_count": 730,
   "metadata": {},
   "outputs": [],
   "source": [
    "comparison = pd.merge(state_total_payments_grouped, cost_of_living, on=\"provider_state\")"
   ]
  },
  {
   "cell_type": "code",
   "execution_count": 731,
   "metadata": {},
   "outputs": [
    {
     "data": {
      "text/html": [
       "<div>\n",
       "<style scoped>\n",
       "    .dataframe tbody tr th:only-of-type {\n",
       "        vertical-align: middle;\n",
       "    }\n",
       "\n",
       "    .dataframe tbody tr th {\n",
       "        vertical-align: top;\n",
       "    }\n",
       "\n",
       "    .dataframe thead th {\n",
       "        text-align: right;\n",
       "    }\n",
       "</style>\n",
       "<table border=\"1\" class=\"dataframe\">\n",
       "  <thead>\n",
       "    <tr style=\"text-align: right;\">\n",
       "      <th></th>\n",
       "      <th>provider_state</th>\n",
       "      <th>per_capita_average_total_payments</th>\n",
       "      <th>costIndex</th>\n",
       "      <th>State</th>\n",
       "      <th>costRank</th>\n",
       "      <th>groceryCost</th>\n",
       "      <th>housingCost</th>\n",
       "      <th>utilitiesCost</th>\n",
       "      <th>transportationCost</th>\n",
       "      <th>miscCost</th>\n",
       "    </tr>\n",
       "  </thead>\n",
       "  <tbody>\n",
       "    <tr>\n",
       "      <th>0</th>\n",
       "      <td>AK</td>\n",
       "      <td>742.757479</td>\n",
       "      <td>45</td>\n",
       "      <td>Alaska</td>\n",
       "      <td>129.9</td>\n",
       "      <td>134.2</td>\n",
       "      <td>133.9</td>\n",
       "      <td>154.2</td>\n",
       "      <td>130.8</td>\n",
       "      <td>150.9</td>\n",
       "    </tr>\n",
       "    <tr>\n",
       "      <th>1</th>\n",
       "      <td>HI</td>\n",
       "      <td>629.444775</td>\n",
       "      <td>51</td>\n",
       "      <td>Hawaii</td>\n",
       "      <td>192.9</td>\n",
       "      <td>169.3</td>\n",
       "      <td>318.6</td>\n",
       "      <td>172.7</td>\n",
       "      <td>148.6</td>\n",
       "      <td>116.8</td>\n",
       "    </tr>\n",
       "    <tr>\n",
       "      <th>2</th>\n",
       "      <td>DC</td>\n",
       "      <td>569.416996</td>\n",
       "      <td>50</td>\n",
       "      <td>District of Columbia</td>\n",
       "      <td>158.4</td>\n",
       "      <td>115.5</td>\n",
       "      <td>267.0</td>\n",
       "      <td>119.7</td>\n",
       "      <td>116.6</td>\n",
       "      <td>97.3</td>\n",
       "    </tr>\n",
       "    <tr>\n",
       "      <th>3</th>\n",
       "      <td>CA</td>\n",
       "      <td>527.639260</td>\n",
       "      <td>49</td>\n",
       "      <td>California</td>\n",
       "      <td>151.7</td>\n",
       "      <td>121.4</td>\n",
       "      <td>227.3</td>\n",
       "      <td>117.7</td>\n",
       "      <td>138.9</td>\n",
       "      <td>114.5</td>\n",
       "    </tr>\n",
       "    <tr>\n",
       "      <th>4</th>\n",
       "      <td>OR</td>\n",
       "      <td>526.075845</td>\n",
       "      <td>47</td>\n",
       "      <td>Oregon</td>\n",
       "      <td>134.2</td>\n",
       "      <td>110.3</td>\n",
       "      <td>181.8</td>\n",
       "      <td>88.0</td>\n",
       "      <td>136.7</td>\n",
       "      <td>113.2</td>\n",
       "    </tr>\n",
       "  </tbody>\n",
       "</table>\n",
       "</div>"
      ],
      "text/plain": [
       "  provider_state  per_capita_average_total_payments  costIndex  \\\n",
       "0             AK                         742.757479         45   \n",
       "1             HI                         629.444775         51   \n",
       "2             DC                         569.416996         50   \n",
       "3             CA                         527.639260         49   \n",
       "4             OR                         526.075845         47   \n",
       "\n",
       "                  State  costRank  groceryCost  housingCost  utilitiesCost  \\\n",
       "0                Alaska     129.9        134.2        133.9          154.2   \n",
       "1                Hawaii     192.9        169.3        318.6          172.7   \n",
       "2  District of Columbia     158.4        115.5        267.0          119.7   \n",
       "3            California     151.7        121.4        227.3          117.7   \n",
       "4                Oregon     134.2        110.3        181.8           88.0   \n",
       "\n",
       "   transportationCost  miscCost  \n",
       "0               130.8     150.9  \n",
       "1               148.6     116.8  \n",
       "2               116.6      97.3  \n",
       "3               138.9     114.5  \n",
       "4               136.7     113.2  "
      ]
     },
     "execution_count": 731,
     "metadata": {},
     "output_type": "execute_result"
    }
   ],
   "source": [
    "comparison.head()"
   ]
  },
  {
   "cell_type": "code",
   "execution_count": 732,
   "metadata": {},
   "outputs": [
    {
     "data": {
      "text/plain": [
       "<matplotlib.axes._subplots.AxesSubplot at 0x168e1e03c88>"
      ]
     },
     "execution_count": 732,
     "metadata": {},
     "output_type": "execute_result"
    },
    {
     "data": {
      "image/png": "[encoded data removed]",
      "text/plain": [
       "<Figure size 432x288 with 1 Axes>"
      ]
     },
     "metadata": {
      "needs_background": "light"
     },
     "output_type": "display_data"
    }
   ],
   "source": [
    "comparison.plot.scatter(\"costRank\", \"per_capita_average_total_payments\")\n",
    "# plt.savefig(\"Cost of Living vs Per Capita Average Total Payments\")"
   ]
  },
  {
   "cell_type": "code",
   "execution_count": 733,
   "metadata": {},
   "outputs": [],
   "source": [
    "x = comparison[[\"per_capita_average_total_payments\", \"costRank\"]]"
   ]
  },
  {
   "cell_type": "code",
   "execution_count": 734,
   "metadata": {},
   "outputs": [
    {
     "data": {
      "text/html": [
       "<div>\n",
       "<style scoped>\n",
       "    .dataframe tbody tr th:only-of-type {\n",
       "        vertical-align: middle;\n",
       "    }\n",
       "\n",
       "    .dataframe tbody tr th {\n",
       "        vertical-align: top;\n",
       "    }\n",
       "\n",
       "    .dataframe thead th {\n",
       "        text-align: right;\n",
       "    }\n",
       "</style>\n",
       "<table border=\"1\" class=\"dataframe\">\n",
       "  <thead>\n",
       "    <tr style=\"text-align: right;\">\n",
       "      <th></th>\n",
       "      <th>per_capita_average_total_payments</th>\n",
       "      <th>costRank</th>\n",
       "    </tr>\n",
       "  </thead>\n",
       "  <tbody>\n",
       "    <tr>\n",
       "      <th>per_capita_average_total_payments</th>\n",
       "      <td>1.000000</td>\n",
       "      <td>0.721119</td>\n",
       "    </tr>\n",
       "    <tr>\n",
       "      <th>costRank</th>\n",
       "      <td>0.721119</td>\n",
       "      <td>1.000000</td>\n",
       "    </tr>\n",
       "  </tbody>\n",
       "</table>\n",
       "</div>"
      ],
      "text/plain": [
       "                                   per_capita_average_total_payments  costRank\n",
       "per_capita_average_total_payments                           1.000000  0.721119\n",
       "costRank                                                    0.721119  1.000000"
      ]
     },
     "execution_count": 734,
     "metadata": {},
     "output_type": "execute_result"
    }
   ],
   "source": [
    "corr = x.corr()\n",
    "corr"
   ]
  },
  {
   "cell_type": "code",
   "execution_count": 735,
   "metadata": {},
   "outputs": [
    {
     "data": {
      "text/plain": [
       "<matplotlib.axes._subplots.AxesSubplot at 0x168e1e7a358>"
      ]
     },
     "execution_count": 735,
     "metadata": {},
     "output_type": "execute_result"
    },
    {
     "data": {
      "image/png": "[encoded data removed]",
      "text/plain": [
       "<Figure size 432x288 with 1 Axes>"
      ]
     },
     "metadata": {
      "needs_background": "light"
     },
     "output_type": "display_data"
    }
   ],
   "source": [
    "comparison.plot.scatter(\"transportationCost\", \"per_capita_average_total_payments\")\n",
    "# plt.savefig(\"Transportation Cost vs Per Capita Average Total Payments\")"
   ]
  },
  {
   "cell_type": "code",
   "execution_count": 736,
   "metadata": {},
   "outputs": [
    {
     "data": {
      "text/html": [
       "<div>\n",
       "<style scoped>\n",
       "    .dataframe tbody tr th:only-of-type {\n",
       "        vertical-align: middle;\n",
       "    }\n",
       "\n",
       "    .dataframe tbody tr th {\n",
       "        vertical-align: top;\n",
       "    }\n",
       "\n",
       "    .dataframe thead th {\n",
       "        text-align: right;\n",
       "    }\n",
       "</style>\n",
       "<table border=\"1\" class=\"dataframe\">\n",
       "  <thead>\n",
       "    <tr style=\"text-align: right;\">\n",
       "      <th></th>\n",
       "      <th>per_capita_average_total_payments</th>\n",
       "      <th>transportationCost</th>\n",
       "    </tr>\n",
       "  </thead>\n",
       "  <tbody>\n",
       "    <tr>\n",
       "      <th>per_capita_average_total_payments</th>\n",
       "      <td>1.000000</td>\n",
       "      <td>0.759425</td>\n",
       "    </tr>\n",
       "    <tr>\n",
       "      <th>transportationCost</th>\n",
       "      <td>0.759425</td>\n",
       "      <td>1.000000</td>\n",
       "    </tr>\n",
       "  </tbody>\n",
       "</table>\n",
       "</div>"
      ],
      "text/plain": [
       "                                   per_capita_average_total_payments  \\\n",
       "per_capita_average_total_payments                           1.000000   \n",
       "transportationCost                                          0.759425   \n",
       "\n",
       "                                   transportationCost  \n",
       "per_capita_average_total_payments            0.759425  \n",
       "transportationCost                           1.000000  "
      ]
     },
     "execution_count": 736,
     "metadata": {},
     "output_type": "execute_result"
    }
   ],
   "source": [
    "x = comparison[[\"per_capita_average_total_payments\", \"transportationCost\"]]\n",
    "corr = x.corr()\n",
    "corr"
   ]
  },
  {
   "cell_type": "code",
   "execution_count": 737,
   "metadata": {},
   "outputs": [
    {
     "data": {
      "text/plain": [
       "<matplotlib.axes._subplots.AxesSubplot at 0x168e19180f0>"
      ]
     },
     "execution_count": 737,
     "metadata": {},
     "output_type": "execute_result"
    },
    {
     "data": {
      "image/png": "[encoded data removed]",
      "text/plain": [
       "<Figure size 432x288 with 1 Axes>"
      ]
     },
     "metadata": {
      "needs_background": "light"
     },
     "output_type": "display_data"
    }
   ],
   "source": [
    "comparison.plot.scatter(\"housingCost\", \"per_capita_average_total_payments\")\n",
    "# plt.savefig(\"Housing Cost vs Per Capita Average Total Payments\")"
   ]
  },
  {
   "cell_type": "code",
   "execution_count": 738,
   "metadata": {},
   "outputs": [
    {
     "data": {
      "text/html": [
       "<div>\n",
       "<style scoped>\n",
       "    .dataframe tbody tr th:only-of-type {\n",
       "        vertical-align: middle;\n",
       "    }\n",
       "\n",
       "    .dataframe tbody tr th {\n",
       "        vertical-align: top;\n",
       "    }\n",
       "\n",
       "    .dataframe thead th {\n",
       "        text-align: right;\n",
       "    }\n",
       "</style>\n",
       "<table border=\"1\" class=\"dataframe\">\n",
       "  <thead>\n",
       "    <tr style=\"text-align: right;\">\n",
       "      <th></th>\n",
       "      <th>per_capita_average_total_payments</th>\n",
       "      <th>housingCost</th>\n",
       "    </tr>\n",
       "  </thead>\n",
       "  <tbody>\n",
       "    <tr>\n",
       "      <th>per_capita_average_total_payments</th>\n",
       "      <td>1.000000</td>\n",
       "      <td>0.683755</td>\n",
       "    </tr>\n",
       "    <tr>\n",
       "      <th>housingCost</th>\n",
       "      <td>0.683755</td>\n",
       "      <td>1.000000</td>\n",
       "    </tr>\n",
       "  </tbody>\n",
       "</table>\n",
       "</div>"
      ],
      "text/plain": [
       "                                   per_capita_average_total_payments  \\\n",
       "per_capita_average_total_payments                           1.000000   \n",
       "housingCost                                                 0.683755   \n",
       "\n",
       "                                   housingCost  \n",
       "per_capita_average_total_payments     0.683755  \n",
       "housingCost                           1.000000  "
      ]
     },
     "execution_count": 738,
     "metadata": {},
     "output_type": "execute_result"
    }
   ],
   "source": [
    "x = comparison[[\"per_capita_average_total_payments\", \"housingCost\"]]\n",
    "corr = x.corr()\n",
    "corr"
   ]
  },
  {
   "cell_type": "code",
   "execution_count": 739,
   "metadata": {},
   "outputs": [
    {
     "data": {
      "text/plain": [
       "<matplotlib.axes._subplots.AxesSubplot at 0x168e1918da0>"
      ]
     },
     "execution_count": 739,
     "metadata": {},
     "output_type": "execute_result"
    },
    {
     "data": {
      "image/png": "[encoded data removed]",
      "text/plain": [
       "<Figure size 432x288 with 1 Axes>"
      ]
     },
     "metadata": {
      "needs_background": "light"
     },
     "output_type": "display_data"
    }
   ],
   "source": [
    "comparison.plot.scatter(\"utilitiesCost\", \"per_capita_average_total_payments\")\n",
    "# plt.savefig(\"Utilities Cost vs Per Capita Average Total Payments\")"
   ]
  },
  {
   "cell_type": "code",
   "execution_count": 740,
   "metadata": {},
   "outputs": [
    {
     "data": {
      "text/html": [
       "<div>\n",
       "<style scoped>\n",
       "    .dataframe tbody tr th:only-of-type {\n",
       "        vertical-align: middle;\n",
       "    }\n",
       "\n",
       "    .dataframe tbody tr th {\n",
       "        vertical-align: top;\n",
       "    }\n",
       "\n",
       "    .dataframe thead th {\n",
       "        text-align: right;\n",
       "    }\n",
       "</style>\n",
       "<table border=\"1\" class=\"dataframe\">\n",
       "  <thead>\n",
       "    <tr style=\"text-align: right;\">\n",
       "      <th></th>\n",
       "      <th>per_capita_average_total_payments</th>\n",
       "      <th>utilitiesCost</th>\n",
       "    </tr>\n",
       "  </thead>\n",
       "  <tbody>\n",
       "    <tr>\n",
       "      <th>per_capita_average_total_payments</th>\n",
       "      <td>1.000000</td>\n",
       "      <td>0.592472</td>\n",
       "    </tr>\n",
       "    <tr>\n",
       "      <th>utilitiesCost</th>\n",
       "      <td>0.592472</td>\n",
       "      <td>1.000000</td>\n",
       "    </tr>\n",
       "  </tbody>\n",
       "</table>\n",
       "</div>"
      ],
      "text/plain": [
       "                                   per_capita_average_total_payments  \\\n",
       "per_capita_average_total_payments                           1.000000   \n",
       "utilitiesCost                                               0.592472   \n",
       "\n",
       "                                   utilitiesCost  \n",
       "per_capita_average_total_payments       0.592472  \n",
       "utilitiesCost                           1.000000  "
      ]
     },
     "execution_count": 740,
     "metadata": {},
     "output_type": "execute_result"
    }
   ],
   "source": [
    "x = comparison[[\"per_capita_average_total_payments\", \"utilitiesCost\"]]\n",
    "corr = x.corr()\n",
    "corr"
   ]
  },
  {
   "cell_type": "markdown",
   "metadata": {},
   "source": [
    "    *Observations:\n",
    "    *Alaska, Hawaii, District of Columbia, California and Oregon pay most in per capita total health payments for sample group.\n",
    "    *Mississippi, ALabama and Delware spend the lest per capita\n",
    "    * Alaska(most:$742 spends $480 more than Mississippi (lest:$280))"
   ]
  },
  {
   "cell_type": "code",
   "execution_count": 741,
   "metadata": {},
   "outputs": [],
   "source": [
    "state_medicare_grouped = state_grouped[\"per capita average medicare payments\"].reset_index()"
   ]
  },
  {
   "cell_type": "code",
   "execution_count": 742,
   "metadata": {},
   "outputs": [],
   "source": [
    "state_medicare_grouped = state_medicare_grouped.sort_values(\"per capita average medicare payments\", ascending=False)"
   ]
  },
  {
   "cell_type": "code",
   "execution_count": 743,
   "metadata": {},
   "outputs": [
    {
     "data": {
      "text/html": [
       "<div>\n",
       "<style scoped>\n",
       "    .dataframe tbody tr th:only-of-type {\n",
       "        vertical-align: middle;\n",
       "    }\n",
       "\n",
       "    .dataframe tbody tr th {\n",
       "        vertical-align: top;\n",
       "    }\n",
       "\n",
       "    .dataframe thead th {\n",
       "        text-align: right;\n",
       "    }\n",
       "</style>\n",
       "<table border=\"1\" class=\"dataframe\">\n",
       "  <thead>\n",
       "    <tr style=\"text-align: right;\">\n",
       "      <th></th>\n",
       "      <th>provider_state</th>\n",
       "      <th>per capita average medicare payments</th>\n",
       "    </tr>\n",
       "  </thead>\n",
       "  <tbody>\n",
       "    <tr>\n",
       "      <th>0</th>\n",
       "      <td>AK</td>\n",
       "      <td>650.470138</td>\n",
       "    </tr>\n",
       "    <tr>\n",
       "      <th>11</th>\n",
       "      <td>HI</td>\n",
       "      <td>495.098695</td>\n",
       "    </tr>\n",
       "    <tr>\n",
       "      <th>4</th>\n",
       "      <td>CA</td>\n",
       "      <td>464.321545</td>\n",
       "    </tr>\n",
       "    <tr>\n",
       "      <th>37</th>\n",
       "      <td>OR</td>\n",
       "      <td>452.760314</td>\n",
       "    </tr>\n",
       "    <tr>\n",
       "      <th>7</th>\n",
       "      <td>DC</td>\n",
       "      <td>435.275106</td>\n",
       "    </tr>\n",
       "  </tbody>\n",
       "</table>\n",
       "</div>"
      ],
      "text/plain": [
       "   provider_state  per capita average medicare payments\n",
       "0              AK                            650.470138\n",
       "11             HI                            495.098695\n",
       "4              CA                            464.321545\n",
       "37             OR                            452.760314\n",
       "7              DC                            435.275106"
      ]
     },
     "execution_count": 743,
     "metadata": {},
     "output_type": "execute_result"
    }
   ],
   "source": [
    "state_medicare_grouped.head()"
   ]
  },
  {
   "cell_type": "code",
   "execution_count": 744,
   "metadata": {},
   "outputs": [],
   "source": [
    "names = []\n",
    "for name in state_medicare_grouped[\"provider_state\"]: \n",
    "    names.append(name)"
   ]
  },
  {
   "cell_type": "code",
   "execution_count": 745,
   "metadata": {},
   "outputs": [
    {
     "data": {
      "image/png": "[encoded data removed]",
      "text/plain": [
       "<Figure size 1080x720 with 1 Axes>"
      ]
     },
     "metadata": {
      "needs_background": "light"
     },
     "output_type": "display_data"
    }
   ],
   "source": [
    "plt.figure(figsize=(15,10))\n",
    "x_axis = np.arange(len(state_medicare_grouped[\"provider_state\"]))\n",
    "tick_locations = [value for value in x_axis]\n",
    "plt.xticks(tick_locations, names, rotation=\"vertical\")\n",
    "plt.bar(x_axis, state_medicare_grouped[\"per capita average medicare payments\"])\n",
    "plt.grid()\n",
    "plt.xlabel(\"State\")\n",
    "plt.ylabel(\"Average Per Capita Payments ($)\")\n",
    "plt.title(\"Per Capita Average Medicare Payments by State\")\n",
    "plt.tight_layout()\n",
    "# plt.savefig(\"Per Capita Average Medicare Payments by State\")"
   ]
  },
  {
   "cell_type": "code",
   "execution_count": 746,
   "metadata": {},
   "outputs": [],
   "source": [
    "state_consumer_payment_grouped = state_grouped[\"per capita average consumer payments\"].reset_index()"
   ]
  },
  {
   "cell_type": "code",
   "execution_count": 747,
   "metadata": {},
   "outputs": [],
   "source": [
    "state_consumer_payment_grouped = state_consumer_payment_grouped.sort_values(\"per capita average consumer payments\", ascending=False)"
   ]
  },
  {
   "cell_type": "code",
   "execution_count": 748,
   "metadata": {},
   "outputs": [
    {
     "data": {
      "text/html": [
       "<div>\n",
       "<style scoped>\n",
       "    .dataframe tbody tr th:only-of-type {\n",
       "        vertical-align: middle;\n",
       "    }\n",
       "\n",
       "    .dataframe tbody tr th {\n",
       "        vertical-align: top;\n",
       "    }\n",
       "\n",
       "    .dataframe thead th {\n",
       "        text-align: right;\n",
       "    }\n",
       "</style>\n",
       "<table border=\"1\" class=\"dataframe\">\n",
       "  <thead>\n",
       "    <tr style=\"text-align: right;\">\n",
       "      <th></th>\n",
       "      <th>provider_state</th>\n",
       "      <th>per capita average consumer payments</th>\n",
       "    </tr>\n",
       "  </thead>\n",
       "  <tbody>\n",
       "    <tr>\n",
       "      <th>11</th>\n",
       "      <td>HI</td>\n",
       "      <td>134.346081</td>\n",
       "    </tr>\n",
       "    <tr>\n",
       "      <th>7</th>\n",
       "      <td>DC</td>\n",
       "      <td>134.141889</td>\n",
       "    </tr>\n",
       "    <tr>\n",
       "      <th>0</th>\n",
       "      <td>AK</td>\n",
       "      <td>92.287341</td>\n",
       "    </tr>\n",
       "    <tr>\n",
       "      <th>44</th>\n",
       "      <td>UT</td>\n",
       "      <td>83.676189</td>\n",
       "    </tr>\n",
       "    <tr>\n",
       "      <th>38</th>\n",
       "      <td>PA</td>\n",
       "      <td>80.520042</td>\n",
       "    </tr>\n",
       "  </tbody>\n",
       "</table>\n",
       "</div>"
      ],
      "text/plain": [
       "   provider_state  per capita average consumer payments\n",
       "11             HI                            134.346081\n",
       "7              DC                            134.141889\n",
       "0              AK                             92.287341\n",
       "44             UT                             83.676189\n",
       "38             PA                             80.520042"
      ]
     },
     "execution_count": 748,
     "metadata": {},
     "output_type": "execute_result"
    }
   ],
   "source": [
    "state_consumer_payment_grouped.head()"
   ]
  },
  {
   "cell_type": "code",
   "execution_count": 749,
   "metadata": {},
   "outputs": [],
   "source": [
    "names = []\n",
    "for name in state_consumer_payment_grouped[\"provider_state\"]: \n",
    "    names.append(name)"
   ]
  },
  {
   "cell_type": "code",
   "execution_count": 750,
   "metadata": {},
   "outputs": [
    {
     "data": {
      "image/png": "[encoded data removed]",
      "text/plain": [
       "<Figure size 1080x720 with 1 Axes>"
      ]
     },
     "metadata": {
      "needs_background": "light"
     },
     "output_type": "display_data"
    }
   ],
   "source": [
    "plt.figure(figsize=(15,10))\n",
    "x_axis = np.arange(len(state_consumer_payment_grouped[\"provider_state\"]))\n",
    "tick_locations = [value for value in x_axis]\n",
    "plt.xticks(tick_locations, names, rotation=\"vertical\")\n",
    "plt.bar(x_axis, state_consumer_payment_grouped[\"per capita average consumer payments\"])\n",
    "plt.grid()\n",
    "plt.xlabel(\"State\")\n",
    "plt.ylabel(\"Average Per Capita Consumer Payments ($)\")\n",
    "plt.title(\"Per Capita Average Cosumer Payments by State\")\n",
    "plt.tight_layout()\n",
    "# plt.savefig(\"Per Capita Average Consumer Payments by State\")"
   ]
  },
  {
   "cell_type": "code",
   "execution_count": 751,
   "metadata": {},
   "outputs": [],
   "source": [
    "average_covered_charges = data_2017.groupby(\"provider_state\").sum()"
   ]
  },
  {
   "cell_type": "code",
   "execution_count": 752,
   "metadata": {},
   "outputs": [],
   "source": [
    "average_covered_charges[\"per capita average covered charges\"] = average_covered_charges[\"average_covered_charges\"]/average_covered_charges[\"total_discharges\"] "
   ]
  },
  {
   "cell_type": "code",
   "execution_count": 753,
   "metadata": {},
   "outputs": [],
   "source": [
    "average_covered_charges = average_covered_charges[\"per capita average covered charges\"].reset_index()"
   ]
  },
  {
   "cell_type": "code",
   "execution_count": 754,
   "metadata": {},
   "outputs": [],
   "source": [
    "average_covered_charges = average_covered_charges.sort_values(\"per capita average covered charges\", ascending=False)"
   ]
  },
  {
   "cell_type": "code",
   "execution_count": 755,
   "metadata": {},
   "outputs": [
    {
     "data": {
      "text/html": [
       "<div>\n",
       "<style scoped>\n",
       "    .dataframe tbody tr th:only-of-type {\n",
       "        vertical-align: middle;\n",
       "    }\n",
       "\n",
       "    .dataframe tbody tr th {\n",
       "        vertical-align: top;\n",
       "    }\n",
       "\n",
       "    .dataframe thead th {\n",
       "        text-align: right;\n",
       "    }\n",
       "</style>\n",
       "<table border=\"1\" class=\"dataframe\">\n",
       "  <thead>\n",
       "    <tr style=\"text-align: right;\">\n",
       "      <th></th>\n",
       "      <th>provider_state</th>\n",
       "      <th>per capita average covered charges</th>\n",
       "    </tr>\n",
       "  </thead>\n",
       "  <tbody>\n",
       "    <tr>\n",
       "      <th>4</th>\n",
       "      <td>CA</td>\n",
       "      <td>3048.361998</td>\n",
       "    </tr>\n",
       "    <tr>\n",
       "      <th>0</th>\n",
       "      <td>AK</td>\n",
       "      <td>3043.830371</td>\n",
       "    </tr>\n",
       "    <tr>\n",
       "      <th>33</th>\n",
       "      <td>NV</td>\n",
       "      <td>2838.785136</td>\n",
       "    </tr>\n",
       "    <tr>\n",
       "      <th>5</th>\n",
       "      <td>CO</td>\n",
       "      <td>2459.717892</td>\n",
       "    </tr>\n",
       "    <tr>\n",
       "      <th>31</th>\n",
       "      <td>NJ</td>\n",
       "      <td>2288.516268</td>\n",
       "    </tr>\n",
       "  </tbody>\n",
       "</table>\n",
       "</div>"
      ],
      "text/plain": [
       "   provider_state  per capita average covered charges\n",
       "4              CA                         3048.361998\n",
       "0              AK                         3043.830371\n",
       "33             NV                         2838.785136\n",
       "5              CO                         2459.717892\n",
       "31             NJ                         2288.516268"
      ]
     },
     "execution_count": 755,
     "metadata": {},
     "output_type": "execute_result"
    }
   ],
   "source": [
    "average_covered_charges.head()"
   ]
  },
  {
   "cell_type": "code",
   "execution_count": 756,
   "metadata": {},
   "outputs": [],
   "source": [
    "names = []\n",
    "for name in average_covered_charges[\"provider_state\"]: \n",
    "    names.append(name)"
   ]
  },
  {
   "cell_type": "code",
   "execution_count": 757,
   "metadata": {},
   "outputs": [
    {
     "data": {
      "image/png": "[encoded data removed]",
      "text/plain": [
       "<Figure size 1080x720 with 1 Axes>"
      ]
     },
     "metadata": {
      "needs_background": "light"
     },
     "output_type": "display_data"
    }
   ],
   "source": [
    "plt.figure(figsize=(15,10))\n",
    "x_axis = np.arange(len(average_covered_charges[\"provider_state\"]))\n",
    "tick_locations = [value for value in x_axis]\n",
    "plt.xticks(tick_locations, names, rotation=\"vertical\")\n",
    "plt.bar(x_axis, average_covered_charges[\"per capita average covered charges\"])\n",
    "plt.grid()\n",
    "plt.xlabel(\"State\")\n",
    "plt.ylabel(\"Average Per Capita Covered Charges ($)\")\n",
    "plt.title(\"Per Capita Average Covered Charges by State\")\n",
    "plt.tight_layout()\n",
    "# plt.savefig(\"Per Capita Average Covered Charges by State\")"
   ]
  },
  {
   "cell_type": "markdown",
   "metadata": {},
   "source": [
    "*Observation:\n",
    "*For some reason Maryland has a relatively high total and medicare payments, but low on consumer payment and averge covered charge."
   ]
  },
  {
   "cell_type": "code",
   "execution_count": 758,
   "metadata": {},
   "outputs": [
    {
     "data": {
      "text/html": [
       "<div>\n",
       "<style scoped>\n",
       "    .dataframe tbody tr th:only-of-type {\n",
       "        vertical-align: middle;\n",
       "    }\n",
       "\n",
       "    .dataframe tbody tr th {\n",
       "        vertical-align: top;\n",
       "    }\n",
       "\n",
       "    .dataframe thead th {\n",
       "        text-align: right;\n",
       "    }\n",
       "</style>\n",
       "<table border=\"1\" class=\"dataframe\">\n",
       "  <thead>\n",
       "    <tr style=\"text-align: right;\">\n",
       "      <th></th>\n",
       "      <th>provider_state</th>\n",
       "      <th>provider_name</th>\n",
       "      <th>total_discharges</th>\n",
       "      <th>average_covered_charges</th>\n",
       "      <th>average_total_payments</th>\n",
       "      <th>average_medicare_payments</th>\n",
       "    </tr>\n",
       "  </thead>\n",
       "  <tbody>\n",
       "    <tr>\n",
       "      <th>0</th>\n",
       "      <td>AL</td>\n",
       "      <td>SOUTHEAST ALABAMA MEDICAL CENTER</td>\n",
       "      <td>28</td>\n",
       "      <td>117117.79</td>\n",
       "      <td>25823.71</td>\n",
       "      <td>24057.39</td>\n",
       "    </tr>\n",
       "    <tr>\n",
       "      <th>1</th>\n",
       "      <td>AL</td>\n",
       "      <td>SOUTHEAST ALABAMA MEDICAL CENTER</td>\n",
       "      <td>32</td>\n",
       "      <td>98357.56</td>\n",
       "      <td>20688.34</td>\n",
       "      <td>19791.41</td>\n",
       "    </tr>\n",
       "    <tr>\n",
       "      <th>2</th>\n",
       "      <td>AL</td>\n",
       "      <td>SOUTHEAST ALABAMA MEDICAL CENTER</td>\n",
       "      <td>11</td>\n",
       "      <td>69153.55</td>\n",
       "      <td>11811.18</td>\n",
       "      <td>8194.36</td>\n",
       "    </tr>\n",
       "    <tr>\n",
       "      <th>3</th>\n",
       "      <td>AL</td>\n",
       "      <td>SOUTHEAST ALABAMA MEDICAL CENTER</td>\n",
       "      <td>12</td>\n",
       "      <td>100427.33</td>\n",
       "      <td>19134.00</td>\n",
       "      <td>18154.00</td>\n",
       "    </tr>\n",
       "    <tr>\n",
       "      <th>4</th>\n",
       "      <td>AL</td>\n",
       "      <td>SOUTHEAST ALABAMA MEDICAL CENTER</td>\n",
       "      <td>17</td>\n",
       "      <td>58199.47</td>\n",
       "      <td>8519.47</td>\n",
       "      <td>6714.88</td>\n",
       "    </tr>\n",
       "  </tbody>\n",
       "</table>\n",
       "</div>"
      ],
      "text/plain": [
       "  provider_state                     provider_name  total_discharges  \\\n",
       "0             AL  SOUTHEAST ALABAMA MEDICAL CENTER                28   \n",
       "1             AL  SOUTHEAST ALABAMA MEDICAL CENTER                32   \n",
       "2             AL  SOUTHEAST ALABAMA MEDICAL CENTER                11   \n",
       "3             AL  SOUTHEAST ALABAMA MEDICAL CENTER                12   \n",
       "4             AL  SOUTHEAST ALABAMA MEDICAL CENTER                17   \n",
       "\n",
       "   average_covered_charges  average_total_payments  average_medicare_payments  \n",
       "0                117117.79                25823.71                   24057.39  \n",
       "1                 98357.56                20688.34                   19791.41  \n",
       "2                 69153.55                11811.18                    8194.36  \n",
       "3                100427.33                19134.00                   18154.00  \n",
       "4                 58199.47                 8519.47                    6714.88  "
      ]
     },
     "execution_count": 758,
     "metadata": {},
     "output_type": "execute_result"
    }
   ],
   "source": [
    "data_2017_raw.head()"
   ]
  },
  {
   "cell_type": "code",
   "execution_count": 759,
   "metadata": {},
   "outputs": [],
   "source": [
    "market_share = data_2017_raw.groupby([\"provider_state\", \"provider_name\"]).sum()"
   ]
  },
  {
   "cell_type": "code",
   "execution_count": 760,
   "metadata": {},
   "outputs": [],
   "source": [
    "market_share = market_share.reset_index()"
   ]
  },
  {
   "cell_type": "code",
   "execution_count": 761,
   "metadata": {},
   "outputs": [
    {
     "data": {
      "text/html": [
       "<div>\n",
       "<style scoped>\n",
       "    .dataframe tbody tr th:only-of-type {\n",
       "        vertical-align: middle;\n",
       "    }\n",
       "\n",
       "    .dataframe tbody tr th {\n",
       "        vertical-align: top;\n",
       "    }\n",
       "\n",
       "    .dataframe thead th {\n",
       "        text-align: right;\n",
       "    }\n",
       "</style>\n",
       "<table border=\"1\" class=\"dataframe\">\n",
       "  <thead>\n",
       "    <tr style=\"text-align: right;\">\n",
       "      <th></th>\n",
       "      <th>provider_state</th>\n",
       "      <th>provider_name</th>\n",
       "      <th>total_discharges</th>\n",
       "      <th>average_covered_charges</th>\n",
       "      <th>average_total_payments</th>\n",
       "      <th>average_medicare_payments</th>\n",
       "    </tr>\n",
       "  </thead>\n",
       "  <tbody>\n",
       "    <tr>\n",
       "      <th>0</th>\n",
       "      <td>AK</td>\n",
       "      <td>ALASKA NATIVE MEDICAL CENTER</td>\n",
       "      <td>924</td>\n",
       "      <td>2445600.12</td>\n",
       "      <td>727963.76</td>\n",
       "      <td>686213.68</td>\n",
       "    </tr>\n",
       "    <tr>\n",
       "      <th>1</th>\n",
       "      <td>AK</td>\n",
       "      <td>ALASKA REGIONAL HOSPITAL</td>\n",
       "      <td>1317</td>\n",
       "      <td>4425897.89</td>\n",
       "      <td>775992.01</td>\n",
       "      <td>649633.48</td>\n",
       "    </tr>\n",
       "    <tr>\n",
       "      <th>2</th>\n",
       "      <td>AK</td>\n",
       "      <td>BARTLETT REGIONAL HOSPITAL</td>\n",
       "      <td>238</td>\n",
       "      <td>401616.35</td>\n",
       "      <td>212352.76</td>\n",
       "      <td>198250.18</td>\n",
       "    </tr>\n",
       "    <tr>\n",
       "      <th>3</th>\n",
       "      <td>AK</td>\n",
       "      <td>CENTRAL PENINSULA GENERAL HOSPITAL</td>\n",
       "      <td>414</td>\n",
       "      <td>640567.78</td>\n",
       "      <td>288606.46</td>\n",
       "      <td>270462.71</td>\n",
       "    </tr>\n",
       "    <tr>\n",
       "      <th>4</th>\n",
       "      <td>AK</td>\n",
       "      <td>FAIRBANKS MEMORIAL HOSPITAL</td>\n",
       "      <td>541</td>\n",
       "      <td>984926.24</td>\n",
       "      <td>436002.53</td>\n",
       "      <td>400349.35</td>\n",
       "    </tr>\n",
       "  </tbody>\n",
       "</table>\n",
       "</div>"
      ],
      "text/plain": [
       "  provider_state                       provider_name  total_discharges  \\\n",
       "0             AK        ALASKA NATIVE MEDICAL CENTER               924   \n",
       "1             AK            ALASKA REGIONAL HOSPITAL              1317   \n",
       "2             AK          BARTLETT REGIONAL HOSPITAL               238   \n",
       "3             AK  CENTRAL PENINSULA GENERAL HOSPITAL               414   \n",
       "4             AK         FAIRBANKS MEMORIAL HOSPITAL               541   \n",
       "\n",
       "   average_covered_charges  average_total_payments  average_medicare_payments  \n",
       "0               2445600.12               727963.76                  686213.68  \n",
       "1               4425897.89               775992.01                  649633.48  \n",
       "2                401616.35               212352.76                  198250.18  \n",
       "3                640567.78               288606.46                  270462.71  \n",
       "4                984926.24               436002.53                  400349.35  "
      ]
     },
     "execution_count": 761,
     "metadata": {},
     "output_type": "execute_result"
    }
   ],
   "source": [
    "market_share.head()"
   ]
  },
  {
   "cell_type": "code",
   "execution_count": 762,
   "metadata": {},
   "outputs": [],
   "source": [
    "number_state_hospitals = []\n",
    "provider_state_count = market_share[\"provider_state\"][0]\n",
    "state_abbrevs = [provider_state_count]\n",
    "x = 1\n",
    "provider_name_count = 0\n",
    "\n",
    "for row in market_share[\"provider_state\"]:\n",
    "    if row == provider_state_count:\n",
    "        provider_state_count = row\n",
    "        provider_name_count += 1\n",
    "        \n",
    "    else:\n",
    "        number_state_hospitals.append(provider_name_count)\n",
    "        provider_state_count = row\n",
    "        provider_name_count = 1\n",
    "        state_abbrevs.append(row)\n",
    "number_state_hospitals.append(provider_name_count)\n",
    "state_abbrevs.append(row)"
   ]
  },
  {
   "cell_type": "code",
   "execution_count": 763,
   "metadata": {},
   "outputs": [],
   "source": [
    "number_state_hospitals = zip(state_abbrevs, number_state_hospitals)"
   ]
  },
  {
   "cell_type": "code",
   "execution_count": 764,
   "metadata": {},
   "outputs": [],
   "source": [
    "number_state_hospitals = pd.DataFrame(number_state_hospitals)"
   ]
  },
  {
   "cell_type": "code",
   "execution_count": 765,
   "metadata": {},
   "outputs": [],
   "source": [
    "number_state_hospitals = number_state_hospitals.rename(columns = ({0: \"provider_state\", 1: \"number_of_hospitals\"}))"
   ]
  },
  {
   "cell_type": "code",
   "execution_count": 766,
   "metadata": {},
   "outputs": [
    {
     "data": {
      "text/html": [
       "<div>\n",
       "<style scoped>\n",
       "    .dataframe tbody tr th:only-of-type {\n",
       "        vertical-align: middle;\n",
       "    }\n",
       "\n",
       "    .dataframe tbody tr th {\n",
       "        vertical-align: top;\n",
       "    }\n",
       "\n",
       "    .dataframe thead th {\n",
       "        text-align: right;\n",
       "    }\n",
       "</style>\n",
       "<table border=\"1\" class=\"dataframe\">\n",
       "  <thead>\n",
       "    <tr style=\"text-align: right;\">\n",
       "      <th></th>\n",
       "      <th>provider_state</th>\n",
       "      <th>number_of_hospitals</th>\n",
       "    </tr>\n",
       "  </thead>\n",
       "  <tbody>\n",
       "    <tr>\n",
       "      <th>0</th>\n",
       "      <td>AK</td>\n",
       "      <td>8</td>\n",
       "    </tr>\n",
       "    <tr>\n",
       "      <th>1</th>\n",
       "      <td>AL</td>\n",
       "      <td>82</td>\n",
       "    </tr>\n",
       "    <tr>\n",
       "      <th>2</th>\n",
       "      <td>AR</td>\n",
       "      <td>44</td>\n",
       "    </tr>\n",
       "    <tr>\n",
       "      <th>3</th>\n",
       "      <td>AZ</td>\n",
       "      <td>59</td>\n",
       "    </tr>\n",
       "    <tr>\n",
       "      <th>4</th>\n",
       "      <td>CA</td>\n",
       "      <td>288</td>\n",
       "    </tr>\n",
       "  </tbody>\n",
       "</table>\n",
       "</div>"
      ],
      "text/plain": [
       "  provider_state  number_of_hospitals\n",
       "0             AK                    8\n",
       "1             AL                   82\n",
       "2             AR                   44\n",
       "3             AZ                   59\n",
       "4             CA                  288"
      ]
     },
     "execution_count": 766,
     "metadata": {},
     "output_type": "execute_result"
    }
   ],
   "source": [
    "number_state_hospitals.head()"
   ]
  },
  {
   "cell_type": "code",
   "execution_count": 767,
   "metadata": {},
   "outputs": [],
   "source": [
    "market_share = market_share.groupby(\"provider_state\").sum().reset_index()"
   ]
  },
  {
   "cell_type": "code",
   "execution_count": 768,
   "metadata": {},
   "outputs": [
    {
     "data": {
      "text/html": [
       "<div>\n",
       "<style scoped>\n",
       "    .dataframe tbody tr th:only-of-type {\n",
       "        vertical-align: middle;\n",
       "    }\n",
       "\n",
       "    .dataframe tbody tr th {\n",
       "        vertical-align: top;\n",
       "    }\n",
       "\n",
       "    .dataframe thead th {\n",
       "        text-align: right;\n",
       "    }\n",
       "</style>\n",
       "<table border=\"1\" class=\"dataframe\">\n",
       "  <thead>\n",
       "    <tr style=\"text-align: right;\">\n",
       "      <th></th>\n",
       "      <th>provider_state</th>\n",
       "      <th>total_discharges</th>\n",
       "      <th>average_covered_charges</th>\n",
       "      <th>average_total_payments</th>\n",
       "      <th>average_medicare_payments</th>\n",
       "    </tr>\n",
       "  </thead>\n",
       "  <tbody>\n",
       "    <tr>\n",
       "      <th>0</th>\n",
       "      <td>AK</td>\n",
       "      <td>7681</td>\n",
       "      <td>2.337966e+07</td>\n",
       "      <td>5.705120e+06</td>\n",
       "      <td>4.996261e+06</td>\n",
       "    </tr>\n",
       "    <tr>\n",
       "      <th>1</th>\n",
       "      <td>AL</td>\n",
       "      <td>142060</td>\n",
       "      <td>2.143038e+08</td>\n",
       "      <td>4.119621e+07</td>\n",
       "      <td>3.409628e+07</td>\n",
       "    </tr>\n",
       "    <tr>\n",
       "      <th>2</th>\n",
       "      <td>AR</td>\n",
       "      <td>91655</td>\n",
       "      <td>1.058598e+08</td>\n",
       "      <td>2.707915e+07</td>\n",
       "      <td>2.321937e+07</td>\n",
       "    </tr>\n",
       "    <tr>\n",
       "      <th>3</th>\n",
       "      <td>AZ</td>\n",
       "      <td>115039</td>\n",
       "      <td>2.434176e+08</td>\n",
       "      <td>5.071762e+07</td>\n",
       "      <td>4.397756e+07</td>\n",
       "    </tr>\n",
       "    <tr>\n",
       "      <th>4</th>\n",
       "      <td>CA</td>\n",
       "      <td>531134</td>\n",
       "      <td>1.619089e+09</td>\n",
       "      <td>2.802472e+08</td>\n",
       "      <td>2.466170e+08</td>\n",
       "    </tr>\n",
       "  </tbody>\n",
       "</table>\n",
       "</div>"
      ],
      "text/plain": [
       "  provider_state  total_discharges  average_covered_charges  \\\n",
       "0             AK              7681             2.337966e+07   \n",
       "1             AL            142060             2.143038e+08   \n",
       "2             AR             91655             1.058598e+08   \n",
       "3             AZ            115039             2.434176e+08   \n",
       "4             CA            531134             1.619089e+09   \n",
       "\n",
       "   average_total_payments  average_medicare_payments  \n",
       "0            5.705120e+06               4.996261e+06  \n",
       "1            4.119621e+07               3.409628e+07  \n",
       "2            2.707915e+07               2.321937e+07  \n",
       "3            5.071762e+07               4.397756e+07  \n",
       "4            2.802472e+08               2.466170e+08  "
      ]
     },
     "execution_count": 768,
     "metadata": {},
     "output_type": "execute_result"
    }
   ],
   "source": [
    "market_share.head()"
   ]
  },
  {
   "cell_type": "code",
   "execution_count": 769,
   "metadata": {},
   "outputs": [],
   "source": [
    "market_share = market_share[[\"provider_state\", \"total_discharges\", \"average_total_payments\"]]"
   ]
  },
  {
   "cell_type": "code",
   "execution_count": 770,
   "metadata": {},
   "outputs": [],
   "source": [
    "market_share = pd.merge(state_total_payments_grouped, market_share, on=\"provider_state\")"
   ]
  },
  {
   "cell_type": "code",
   "execution_count": 771,
   "metadata": {},
   "outputs": [],
   "source": [
    "market_share = pd.merge(market_share, number_state_hospitals, on=\"provider_state\")"
   ]
  },
  {
   "cell_type": "code",
   "execution_count": 772,
   "metadata": {},
   "outputs": [
    {
     "data": {
      "text/html": [
       "<div>\n",
       "<style scoped>\n",
       "    .dataframe tbody tr th:only-of-type {\n",
       "        vertical-align: middle;\n",
       "    }\n",
       "\n",
       "    .dataframe tbody tr th {\n",
       "        vertical-align: top;\n",
       "    }\n",
       "\n",
       "    .dataframe thead th {\n",
       "        text-align: right;\n",
       "    }\n",
       "</style>\n",
       "<table border=\"1\" class=\"dataframe\">\n",
       "  <thead>\n",
       "    <tr style=\"text-align: right;\">\n",
       "      <th></th>\n",
       "      <th>provider_state</th>\n",
       "      <th>per_capita_average_total_payments</th>\n",
       "      <th>total_discharges</th>\n",
       "      <th>average_total_payments</th>\n",
       "      <th>number_of_hospitals</th>\n",
       "    </tr>\n",
       "  </thead>\n",
       "  <tbody>\n",
       "    <tr>\n",
       "      <th>0</th>\n",
       "      <td>AK</td>\n",
       "      <td>742.757479</td>\n",
       "      <td>7681</td>\n",
       "      <td>5.705120e+06</td>\n",
       "      <td>8</td>\n",
       "    </tr>\n",
       "    <tr>\n",
       "      <th>1</th>\n",
       "      <td>HI</td>\n",
       "      <td>629.444775</td>\n",
       "      <td>13742</td>\n",
       "      <td>8.649830e+06</td>\n",
       "      <td>12</td>\n",
       "    </tr>\n",
       "    <tr>\n",
       "      <th>2</th>\n",
       "      <td>DC</td>\n",
       "      <td>569.416996</td>\n",
       "      <td>27599</td>\n",
       "      <td>1.571534e+07</td>\n",
       "      <td>7</td>\n",
       "    </tr>\n",
       "    <tr>\n",
       "      <th>3</th>\n",
       "      <td>CA</td>\n",
       "      <td>527.639260</td>\n",
       "      <td>531134</td>\n",
       "      <td>2.802472e+08</td>\n",
       "      <td>288</td>\n",
       "    </tr>\n",
       "    <tr>\n",
       "      <th>4</th>\n",
       "      <td>OR</td>\n",
       "      <td>526.075845</td>\n",
       "      <td>53440</td>\n",
       "      <td>2.811349e+07</td>\n",
       "      <td>34</td>\n",
       "    </tr>\n",
       "  </tbody>\n",
       "</table>\n",
       "</div>"
      ],
      "text/plain": [
       "  provider_state  per_capita_average_total_payments  total_discharges  \\\n",
       "0             AK                         742.757479              7681   \n",
       "1             HI                         629.444775             13742   \n",
       "2             DC                         569.416996             27599   \n",
       "3             CA                         527.639260            531134   \n",
       "4             OR                         526.075845             53440   \n",
       "\n",
       "   average_total_payments  number_of_hospitals  \n",
       "0            5.705120e+06                    8  \n",
       "1            8.649830e+06                   12  \n",
       "2            1.571534e+07                    7  \n",
       "3            2.802472e+08                  288  \n",
       "4            2.811349e+07                   34  "
      ]
     },
     "execution_count": 772,
     "metadata": {},
     "output_type": "execute_result"
    }
   ],
   "source": [
    "market_share.head()"
   ]
  },
  {
   "cell_type": "code",
   "execution_count": 773,
   "metadata": {},
   "outputs": [],
   "source": [
    "market_share = market_share.sort_values(\"number_of_hospitals\", ascending=False)"
   ]
  },
  {
   "cell_type": "code",
   "execution_count": 774,
   "metadata": {},
   "outputs": [
    {
     "data": {
      "text/html": [
       "<div>\n",
       "<style scoped>\n",
       "    .dataframe tbody tr th:only-of-type {\n",
       "        vertical-align: middle;\n",
       "    }\n",
       "\n",
       "    .dataframe tbody tr th {\n",
       "        vertical-align: top;\n",
       "    }\n",
       "\n",
       "    .dataframe thead th {\n",
       "        text-align: right;\n",
       "    }\n",
       "</style>\n",
       "<table border=\"1\" class=\"dataframe\">\n",
       "  <thead>\n",
       "    <tr style=\"text-align: right;\">\n",
       "      <th></th>\n",
       "      <th>provider_state</th>\n",
       "      <th>per_capita_average_total_payments</th>\n",
       "      <th>total_discharges</th>\n",
       "      <th>average_total_payments</th>\n",
       "      <th>number_of_hospitals</th>\n",
       "    </tr>\n",
       "  </thead>\n",
       "  <tbody>\n",
       "    <tr>\n",
       "      <th>3</th>\n",
       "      <td>CA</td>\n",
       "      <td>527.639260</td>\n",
       "      <td>531134</td>\n",
       "      <td>2.802472e+08</td>\n",
       "      <td>288</td>\n",
       "    </tr>\n",
       "    <tr>\n",
       "      <th>29</th>\n",
       "      <td>TX</td>\n",
       "      <td>355.205014</td>\n",
       "      <td>499356</td>\n",
       "      <td>1.773738e+08</td>\n",
       "      <td>279</td>\n",
       "    </tr>\n",
       "    <tr>\n",
       "      <th>46</th>\n",
       "      <td>FL</td>\n",
       "      <td>302.967838</td>\n",
       "      <td>582437</td>\n",
       "      <td>1.764597e+08</td>\n",
       "      <td>166</td>\n",
       "    </tr>\n",
       "    <tr>\n",
       "      <th>18</th>\n",
       "      <td>PA</td>\n",
       "      <td>391.829753</td>\n",
       "      <td>324956</td>\n",
       "      <td>1.273274e+08</td>\n",
       "      <td>148</td>\n",
       "    </tr>\n",
       "    <tr>\n",
       "      <th>9</th>\n",
       "      <td>NY</td>\n",
       "      <td>443.239158</td>\n",
       "      <td>428911</td>\n",
       "      <td>1.901102e+08</td>\n",
       "      <td>145</td>\n",
       "    </tr>\n",
       "  </tbody>\n",
       "</table>\n",
       "</div>"
      ],
      "text/plain": [
       "   provider_state  per_capita_average_total_payments  total_discharges  \\\n",
       "3              CA                         527.639260            531134   \n",
       "29             TX                         355.205014            499356   \n",
       "46             FL                         302.967838            582437   \n",
       "18             PA                         391.829753            324956   \n",
       "9              NY                         443.239158            428911   \n",
       "\n",
       "    average_total_payments  number_of_hospitals  \n",
       "3             2.802472e+08                  288  \n",
       "29            1.773738e+08                  279  \n",
       "46            1.764597e+08                  166  \n",
       "18            1.273274e+08                  148  \n",
       "9             1.901102e+08                  145  "
      ]
     },
     "execution_count": 774,
     "metadata": {},
     "output_type": "execute_result"
    }
   ],
   "source": [
    "market_share.head()"
   ]
  },
  {
   "cell_type": "code",
   "execution_count": 775,
   "metadata": {},
   "outputs": [],
   "source": [
    "market_share[\"total_discharges_per_hospital\"] = market_share[\"total_discharges\"]/market_share[\"number_of_hospitals\"]"
   ]
  },
  {
   "cell_type": "code",
   "execution_count": 776,
   "metadata": {},
   "outputs": [],
   "source": [
    "market_share_discharges = market_share.sort_values(\"total_discharges_per_hospital\", ascending=False)"
   ]
  },
  {
   "cell_type": "code",
   "execution_count": 777,
   "metadata": {},
   "outputs": [],
   "source": [
    "market_share_discharges  = market_share_discharges [[\"provider_state\", \"total_discharges_per_hospital\", \"per_capita_average_total_payments\"]]"
   ]
  },
  {
   "cell_type": "code",
   "execution_count": 778,
   "metadata": {},
   "outputs": [
    {
     "data": {
      "text/html": [
       "<div>\n",
       "<style scoped>\n",
       "    .dataframe tbody tr th:only-of-type {\n",
       "        vertical-align: middle;\n",
       "    }\n",
       "\n",
       "    .dataframe tbody tr th {\n",
       "        vertical-align: top;\n",
       "    }\n",
       "\n",
       "    .dataframe thead th {\n",
       "        text-align: right;\n",
       "    }\n",
       "</style>\n",
       "<table border=\"1\" class=\"dataframe\">\n",
       "  <thead>\n",
       "    <tr style=\"text-align: right;\">\n",
       "      <th></th>\n",
       "      <th>provider_state</th>\n",
       "      <th>total_discharges_per_hospital</th>\n",
       "      <th>per_capita_average_total_payments</th>\n",
       "    </tr>\n",
       "  </thead>\n",
       "  <tbody>\n",
       "    <tr>\n",
       "      <th>48</th>\n",
       "      <td>DE</td>\n",
       "      <td>5910.000000</td>\n",
       "      <td>293.054141</td>\n",
       "    </tr>\n",
       "    <tr>\n",
       "      <th>27</th>\n",
       "      <td>MA</td>\n",
       "      <td>4030.250000</td>\n",
       "      <td>363.988061</td>\n",
       "    </tr>\n",
       "    <tr>\n",
       "      <th>11</th>\n",
       "      <td>MD</td>\n",
       "      <td>3948.148936</td>\n",
       "      <td>429.937762</td>\n",
       "    </tr>\n",
       "    <tr>\n",
       "      <th>2</th>\n",
       "      <td>DC</td>\n",
       "      <td>3942.714286</td>\n",
       "      <td>569.416996</td>\n",
       "    </tr>\n",
       "    <tr>\n",
       "      <th>23</th>\n",
       "      <td>NJ</td>\n",
       "      <td>3890.640625</td>\n",
       "      <td>375.711545</td>\n",
       "    </tr>\n",
       "  </tbody>\n",
       "</table>\n",
       "</div>"
      ],
      "text/plain": [
       "   provider_state  total_discharges_per_hospital  \\\n",
       "48             DE                    5910.000000   \n",
       "27             MA                    4030.250000   \n",
       "11             MD                    3948.148936   \n",
       "2              DC                    3942.714286   \n",
       "23             NJ                    3890.640625   \n",
       "\n",
       "    per_capita_average_total_payments  \n",
       "48                         293.054141  \n",
       "27                         363.988061  \n",
       "11                         429.937762  \n",
       "2                          569.416996  \n",
       "23                         375.711545  "
      ]
     },
     "execution_count": 778,
     "metadata": {},
     "output_type": "execute_result"
    }
   ],
   "source": [
    "market_share_discharges.head()"
   ]
  },
  {
   "cell_type": "code",
   "execution_count": 779,
   "metadata": {},
   "outputs": [
    {
     "data": {
      "text/plain": [
       "<matplotlib.axes._subplots.AxesSubplot at 0x168e6863470>"
      ]
     },
     "execution_count": 779,
     "metadata": {},
     "output_type": "execute_result"
    },
    {
     "data": {
      "image/png": "[encoded data removed]",
      "text/plain": [
       "<Figure size 432x288 with 1 Axes>"
      ]
     },
     "metadata": {
      "needs_background": "light"
     },
     "output_type": "display_data"
    }
   ],
   "source": [
    "market_share_discharges.plot.scatter(\"total_discharges_per_hospital\", \"per_capita_average_total_payments\")"
   ]
  },
  {
   "cell_type": "code",
   "execution_count": 780,
   "metadata": {},
   "outputs": [
    {
     "data": {
      "text/html": [
       "<div>\n",
       "<style scoped>\n",
       "    .dataframe tbody tr th:only-of-type {\n",
       "        vertical-align: middle;\n",
       "    }\n",
       "\n",
       "    .dataframe tbody tr th {\n",
       "        vertical-align: top;\n",
       "    }\n",
       "\n",
       "    .dataframe thead th {\n",
       "        text-align: right;\n",
       "    }\n",
       "</style>\n",
       "<table border=\"1\" class=\"dataframe\">\n",
       "  <thead>\n",
       "    <tr style=\"text-align: right;\">\n",
       "      <th></th>\n",
       "      <th>total_discharges_per_hospital</th>\n",
       "      <th>per_capita_average_total_payments</th>\n",
       "    </tr>\n",
       "  </thead>\n",
       "  <tbody>\n",
       "    <tr>\n",
       "      <th>total_discharges_per_hospital</th>\n",
       "      <td>1.000000</td>\n",
       "      <td>-0.264992</td>\n",
       "    </tr>\n",
       "    <tr>\n",
       "      <th>per_capita_average_total_payments</th>\n",
       "      <td>-0.264992</td>\n",
       "      <td>1.000000</td>\n",
       "    </tr>\n",
       "  </tbody>\n",
       "</table>\n",
       "</div>"
      ],
      "text/plain": [
       "                                   total_discharges_per_hospital  \\\n",
       "total_discharges_per_hospital                           1.000000   \n",
       "per_capita_average_total_payments                      -0.264992   \n",
       "\n",
       "                                   per_capita_average_total_payments  \n",
       "total_discharges_per_hospital                              -0.264992  \n",
       "per_capita_average_total_payments                           1.000000  "
      ]
     },
     "execution_count": 780,
     "metadata": {},
     "output_type": "execute_result"
    }
   ],
   "source": [
    "x = market_share_discharges[[\"total_discharges_per_hospital\", \"per_capita_average_total_payments\"]]\n",
    "corr = x.corr()\n",
    "corr"
   ]
  },
  {
   "cell_type": "code",
   "execution_count": 781,
   "metadata": {},
   "outputs": [],
   "source": [
    "market_share_discharges = pd.merge(market_share_discharges, state_consumer_payment_grouped, on=\"provider_state\")"
   ]
  },
  {
   "cell_type": "code",
   "execution_count": 782,
   "metadata": {},
   "outputs": [
    {
     "data": {
      "text/plain": [
       "<matplotlib.axes._subplots.AxesSubplot at 0x168e7ab16a0>"
      ]
     },
     "execution_count": 782,
     "metadata": {},
     "output_type": "execute_result"
    },
    {
     "data": {
      "image/png": "[encoded data removed]",
      "text/plain": [
       "<Figure size 432x288 with 1 Axes>"
      ]
     },
     "metadata": {
      "needs_background": "light"
     },
     "output_type": "display_data"
    }
   ],
   "source": [
    "market_share_discharges.plot.scatter(\"total_discharges_per_hospital\", \"per capita average consumer payments\")"
   ]
  },
  {
   "cell_type": "code",
   "execution_count": 783,
   "metadata": {},
   "outputs": [
    {
     "data": {
      "text/html": [
       "<div>\n",
       "<style scoped>\n",
       "    .dataframe tbody tr th:only-of-type {\n",
       "        vertical-align: middle;\n",
       "    }\n",
       "\n",
       "    .dataframe tbody tr th {\n",
       "        vertical-align: top;\n",
       "    }\n",
       "\n",
       "    .dataframe thead th {\n",
       "        text-align: right;\n",
       "    }\n",
       "</style>\n",
       "<table border=\"1\" class=\"dataframe\">\n",
       "  <thead>\n",
       "    <tr style=\"text-align: right;\">\n",
       "      <th></th>\n",
       "      <th>total_discharges_per_hospital</th>\n",
       "      <th>per capita average consumer payments</th>\n",
       "    </tr>\n",
       "  </thead>\n",
       "  <tbody>\n",
       "    <tr>\n",
       "      <th>total_discharges_per_hospital</th>\n",
       "      <td>1.000000</td>\n",
       "      <td>-0.146403</td>\n",
       "    </tr>\n",
       "    <tr>\n",
       "      <th>per capita average consumer payments</th>\n",
       "      <td>-0.146403</td>\n",
       "      <td>1.000000</td>\n",
       "    </tr>\n",
       "  </tbody>\n",
       "</table>\n",
       "</div>"
      ],
      "text/plain": [
       "                                      total_discharges_per_hospital  \\\n",
       "total_discharges_per_hospital                              1.000000   \n",
       "per capita average consumer payments                      -0.146403   \n",
       "\n",
       "                                      per capita average consumer payments  \n",
       "total_discharges_per_hospital                                    -0.146403  \n",
       "per capita average consumer payments                              1.000000  "
      ]
     },
     "execution_count": 783,
     "metadata": {},
     "output_type": "execute_result"
    }
   ],
   "source": [
    "x = market_share_discharges[[\"total_discharges_per_hospital\", \"per capita average consumer payments\"]]\n",
    "corr = x.corr()\n",
    "corr"
   ]
  },
  {
   "cell_type": "code",
   "execution_count": 784,
   "metadata": {},
   "outputs": [],
   "source": [
    "covered_charge = pd.merge(state_consumer_payment_grouped, average_covered_charges, on=\"provider_state\")"
   ]
  },
  {
   "cell_type": "code",
   "execution_count": 785,
   "metadata": {},
   "outputs": [
    {
     "data": {
      "text/html": [
       "<div>\n",
       "<style scoped>\n",
       "    .dataframe tbody tr th:only-of-type {\n",
       "        vertical-align: middle;\n",
       "    }\n",
       "\n",
       "    .dataframe tbody tr th {\n",
       "        vertical-align: top;\n",
       "    }\n",
       "\n",
       "    .dataframe thead th {\n",
       "        text-align: right;\n",
       "    }\n",
       "</style>\n",
       "<table border=\"1\" class=\"dataframe\">\n",
       "  <thead>\n",
       "    <tr style=\"text-align: right;\">\n",
       "      <th></th>\n",
       "      <th>provider_state</th>\n",
       "      <th>per capita average consumer payments</th>\n",
       "      <th>per capita average covered charges</th>\n",
       "    </tr>\n",
       "  </thead>\n",
       "  <tbody>\n",
       "    <tr>\n",
       "      <th>0</th>\n",
       "      <td>HI</td>\n",
       "      <td>134.346081</td>\n",
       "      <td>1654.204170</td>\n",
       "    </tr>\n",
       "    <tr>\n",
       "      <th>1</th>\n",
       "      <td>DC</td>\n",
       "      <td>134.141889</td>\n",
       "      <td>2217.923143</td>\n",
       "    </tr>\n",
       "    <tr>\n",
       "      <th>2</th>\n",
       "      <td>AK</td>\n",
       "      <td>92.287341</td>\n",
       "      <td>3043.830371</td>\n",
       "    </tr>\n",
       "    <tr>\n",
       "      <th>3</th>\n",
       "      <td>UT</td>\n",
       "      <td>83.676189</td>\n",
       "      <td>1411.642478</td>\n",
       "    </tr>\n",
       "    <tr>\n",
       "      <th>4</th>\n",
       "      <td>PA</td>\n",
       "      <td>80.520042</td>\n",
       "      <td>1976.144690</td>\n",
       "    </tr>\n",
       "  </tbody>\n",
       "</table>\n",
       "</div>"
      ],
      "text/plain": [
       "  provider_state  per capita average consumer payments  \\\n",
       "0             HI                            134.346081   \n",
       "1             DC                            134.141889   \n",
       "2             AK                             92.287341   \n",
       "3             UT                             83.676189   \n",
       "4             PA                             80.520042   \n",
       "\n",
       "   per capita average covered charges  \n",
       "0                         1654.204170  \n",
       "1                         2217.923143  \n",
       "2                         3043.830371  \n",
       "3                         1411.642478  \n",
       "4                         1976.144690  "
      ]
     },
     "execution_count": 785,
     "metadata": {},
     "output_type": "execute_result"
    }
   ],
   "source": [
    "covered_charge.head()"
   ]
  },
  {
   "cell_type": "code",
   "execution_count": 786,
   "metadata": {},
   "outputs": [
    {
     "data": {
      "text/plain": [
       "<matplotlib.axes._subplots.AxesSubplot at 0x168e7afec50>"
      ]
     },
     "execution_count": 786,
     "metadata": {},
     "output_type": "execute_result"
    },
    {
     "data": {
      "image/png": "[encoded data removed]",
      "text/plain": [
       "<Figure size 432x288 with 1 Axes>"
      ]
     },
     "metadata": {
      "needs_background": "light"
     },
     "output_type": "display_data"
    }
   ],
   "source": [
    "covered_charge.plot.scatter(\"per capita average covered charges\", \"per capita average consumer payments\")"
   ]
  },
  {
   "cell_type": "code",
   "execution_count": 787,
   "metadata": {},
   "outputs": [
    {
     "data": {
      "text/html": [
       "<div>\n",
       "<style scoped>\n",
       "    .dataframe tbody tr th:only-of-type {\n",
       "        vertical-align: middle;\n",
       "    }\n",
       "\n",
       "    .dataframe tbody tr th {\n",
       "        vertical-align: top;\n",
       "    }\n",
       "\n",
       "    .dataframe thead th {\n",
       "        text-align: right;\n",
       "    }\n",
       "</style>\n",
       "<table border=\"1\" class=\"dataframe\">\n",
       "  <thead>\n",
       "    <tr style=\"text-align: right;\">\n",
       "      <th></th>\n",
       "      <th>per capita average covered charges</th>\n",
       "      <th>per capita average consumer payments</th>\n",
       "    </tr>\n",
       "  </thead>\n",
       "  <tbody>\n",
       "    <tr>\n",
       "      <th>per capita average covered charges</th>\n",
       "      <td>1.000000</td>\n",
       "      <td>0.411455</td>\n",
       "    </tr>\n",
       "    <tr>\n",
       "      <th>per capita average consumer payments</th>\n",
       "      <td>0.411455</td>\n",
       "      <td>1.000000</td>\n",
       "    </tr>\n",
       "  </tbody>\n",
       "</table>\n",
       "</div>"
      ],
      "text/plain": [
       "                                      per capita average covered charges  \\\n",
       "per capita average covered charges                              1.000000   \n",
       "per capita average consumer payments                            0.411455   \n",
       "\n",
       "                                      per capita average consumer payments  \n",
       "per capita average covered charges                                0.411455  \n",
       "per capita average consumer payments                              1.000000  "
      ]
     },
     "execution_count": 787,
     "metadata": {},
     "output_type": "execute_result"
    }
   ],
   "source": [
    "x = covered_charge[[\"per capita average covered charges\", \"per capita average consumer payments\"]]\n",
    "corr = x.corr()\n",
    "corr"
   ]
  },
  {
   "cell_type": "code",
   "execution_count": 788,
   "metadata": {},
   "outputs": [
    {
     "data": {
      "text/html": [
       "<div>\n",
       "<style scoped>\n",
       "    .dataframe tbody tr th:only-of-type {\n",
       "        vertical-align: middle;\n",
       "    }\n",
       "\n",
       "    .dataframe tbody tr th {\n",
       "        vertical-align: top;\n",
       "    }\n",
       "\n",
       "    .dataframe thead th {\n",
       "        text-align: right;\n",
       "    }\n",
       "</style>\n",
       "<table border=\"1\" class=\"dataframe\">\n",
       "  <thead>\n",
       "    <tr style=\"text-align: right;\">\n",
       "      <th></th>\n",
       "      <th>State</th>\n",
       "      <th>primary_care_physicians</th>\n",
       "      <th>specialist_physicians</th>\n",
       "      <th>total</th>\n",
       "      <th>provider_state</th>\n",
       "    </tr>\n",
       "  </thead>\n",
       "  <tbody>\n",
       "    <tr>\n",
       "      <th>0</th>\n",
       "      <td>Alabama</td>\n",
       "      <td>5863.0</td>\n",
       "      <td>6342.0</td>\n",
       "      <td>12205.0</td>\n",
       "      <td>AL</td>\n",
       "    </tr>\n",
       "    <tr>\n",
       "      <th>1</th>\n",
       "      <td>Alaska</td>\n",
       "      <td>1054.0</td>\n",
       "      <td>846.0</td>\n",
       "      <td>1900.0</td>\n",
       "      <td>AK</td>\n",
       "    </tr>\n",
       "    <tr>\n",
       "      <th>2</th>\n",
       "      <td>Arizona</td>\n",
       "      <td>8537.0</td>\n",
       "      <td>9269.0</td>\n",
       "      <td>17806.0</td>\n",
       "      <td>AZ</td>\n",
       "    </tr>\n",
       "    <tr>\n",
       "      <th>3</th>\n",
       "      <td>Arkansas</td>\n",
       "      <td>3513.0</td>\n",
       "      <td>3637.0</td>\n",
       "      <td>7150.0</td>\n",
       "      <td>AR</td>\n",
       "    </tr>\n",
       "    <tr>\n",
       "      <th>4</th>\n",
       "      <td>California</td>\n",
       "      <td>54135.0</td>\n",
       "      <td>58771.0</td>\n",
       "      <td>112906.0</td>\n",
       "      <td>CA</td>\n",
       "    </tr>\n",
       "  </tbody>\n",
       "</table>\n",
       "</div>"
      ],
      "text/plain": [
       "        State  primary_care_physicians  specialist_physicians     total  \\\n",
       "0     Alabama                   5863.0                 6342.0   12205.0   \n",
       "1      Alaska                   1054.0                  846.0    1900.0   \n",
       "2     Arizona                   8537.0                 9269.0   17806.0   \n",
       "3    Arkansas                   3513.0                 3637.0    7150.0   \n",
       "4  California                  54135.0                58771.0  112906.0   \n",
       "\n",
       "  provider_state  \n",
       "0             AL  \n",
       "1             AK  \n",
       "2             AZ  \n",
       "3             AR  \n",
       "4             CA  "
      ]
     },
     "execution_count": 788,
     "metadata": {},
     "output_type": "execute_result"
    }
   ],
   "source": [
    "physician_data.head()"
   ]
  },
  {
   "cell_type": "code",
   "execution_count": 789,
   "metadata": {},
   "outputs": [],
   "source": [
    "data_grouped = data_2017_raw.groupby(\"provider_state\").sum()"
   ]
  },
  {
   "cell_type": "code",
   "execution_count": 790,
   "metadata": {},
   "outputs": [],
   "source": [
    "physician_number_raw = pd.merge(data_grouped, physician_data, on=\"provider_state\")"
   ]
  },
  {
   "cell_type": "code",
   "execution_count": 791,
   "metadata": {},
   "outputs": [],
   "source": [
    "physician_number_raw = pd.merge(physician_number_raw, state_total_payments_grouped, on=\"provider_state\")"
   ]
  },
  {
   "cell_type": "code",
   "execution_count": 792,
   "metadata": {},
   "outputs": [
    {
     "data": {
      "text/html": [
       "<div>\n",
       "<style scoped>\n",
       "    .dataframe tbody tr th:only-of-type {\n",
       "        vertical-align: middle;\n",
       "    }\n",
       "\n",
       "    .dataframe tbody tr th {\n",
       "        vertical-align: top;\n",
       "    }\n",
       "\n",
       "    .dataframe thead th {\n",
       "        text-align: right;\n",
       "    }\n",
       "</style>\n",
       "<table border=\"1\" class=\"dataframe\">\n",
       "  <thead>\n",
       "    <tr style=\"text-align: right;\">\n",
       "      <th></th>\n",
       "      <th>provider_state</th>\n",
       "      <th>total_discharges</th>\n",
       "      <th>average_covered_charges</th>\n",
       "      <th>average_total_payments</th>\n",
       "      <th>average_medicare_payments</th>\n",
       "      <th>State</th>\n",
       "      <th>primary_care_physicians</th>\n",
       "      <th>specialist_physicians</th>\n",
       "      <th>total</th>\n",
       "      <th>per_capita_average_total_payments</th>\n",
       "    </tr>\n",
       "  </thead>\n",
       "  <tbody>\n",
       "    <tr>\n",
       "      <th>0</th>\n",
       "      <td>AK</td>\n",
       "      <td>7681</td>\n",
       "      <td>2.337966e+07</td>\n",
       "      <td>5.705120e+06</td>\n",
       "      <td>4.996261e+06</td>\n",
       "      <td>Alaska</td>\n",
       "      <td>1054.0</td>\n",
       "      <td>846.0</td>\n",
       "      <td>1900.0</td>\n",
       "      <td>742.757479</td>\n",
       "    </tr>\n",
       "    <tr>\n",
       "      <th>1</th>\n",
       "      <td>AL</td>\n",
       "      <td>142060</td>\n",
       "      <td>2.143038e+08</td>\n",
       "      <td>4.119621e+07</td>\n",
       "      <td>3.409628e+07</td>\n",
       "      <td>Alabama</td>\n",
       "      <td>5863.0</td>\n",
       "      <td>6342.0</td>\n",
       "      <td>12205.0</td>\n",
       "      <td>289.991599</td>\n",
       "    </tr>\n",
       "    <tr>\n",
       "      <th>2</th>\n",
       "      <td>AR</td>\n",
       "      <td>91655</td>\n",
       "      <td>1.058598e+08</td>\n",
       "      <td>2.707915e+07</td>\n",
       "      <td>2.321937e+07</td>\n",
       "      <td>Arkansas</td>\n",
       "      <td>3513.0</td>\n",
       "      <td>3637.0</td>\n",
       "      <td>7150.0</td>\n",
       "      <td>295.446526</td>\n",
       "    </tr>\n",
       "    <tr>\n",
       "      <th>3</th>\n",
       "      <td>AZ</td>\n",
       "      <td>115039</td>\n",
       "      <td>2.434176e+08</td>\n",
       "      <td>5.071762e+07</td>\n",
       "      <td>4.397756e+07</td>\n",
       "      <td>Arizona</td>\n",
       "      <td>8537.0</td>\n",
       "      <td>9269.0</td>\n",
       "      <td>17806.0</td>\n",
       "      <td>440.873251</td>\n",
       "    </tr>\n",
       "    <tr>\n",
       "      <th>4</th>\n",
       "      <td>CA</td>\n",
       "      <td>531134</td>\n",
       "      <td>1.619089e+09</td>\n",
       "      <td>2.802472e+08</td>\n",
       "      <td>2.466170e+08</td>\n",
       "      <td>California</td>\n",
       "      <td>54135.0</td>\n",
       "      <td>58771.0</td>\n",
       "      <td>112906.0</td>\n",
       "      <td>527.639260</td>\n",
       "    </tr>\n",
       "  </tbody>\n",
       "</table>\n",
       "</div>"
      ],
      "text/plain": [
       "  provider_state  total_discharges  average_covered_charges  \\\n",
       "0             AK              7681             2.337966e+07   \n",
       "1             AL            142060             2.143038e+08   \n",
       "2             AR             91655             1.058598e+08   \n",
       "3             AZ            115039             2.434176e+08   \n",
       "4             CA            531134             1.619089e+09   \n",
       "\n",
       "   average_total_payments  average_medicare_payments       State  \\\n",
       "0            5.705120e+06               4.996261e+06      Alaska   \n",
       "1            4.119621e+07               3.409628e+07     Alabama   \n",
       "2            2.707915e+07               2.321937e+07    Arkansas   \n",
       "3            5.071762e+07               4.397756e+07     Arizona   \n",
       "4            2.802472e+08               2.466170e+08  California   \n",
       "\n",
       "   primary_care_physicians  specialist_physicians     total  \\\n",
       "0                   1054.0                  846.0    1900.0   \n",
       "1                   5863.0                 6342.0   12205.0   \n",
       "2                   3513.0                 3637.0    7150.0   \n",
       "3                   8537.0                 9269.0   17806.0   \n",
       "4                  54135.0                58771.0  112906.0   \n",
       "\n",
       "   per_capita_average_total_payments  \n",
       "0                         742.757479  \n",
       "1                         289.991599  \n",
       "2                         295.446526  \n",
       "3                         440.873251  \n",
       "4                         527.639260  "
      ]
     },
     "execution_count": 792,
     "metadata": {},
     "output_type": "execute_result"
    }
   ],
   "source": [
    "physician_number_raw.head()"
   ]
  },
  {
   "cell_type": "code",
   "execution_count": 793,
   "metadata": {},
   "outputs": [],
   "source": [
    "# physician_number = pd.merge(states_total_payments_grouped, physician_number, on=\"provider_state\")"
   ]
  },
  {
   "cell_type": "code",
   "execution_count": 794,
   "metadata": {},
   "outputs": [
    {
     "data": {
      "text/html": [
       "<div>\n",
       "<style scoped>\n",
       "    .dataframe tbody tr th:only-of-type {\n",
       "        vertical-align: middle;\n",
       "    }\n",
       "\n",
       "    .dataframe tbody tr th {\n",
       "        vertical-align: top;\n",
       "    }\n",
       "\n",
       "    .dataframe thead th {\n",
       "        text-align: right;\n",
       "    }\n",
       "</style>\n",
       "<table border=\"1\" class=\"dataframe\">\n",
       "  <thead>\n",
       "    <tr style=\"text-align: right;\">\n",
       "      <th></th>\n",
       "      <th>provider_state</th>\n",
       "      <th>total_discharges</th>\n",
       "      <th>average_covered_charges</th>\n",
       "      <th>average_total_payments</th>\n",
       "      <th>average_medicare_payments</th>\n",
       "      <th>State</th>\n",
       "      <th>primary_care_physicians</th>\n",
       "      <th>specialist_physicians</th>\n",
       "      <th>total</th>\n",
       "      <th>per_capita_average_total_payments</th>\n",
       "    </tr>\n",
       "  </thead>\n",
       "  <tbody>\n",
       "    <tr>\n",
       "      <th>0</th>\n",
       "      <td>AK</td>\n",
       "      <td>7681</td>\n",
       "      <td>2.337966e+07</td>\n",
       "      <td>5.705120e+06</td>\n",
       "      <td>4.996261e+06</td>\n",
       "      <td>Alaska</td>\n",
       "      <td>1054.0</td>\n",
       "      <td>846.0</td>\n",
       "      <td>1900.0</td>\n",
       "      <td>742.757479</td>\n",
       "    </tr>\n",
       "    <tr>\n",
       "      <th>1</th>\n",
       "      <td>AL</td>\n",
       "      <td>142060</td>\n",
       "      <td>2.143038e+08</td>\n",
       "      <td>4.119621e+07</td>\n",
       "      <td>3.409628e+07</td>\n",
       "      <td>Alabama</td>\n",
       "      <td>5863.0</td>\n",
       "      <td>6342.0</td>\n",
       "      <td>12205.0</td>\n",
       "      <td>289.991599</td>\n",
       "    </tr>\n",
       "    <tr>\n",
       "      <th>2</th>\n",
       "      <td>AR</td>\n",
       "      <td>91655</td>\n",
       "      <td>1.058598e+08</td>\n",
       "      <td>2.707915e+07</td>\n",
       "      <td>2.321937e+07</td>\n",
       "      <td>Arkansas</td>\n",
       "      <td>3513.0</td>\n",
       "      <td>3637.0</td>\n",
       "      <td>7150.0</td>\n",
       "      <td>295.446526</td>\n",
       "    </tr>\n",
       "    <tr>\n",
       "      <th>3</th>\n",
       "      <td>AZ</td>\n",
       "      <td>115039</td>\n",
       "      <td>2.434176e+08</td>\n",
       "      <td>5.071762e+07</td>\n",
       "      <td>4.397756e+07</td>\n",
       "      <td>Arizona</td>\n",
       "      <td>8537.0</td>\n",
       "      <td>9269.0</td>\n",
       "      <td>17806.0</td>\n",
       "      <td>440.873251</td>\n",
       "    </tr>\n",
       "    <tr>\n",
       "      <th>4</th>\n",
       "      <td>CA</td>\n",
       "      <td>531134</td>\n",
       "      <td>1.619089e+09</td>\n",
       "      <td>2.802472e+08</td>\n",
       "      <td>2.466170e+08</td>\n",
       "      <td>California</td>\n",
       "      <td>54135.0</td>\n",
       "      <td>58771.0</td>\n",
       "      <td>112906.0</td>\n",
       "      <td>527.639260</td>\n",
       "    </tr>\n",
       "  </tbody>\n",
       "</table>\n",
       "</div>"
      ],
      "text/plain": [
       "  provider_state  total_discharges  average_covered_charges  \\\n",
       "0             AK              7681             2.337966e+07   \n",
       "1             AL            142060             2.143038e+08   \n",
       "2             AR             91655             1.058598e+08   \n",
       "3             AZ            115039             2.434176e+08   \n",
       "4             CA            531134             1.619089e+09   \n",
       "\n",
       "   average_total_payments  average_medicare_payments       State  \\\n",
       "0            5.705120e+06               4.996261e+06      Alaska   \n",
       "1            4.119621e+07               3.409628e+07     Alabama   \n",
       "2            2.707915e+07               2.321937e+07    Arkansas   \n",
       "3            5.071762e+07               4.397756e+07     Arizona   \n",
       "4            2.802472e+08               2.466170e+08  California   \n",
       "\n",
       "   primary_care_physicians  specialist_physicians     total  \\\n",
       "0                   1054.0                  846.0    1900.0   \n",
       "1                   5863.0                 6342.0   12205.0   \n",
       "2                   3513.0                 3637.0    7150.0   \n",
       "3                   8537.0                 9269.0   17806.0   \n",
       "4                  54135.0                58771.0  112906.0   \n",
       "\n",
       "   per_capita_average_total_payments  \n",
       "0                         742.757479  \n",
       "1                         289.991599  \n",
       "2                         295.446526  \n",
       "3                         440.873251  \n",
       "4                         527.639260  "
      ]
     },
     "execution_count": 794,
     "metadata": {},
     "output_type": "execute_result"
    }
   ],
   "source": [
    "physician_number_raw.head()"
   ]
  },
  {
   "cell_type": "code",
   "execution_count": 795,
   "metadata": {},
   "outputs": [],
   "source": [
    "physician_number_raw[\"per_capita_specialist_physicians\"] = physician_number_raw[\"total_discharges\"]/physician_number_raw[\"specialist_physicians\"]\n",
    "physician_number_raw[\"per_capita_total_physicians\"] = physician_number_raw[\"total_discharges\"]/physician_number_raw[\"total\"]\n",
    "physician_number_raw[\"per_capita_primary_care_physicians\"] = physician_number_raw[\"total_discharges\"]/physician_number_raw[\"primary_care_physicians\"]"
   ]
  },
  {
   "cell_type": "code",
   "execution_count": 796,
   "metadata": {},
   "outputs": [],
   "source": [
    "physician_number_raw = physician_number_raw.sort_values(\"per_capita_primary_care_physicians\", ascending=False)"
   ]
  },
  {
   "cell_type": "code",
   "execution_count": 797,
   "metadata": {},
   "outputs": [],
   "source": [
    "physician_number_raw = physician_number_raw.sort_values(\"per_capita_total_physicians\", ascending=False)"
   ]
  },
  {
   "cell_type": "code",
   "execution_count": 798,
   "metadata": {},
   "outputs": [],
   "source": [
    "physician_number = physician_number_raw[[\"provider_state\", \"per_capita_average_total_payments\", \"total\"]]"
   ]
  },
  {
   "cell_type": "code",
   "execution_count": 799,
   "metadata": {},
   "outputs": [
    {
     "data": {
      "text/html": [
       "<div>\n",
       "<style scoped>\n",
       "    .dataframe tbody tr th:only-of-type {\n",
       "        vertical-align: middle;\n",
       "    }\n",
       "\n",
       "    .dataframe tbody tr th {\n",
       "        vertical-align: top;\n",
       "    }\n",
       "\n",
       "    .dataframe thead th {\n",
       "        text-align: right;\n",
       "    }\n",
       "</style>\n",
       "<table border=\"1\" class=\"dataframe\">\n",
       "  <thead>\n",
       "    <tr style=\"text-align: right;\">\n",
       "      <th></th>\n",
       "      <th>provider_state</th>\n",
       "      <th>per_capita_average_total_payments</th>\n",
       "      <th>total</th>\n",
       "    </tr>\n",
       "  </thead>\n",
       "  <tbody>\n",
       "    <tr>\n",
       "      <th>25</th>\n",
       "      <td>MS</td>\n",
       "      <td>280.663056</td>\n",
       "      <td>6597.0</td>\n",
       "    </tr>\n",
       "    <tr>\n",
       "      <th>41</th>\n",
       "      <td>SD</td>\n",
       "      <td>345.033019</td>\n",
       "      <td>2041.0</td>\n",
       "    </tr>\n",
       "    <tr>\n",
       "      <th>2</th>\n",
       "      <td>AR</td>\n",
       "      <td>295.446526</td>\n",
       "      <td>7150.0</td>\n",
       "    </tr>\n",
       "    <tr>\n",
       "      <th>17</th>\n",
       "      <td>KY</td>\n",
       "      <td>305.303638</td>\n",
       "      <td>11937.0</td>\n",
       "    </tr>\n",
       "    <tr>\n",
       "      <th>1</th>\n",
       "      <td>AL</td>\n",
       "      <td>289.991599</td>\n",
       "      <td>12205.0</td>\n",
       "    </tr>\n",
       "  </tbody>\n",
       "</table>\n",
       "</div>"
      ],
      "text/plain": [
       "   provider_state  per_capita_average_total_payments    total\n",
       "25             MS                         280.663056   6597.0\n",
       "41             SD                         345.033019   2041.0\n",
       "2              AR                         295.446526   7150.0\n",
       "17             KY                         305.303638  11937.0\n",
       "1              AL                         289.991599  12205.0"
      ]
     },
     "execution_count": 799,
     "metadata": {},
     "output_type": "execute_result"
    }
   ],
   "source": [
    "physician_number.head()"
   ]
  },
  {
   "cell_type": "code",
   "execution_count": 800,
   "metadata": {},
   "outputs": [],
   "source": [
    "physician_specialist = physician_number_raw[[\"provider_state\", \"per_capita_average_total_payments\", \"per_capita_specialist_physicians\"]]"
   ]
  },
  {
   "cell_type": "code",
   "execution_count": 846,
   "metadata": {},
   "outputs": [
    {
     "data": {
      "image/png": "[encoded data removed]",
      "text/plain": [
       "<Figure size 432x288 with 1 Axes>"
      ]
     },
     "metadata": {
      "needs_background": "light"
     },
     "output_type": "display_data"
    }
   ],
   "source": [
    "physician_specialist.plot.scatter(\"per_capita_specialist_physicians\", \"per_capita_average_total_payments\")\n",
    "plt.title(\"Per Capita Discharges per Specialist Physicians vs Per Capita Discharge Payment\")\n",
    "# plt.savefig(\"Per Capita Discharges per Specialist Physicians vs Per Capita Discharge Payment\")"
   ]
  },
  {
   "cell_type": "code",
   "execution_count": 802,
   "metadata": {},
   "outputs": [
    {
     "data": {
      "text/html": [
       "<div>\n",
       "<style scoped>\n",
       "    .dataframe tbody tr th:only-of-type {\n",
       "        vertical-align: middle;\n",
       "    }\n",
       "\n",
       "    .dataframe tbody tr th {\n",
       "        vertical-align: top;\n",
       "    }\n",
       "\n",
       "    .dataframe thead th {\n",
       "        text-align: right;\n",
       "    }\n",
       "</style>\n",
       "<table border=\"1\" class=\"dataframe\">\n",
       "  <thead>\n",
       "    <tr style=\"text-align: right;\">\n",
       "      <th></th>\n",
       "      <th>per_capita_specialist_physicians</th>\n",
       "      <th>per_capita_average_total_payments</th>\n",
       "    </tr>\n",
       "  </thead>\n",
       "  <tbody>\n",
       "    <tr>\n",
       "      <th>per_capita_specialist_physicians</th>\n",
       "      <td>1.000000</td>\n",
       "      <td>-0.718889</td>\n",
       "    </tr>\n",
       "    <tr>\n",
       "      <th>per_capita_average_total_payments</th>\n",
       "      <td>-0.718889</td>\n",
       "      <td>1.000000</td>\n",
       "    </tr>\n",
       "  </tbody>\n",
       "</table>\n",
       "</div>"
      ],
      "text/plain": [
       "                                   per_capita_specialist_physicians  \\\n",
       "per_capita_specialist_physicians                           1.000000   \n",
       "per_capita_average_total_payments                         -0.718889   \n",
       "\n",
       "                                   per_capita_average_total_payments  \n",
       "per_capita_specialist_physicians                           -0.718889  \n",
       "per_capita_average_total_payments                           1.000000  "
      ]
     },
     "execution_count": 802,
     "metadata": {},
     "output_type": "execute_result"
    }
   ],
   "source": [
    "x = physician_number_raw[[\"per_capita_specialist_physicians\", \"per_capita_average_total_payments\"]]\n",
    "corr = x.corr()\n",
    "corr"
   ]
  },
  {
   "cell_type": "code",
   "execution_count": 803,
   "metadata": {},
   "outputs": [],
   "source": [
    "physician_total = physician_number_raw[[\"provider_state\", \"per_capita_average_total_payments\", \"per_capita_total_physicians\"]]"
   ]
  },
  {
   "cell_type": "code",
   "execution_count": 845,
   "metadata": {},
   "outputs": [
    {
     "data": {
      "image/png": "[encoded data removed]",
      "text/plain": [
       "<Figure size 432x288 with 1 Axes>"
      ]
     },
     "metadata": {
      "needs_background": "light"
     },
     "output_type": "display_data"
    }
   ],
   "source": [
    "physician_total.plot.scatter(\"per_capita_total_physicians\", \"per_capita_average_total_payments\")\n",
    "plt.title(\"Per Capita Discharges per Total Physicians vs Per Capita Discharge Payment\")\n",
    "# plt.savefig(\"Per Capita Discharges per Total Physicians vs Per Capita Discharge Payment\")"
   ]
  },
  {
   "cell_type": "code",
   "execution_count": 805,
   "metadata": {},
   "outputs": [
    {
     "data": {
      "text/html": [
       "<div>\n",
       "<style scoped>\n",
       "    .dataframe tbody tr th:only-of-type {\n",
       "        vertical-align: middle;\n",
       "    }\n",
       "\n",
       "    .dataframe tbody tr th {\n",
       "        vertical-align: top;\n",
       "    }\n",
       "\n",
       "    .dataframe thead th {\n",
       "        text-align: right;\n",
       "    }\n",
       "</style>\n",
       "<table border=\"1\" class=\"dataframe\">\n",
       "  <thead>\n",
       "    <tr style=\"text-align: right;\">\n",
       "      <th></th>\n",
       "      <th>per_capita_total_physicians</th>\n",
       "      <th>per_capita_average_total_payments</th>\n",
       "    </tr>\n",
       "  </thead>\n",
       "  <tbody>\n",
       "    <tr>\n",
       "      <th>per_capita_total_physicians</th>\n",
       "      <td>1.000000</td>\n",
       "      <td>-0.763735</td>\n",
       "    </tr>\n",
       "    <tr>\n",
       "      <th>per_capita_average_total_payments</th>\n",
       "      <td>-0.763735</td>\n",
       "      <td>1.000000</td>\n",
       "    </tr>\n",
       "  </tbody>\n",
       "</table>\n",
       "</div>"
      ],
      "text/plain": [
       "                                   per_capita_total_physicians  \\\n",
       "per_capita_total_physicians                           1.000000   \n",
       "per_capita_average_total_payments                    -0.763735   \n",
       "\n",
       "                                   per_capita_average_total_payments  \n",
       "per_capita_total_physicians                                -0.763735  \n",
       "per_capita_average_total_payments                           1.000000  "
      ]
     },
     "execution_count": 805,
     "metadata": {},
     "output_type": "execute_result"
    }
   ],
   "source": [
    "x = physician_number_raw[[\"per_capita_total_physicians\", \"per_capita_average_total_payments\"]]\n",
    "corr = x.corr()\n",
    "corr"
   ]
  },
  {
   "cell_type": "code",
   "execution_count": 806,
   "metadata": {},
   "outputs": [],
   "source": [
    "physician_primary_care = physician_number_raw[[\"provider_state\", \"per_capita_average_total_payments\", \"per_capita_primary_care_physicians\"]]"
   ]
  },
  {
   "cell_type": "code",
   "execution_count": 844,
   "metadata": {},
   "outputs": [
    {
     "data": {
      "image/png": "[encoded data removed]",
      "text/plain": [
       "<Figure size 432x288 with 1 Axes>"
      ]
     },
     "metadata": {
      "needs_background": "light"
     },
     "output_type": "display_data"
    }
   ],
   "source": [
    "physician_primary_care.plot.scatter(\"per_capita_primary_care_physicians\", \"per_capita_average_total_payments\")\n",
    "plt.title(\"Per Capita Discharges per Primary Care Physicians vs Per Capita Discharge Payment\")\n",
    "# plt.savefig(\"Per Capita Discharges per Primary Care Physicians vs Per Capita Discharge Payment\")"
   ]
  },
  {
   "cell_type": "code",
   "execution_count": 848,
   "metadata": {},
   "outputs": [
    {
     "data": {
      "text/html": [
       "<div>\n",
       "<style scoped>\n",
       "    .dataframe tbody tr th:only-of-type {\n",
       "        vertical-align: middle;\n",
       "    }\n",
       "\n",
       "    .dataframe tbody tr th {\n",
       "        vertical-align: top;\n",
       "    }\n",
       "\n",
       "    .dataframe thead th {\n",
       "        text-align: right;\n",
       "    }\n",
       "</style>\n",
       "<table border=\"1\" class=\"dataframe\">\n",
       "  <thead>\n",
       "    <tr style=\"text-align: right;\">\n",
       "      <th></th>\n",
       "      <th>per_capita_primary_care_physicians</th>\n",
       "      <th>per_capita_average_total_payments</th>\n",
       "    </tr>\n",
       "  </thead>\n",
       "  <tbody>\n",
       "    <tr>\n",
       "      <th>per_capita_primary_care_physicians</th>\n",
       "      <td>1.000000</td>\n",
       "      <td>-0.789878</td>\n",
       "    </tr>\n",
       "    <tr>\n",
       "      <th>per_capita_average_total_payments</th>\n",
       "      <td>-0.789878</td>\n",
       "      <td>1.000000</td>\n",
       "    </tr>\n",
       "  </tbody>\n",
       "</table>\n",
       "</div>"
      ],
      "text/plain": [
       "                                    per_capita_primary_care_physicians  \\\n",
       "per_capita_primary_care_physicians                            1.000000   \n",
       "per_capita_average_total_payments                            -0.789878   \n",
       "\n",
       "                                    per_capita_average_total_payments  \n",
       "per_capita_primary_care_physicians                          -0.789878  \n",
       "per_capita_average_total_payments                            1.000000  "
      ]
     },
     "execution_count": 848,
     "metadata": {},
     "output_type": "execute_result"
    }
   ],
   "source": [
    "x = physician_number_raw[[\"per_capita_primary_care_physicians\", \"per_capita_average_total_payments\"]]\n",
    "corr = x.corr()\n",
    "corr"
   ]
  },
  {
   "cell_type": "code",
   "execution_count": 809,
   "metadata": {},
   "outputs": [],
   "source": [
    "nurse_data = pd.merge(data_grouped, nurse_data, on=\"provider_state\")"
   ]
  },
  {
   "cell_type": "code",
   "execution_count": 810,
   "metadata": {},
   "outputs": [
    {
     "data": {
      "text/html": [
       "<div>\n",
       "<style scoped>\n",
       "    .dataframe tbody tr th:only-of-type {\n",
       "        vertical-align: middle;\n",
       "    }\n",
       "\n",
       "    .dataframe tbody tr th {\n",
       "        vertical-align: top;\n",
       "    }\n",
       "\n",
       "    .dataframe thead th {\n",
       "        text-align: right;\n",
       "    }\n",
       "</style>\n",
       "<table border=\"1\" class=\"dataframe\">\n",
       "  <thead>\n",
       "    <tr style=\"text-align: right;\">\n",
       "      <th></th>\n",
       "      <th>provider_state</th>\n",
       "      <th>total_discharges</th>\n",
       "      <th>average_covered_charges</th>\n",
       "      <th>average_total_payments</th>\n",
       "      <th>average_medicare_payments</th>\n",
       "      <th>State</th>\n",
       "      <th>total_nurses</th>\n",
       "    </tr>\n",
       "  </thead>\n",
       "  <tbody>\n",
       "    <tr>\n",
       "      <th>0</th>\n",
       "      <td>AK</td>\n",
       "      <td>7681</td>\n",
       "      <td>2.337966e+07</td>\n",
       "      <td>5.705120e+06</td>\n",
       "      <td>4.996261e+06</td>\n",
       "      <td>Alaska</td>\n",
       "      <td>480.0</td>\n",
       "    </tr>\n",
       "    <tr>\n",
       "      <th>1</th>\n",
       "      <td>AL</td>\n",
       "      <td>142060</td>\n",
       "      <td>2.143038e+08</td>\n",
       "      <td>4.119621e+07</td>\n",
       "      <td>3.409628e+07</td>\n",
       "      <td>Alabama</td>\n",
       "      <td>2537.0</td>\n",
       "    </tr>\n",
       "    <tr>\n",
       "      <th>2</th>\n",
       "      <td>AR</td>\n",
       "      <td>91655</td>\n",
       "      <td>1.058598e+08</td>\n",
       "      <td>2.707915e+07</td>\n",
       "      <td>2.321937e+07</td>\n",
       "      <td>Arkansas</td>\n",
       "      <td>1305.0</td>\n",
       "    </tr>\n",
       "    <tr>\n",
       "      <th>3</th>\n",
       "      <td>AZ</td>\n",
       "      <td>115039</td>\n",
       "      <td>2.434176e+08</td>\n",
       "      <td>5.071762e+07</td>\n",
       "      <td>4.397756e+07</td>\n",
       "      <td>Arizona</td>\n",
       "      <td>3403.0</td>\n",
       "    </tr>\n",
       "    <tr>\n",
       "      <th>4</th>\n",
       "      <td>CA</td>\n",
       "      <td>531134</td>\n",
       "      <td>1.619089e+09</td>\n",
       "      <td>2.802472e+08</td>\n",
       "      <td>2.466170e+08</td>\n",
       "      <td>California</td>\n",
       "      <td>15414.0</td>\n",
       "    </tr>\n",
       "  </tbody>\n",
       "</table>\n",
       "</div>"
      ],
      "text/plain": [
       "  provider_state  total_discharges  average_covered_charges  \\\n",
       "0             AK              7681             2.337966e+07   \n",
       "1             AL            142060             2.143038e+08   \n",
       "2             AR             91655             1.058598e+08   \n",
       "3             AZ            115039             2.434176e+08   \n",
       "4             CA            531134             1.619089e+09   \n",
       "\n",
       "   average_total_payments  average_medicare_payments       State  total_nurses  \n",
       "0            5.705120e+06               4.996261e+06      Alaska         480.0  \n",
       "1            4.119621e+07               3.409628e+07     Alabama        2537.0  \n",
       "2            2.707915e+07               2.321937e+07    Arkansas        1305.0  \n",
       "3            5.071762e+07               4.397756e+07     Arizona        3403.0  \n",
       "4            2.802472e+08               2.466170e+08  California       15414.0  "
      ]
     },
     "execution_count": 810,
     "metadata": {},
     "output_type": "execute_result"
    }
   ],
   "source": [
    "nurse_data.head()"
   ]
  },
  {
   "cell_type": "code",
   "execution_count": 811,
   "metadata": {},
   "outputs": [],
   "source": [
    "nurse_data[\"per_capita_discharges_per_nurse\"] = nurse_data[\"total_discharges\"]/nurse_data[\"total_nurses\"]"
   ]
  },
  {
   "cell_type": "code",
   "execution_count": 812,
   "metadata": {},
   "outputs": [],
   "source": [
    "nurse_data[\"per_capita_payment_per_discharge\"] = nurse_data[\"average_total_payments\"]/nurse_data[\"total_discharges\"]"
   ]
  },
  {
   "cell_type": "code",
   "execution_count": 813,
   "metadata": {},
   "outputs": [
    {
     "data": {
      "text/html": [
       "<div>\n",
       "<style scoped>\n",
       "    .dataframe tbody tr th:only-of-type {\n",
       "        vertical-align: middle;\n",
       "    }\n",
       "\n",
       "    .dataframe tbody tr th {\n",
       "        vertical-align: top;\n",
       "    }\n",
       "\n",
       "    .dataframe thead th {\n",
       "        text-align: right;\n",
       "    }\n",
       "</style>\n",
       "<table border=\"1\" class=\"dataframe\">\n",
       "  <thead>\n",
       "    <tr style=\"text-align: right;\">\n",
       "      <th></th>\n",
       "      <th>provider_state</th>\n",
       "      <th>total_discharges</th>\n",
       "      <th>average_covered_charges</th>\n",
       "      <th>average_total_payments</th>\n",
       "      <th>average_medicare_payments</th>\n",
       "      <th>State</th>\n",
       "      <th>total_nurses</th>\n",
       "      <th>per_capita_discharges_per_nurse</th>\n",
       "      <th>per_capita_payment_per_discharge</th>\n",
       "    </tr>\n",
       "  </thead>\n",
       "  <tbody>\n",
       "    <tr>\n",
       "      <th>0</th>\n",
       "      <td>AK</td>\n",
       "      <td>7681</td>\n",
       "      <td>2.337966e+07</td>\n",
       "      <td>5.705120e+06</td>\n",
       "      <td>4.996261e+06</td>\n",
       "      <td>Alaska</td>\n",
       "      <td>480.0</td>\n",
       "      <td>16.002083</td>\n",
       "      <td>742.757479</td>\n",
       "    </tr>\n",
       "    <tr>\n",
       "      <th>1</th>\n",
       "      <td>AL</td>\n",
       "      <td>142060</td>\n",
       "      <td>2.143038e+08</td>\n",
       "      <td>4.119621e+07</td>\n",
       "      <td>3.409628e+07</td>\n",
       "      <td>Alabama</td>\n",
       "      <td>2537.0</td>\n",
       "      <td>55.995270</td>\n",
       "      <td>289.991599</td>\n",
       "    </tr>\n",
       "    <tr>\n",
       "      <th>2</th>\n",
       "      <td>AR</td>\n",
       "      <td>91655</td>\n",
       "      <td>1.058598e+08</td>\n",
       "      <td>2.707915e+07</td>\n",
       "      <td>2.321937e+07</td>\n",
       "      <td>Arkansas</td>\n",
       "      <td>1305.0</td>\n",
       "      <td>70.233716</td>\n",
       "      <td>295.446526</td>\n",
       "    </tr>\n",
       "    <tr>\n",
       "      <th>3</th>\n",
       "      <td>AZ</td>\n",
       "      <td>115039</td>\n",
       "      <td>2.434176e+08</td>\n",
       "      <td>5.071762e+07</td>\n",
       "      <td>4.397756e+07</td>\n",
       "      <td>Arizona</td>\n",
       "      <td>3403.0</td>\n",
       "      <td>33.805172</td>\n",
       "      <td>440.873251</td>\n",
       "    </tr>\n",
       "    <tr>\n",
       "      <th>4</th>\n",
       "      <td>CA</td>\n",
       "      <td>531134</td>\n",
       "      <td>1.619089e+09</td>\n",
       "      <td>2.802472e+08</td>\n",
       "      <td>2.466170e+08</td>\n",
       "      <td>California</td>\n",
       "      <td>15414.0</td>\n",
       "      <td>34.457895</td>\n",
       "      <td>527.639260</td>\n",
       "    </tr>\n",
       "  </tbody>\n",
       "</table>\n",
       "</div>"
      ],
      "text/plain": [
       "  provider_state  total_discharges  average_covered_charges  \\\n",
       "0             AK              7681             2.337966e+07   \n",
       "1             AL            142060             2.143038e+08   \n",
       "2             AR             91655             1.058598e+08   \n",
       "3             AZ            115039             2.434176e+08   \n",
       "4             CA            531134             1.619089e+09   \n",
       "\n",
       "   average_total_payments  average_medicare_payments       State  \\\n",
       "0            5.705120e+06               4.996261e+06      Alaska   \n",
       "1            4.119621e+07               3.409628e+07     Alabama   \n",
       "2            2.707915e+07               2.321937e+07    Arkansas   \n",
       "3            5.071762e+07               4.397756e+07     Arizona   \n",
       "4            2.802472e+08               2.466170e+08  California   \n",
       "\n",
       "   total_nurses  per_capita_discharges_per_nurse  \\\n",
       "0         480.0                        16.002083   \n",
       "1        2537.0                        55.995270   \n",
       "2        1305.0                        70.233716   \n",
       "3        3403.0                        33.805172   \n",
       "4       15414.0                        34.457895   \n",
       "\n",
       "   per_capita_payment_per_discharge  \n",
       "0                        742.757479  \n",
       "1                        289.991599  \n",
       "2                        295.446526  \n",
       "3                        440.873251  \n",
       "4                        527.639260  "
      ]
     },
     "execution_count": 813,
     "metadata": {},
     "output_type": "execute_result"
    }
   ],
   "source": [
    "nurse_data.head()"
   ]
  },
  {
   "cell_type": "code",
   "execution_count": 814,
   "metadata": {},
   "outputs": [],
   "source": [
    "nurse_data = nurse_data.sort_values(\"per_capita_discharges_per_nurse\", ascending=False)"
   ]
  },
  {
   "cell_type": "code",
   "execution_count": 834,
   "metadata": {},
   "outputs": [
    {
     "data": {
      "text/html": [
       "<div>\n",
       "<style scoped>\n",
       "    .dataframe tbody tr th:only-of-type {\n",
       "        vertical-align: middle;\n",
       "    }\n",
       "\n",
       "    .dataframe tbody tr th {\n",
       "        vertical-align: top;\n",
       "    }\n",
       "\n",
       "    .dataframe thead th {\n",
       "        text-align: right;\n",
       "    }\n",
       "</style>\n",
       "<table border=\"1\" class=\"dataframe\">\n",
       "  <thead>\n",
       "    <tr style=\"text-align: right;\">\n",
       "      <th></th>\n",
       "      <th>per_capita_discharges_per_nurse</th>\n",
       "      <th>per_capita_payment_per_discharge</th>\n",
       "    </tr>\n",
       "  </thead>\n",
       "  <tbody>\n",
       "    <tr>\n",
       "      <th>36</th>\n",
       "      <td>95.148541</td>\n",
       "      <td>332.274573</td>\n",
       "    </tr>\n",
       "    <tr>\n",
       "      <th>7</th>\n",
       "      <td>76.877437</td>\n",
       "      <td>569.416996</td>\n",
       "    </tr>\n",
       "    <tr>\n",
       "      <th>2</th>\n",
       "      <td>70.233716</td>\n",
       "      <td>295.446526</td>\n",
       "    </tr>\n",
       "    <tr>\n",
       "      <th>33</th>\n",
       "      <td>67.952438</td>\n",
       "      <td>408.344347</td>\n",
       "    </tr>\n",
       "    <tr>\n",
       "      <th>8</th>\n",
       "      <td>67.931034</td>\n",
       "      <td>293.054141</td>\n",
       "    </tr>\n",
       "  </tbody>\n",
       "</table>\n",
       "</div>"
      ],
      "text/plain": [
       "    per_capita_discharges_per_nurse  per_capita_payment_per_discharge\n",
       "36                        95.148541                        332.274573\n",
       "7                         76.877437                        569.416996\n",
       "2                         70.233716                        295.446526\n",
       "33                        67.952438                        408.344347\n",
       "8                         67.931034                        293.054141"
      ]
     },
     "execution_count": 834,
     "metadata": {},
     "output_type": "execute_result"
    }
   ],
   "source": [
    "nurse_data.head()"
   ]
  },
  {
   "cell_type": "code",
   "execution_count": 843,
   "metadata": {},
   "outputs": [
    {
     "data": {
      "image/png": "[encoded data removed]",
      "text/plain": [
       "<Figure size 432x288 with 1 Axes>"
      ]
     },
     "metadata": {
      "needs_background": "light"
     },
     "output_type": "display_data"
    }
   ],
   "source": [
    "nurse_data.plot.scatter(\"per_capita_discharges_per_nurse\", \"per_capita_payment_per_discharge\")\n",
    "plt.title(\"Per Capita Discharges per Registered Nurses vs Per Capita Discharge Payment\")\n",
    "# plt.savefig(\"Per Capita Discharges per Registered Nurses vs Per Capita Discharge Payment\")"
   ]
  },
  {
   "cell_type": "code",
   "execution_count": 817,
   "metadata": {},
   "outputs": [
    {
     "data": {
      "text/html": [
       "<div>\n",
       "<style scoped>\n",
       "    .dataframe tbody tr th:only-of-type {\n",
       "        vertical-align: middle;\n",
       "    }\n",
       "\n",
       "    .dataframe tbody tr th {\n",
       "        vertical-align: top;\n",
       "    }\n",
       "\n",
       "    .dataframe thead th {\n",
       "        text-align: right;\n",
       "    }\n",
       "</style>\n",
       "<table border=\"1\" class=\"dataframe\">\n",
       "  <thead>\n",
       "    <tr style=\"text-align: right;\">\n",
       "      <th></th>\n",
       "      <th>per_capita_discharges_per_nurse</th>\n",
       "      <th>per_capita_payment_per_discharge</th>\n",
       "    </tr>\n",
       "  </thead>\n",
       "  <tbody>\n",
       "    <tr>\n",
       "      <th>per_capita_discharges_per_nurse</th>\n",
       "      <td>1.000000</td>\n",
       "      <td>-0.453863</td>\n",
       "    </tr>\n",
       "    <tr>\n",
       "      <th>per_capita_payment_per_discharge</th>\n",
       "      <td>-0.453863</td>\n",
       "      <td>1.000000</td>\n",
       "    </tr>\n",
       "  </tbody>\n",
       "</table>\n",
       "</div>"
      ],
      "text/plain": [
       "                                  per_capita_discharges_per_nurse  \\\n",
       "per_capita_discharges_per_nurse                          1.000000   \n",
       "per_capita_payment_per_discharge                        -0.453863   \n",
       "\n",
       "                                  per_capita_payment_per_discharge  \n",
       "per_capita_discharges_per_nurse                          -0.453863  \n",
       "per_capita_payment_per_discharge                          1.000000  "
      ]
     },
     "execution_count": 817,
     "metadata": {},
     "output_type": "execute_result"
    }
   ],
   "source": [
    "nurse_data = nurse_data[[\"per_capita_discharges_per_nurse\", \"per_capita_payment_per_discharge\"]]\n",
    "nurse_data.corr()"
   ]
  },
  {
   "cell_type": "code",
   "execution_count": 822,
   "metadata": {},
   "outputs": [],
   "source": [
    "pa_results = pd.merge(data_grouped, pa_data, on=\"provider_state\")"
   ]
  },
  {
   "cell_type": "code",
   "execution_count": 823,
   "metadata": {},
   "outputs": [
    {
     "data": {
      "text/html": [
       "<div>\n",
       "<style scoped>\n",
       "    .dataframe tbody tr th:only-of-type {\n",
       "        vertical-align: middle;\n",
       "    }\n",
       "\n",
       "    .dataframe tbody tr th {\n",
       "        vertical-align: top;\n",
       "    }\n",
       "\n",
       "    .dataframe thead th {\n",
       "        text-align: right;\n",
       "    }\n",
       "</style>\n",
       "<table border=\"1\" class=\"dataframe\">\n",
       "  <thead>\n",
       "    <tr style=\"text-align: right;\">\n",
       "      <th></th>\n",
       "      <th>provider_state</th>\n",
       "      <th>total_discharges</th>\n",
       "      <th>average_covered_charges</th>\n",
       "      <th>average_total_payments</th>\n",
       "      <th>average_medicare_payments</th>\n",
       "      <th>State</th>\n",
       "      <th>pa_total</th>\n",
       "    </tr>\n",
       "  </thead>\n",
       "  <tbody>\n",
       "    <tr>\n",
       "      <th>0</th>\n",
       "      <td>AK</td>\n",
       "      <td>7681</td>\n",
       "      <td>2.337966e+07</td>\n",
       "      <td>5.705120e+06</td>\n",
       "      <td>4.996261e+06</td>\n",
       "      <td>Alaska</td>\n",
       "      <td>346.0</td>\n",
       "    </tr>\n",
       "    <tr>\n",
       "      <th>1</th>\n",
       "      <td>AL</td>\n",
       "      <td>142060</td>\n",
       "      <td>2.143038e+08</td>\n",
       "      <td>4.119621e+07</td>\n",
       "      <td>3.409628e+07</td>\n",
       "      <td>Alabama</td>\n",
       "      <td>535.0</td>\n",
       "    </tr>\n",
       "    <tr>\n",
       "      <th>2</th>\n",
       "      <td>AR</td>\n",
       "      <td>91655</td>\n",
       "      <td>1.058598e+08</td>\n",
       "      <td>2.707915e+07</td>\n",
       "      <td>2.321937e+07</td>\n",
       "      <td>Arkansas</td>\n",
       "      <td>209.0</td>\n",
       "    </tr>\n",
       "    <tr>\n",
       "      <th>3</th>\n",
       "      <td>AZ</td>\n",
       "      <td>115039</td>\n",
       "      <td>2.434176e+08</td>\n",
       "      <td>5.071762e+07</td>\n",
       "      <td>4.397756e+07</td>\n",
       "      <td>Arizona</td>\n",
       "      <td>1940.0</td>\n",
       "    </tr>\n",
       "    <tr>\n",
       "      <th>4</th>\n",
       "      <td>CA</td>\n",
       "      <td>531134</td>\n",
       "      <td>1.619089e+09</td>\n",
       "      <td>2.802472e+08</td>\n",
       "      <td>2.466170e+08</td>\n",
       "      <td>California</td>\n",
       "      <td>7917.0</td>\n",
       "    </tr>\n",
       "  </tbody>\n",
       "</table>\n",
       "</div>"
      ],
      "text/plain": [
       "  provider_state  total_discharges  average_covered_charges  \\\n",
       "0             AK              7681             2.337966e+07   \n",
       "1             AL            142060             2.143038e+08   \n",
       "2             AR             91655             1.058598e+08   \n",
       "3             AZ            115039             2.434176e+08   \n",
       "4             CA            531134             1.619089e+09   \n",
       "\n",
       "   average_total_payments  average_medicare_payments       State  pa_total  \n",
       "0            5.705120e+06               4.996261e+06      Alaska     346.0  \n",
       "1            4.119621e+07               3.409628e+07     Alabama     535.0  \n",
       "2            2.707915e+07               2.321937e+07    Arkansas     209.0  \n",
       "3            5.071762e+07               4.397756e+07     Arizona    1940.0  \n",
       "4            2.802472e+08               2.466170e+08  California    7917.0  "
      ]
     },
     "execution_count": 823,
     "metadata": {},
     "output_type": "execute_result"
    }
   ],
   "source": [
    "pa_results.head()"
   ]
  },
  {
   "cell_type": "code",
   "execution_count": 825,
   "metadata": {},
   "outputs": [],
   "source": [
    "pa_results[\"per_capita_payment_per_discharge\"] = pa_results[\"average_total_payments\"]/pa_results[\"total_discharges\"]"
   ]
  },
  {
   "cell_type": "code",
   "execution_count": 826,
   "metadata": {},
   "outputs": [
    {
     "data": {
      "text/html": [
       "<div>\n",
       "<style scoped>\n",
       "    .dataframe tbody tr th:only-of-type {\n",
       "        vertical-align: middle;\n",
       "    }\n",
       "\n",
       "    .dataframe tbody tr th {\n",
       "        vertical-align: top;\n",
       "    }\n",
       "\n",
       "    .dataframe thead th {\n",
       "        text-align: right;\n",
       "    }\n",
       "</style>\n",
       "<table border=\"1\" class=\"dataframe\">\n",
       "  <thead>\n",
       "    <tr style=\"text-align: right;\">\n",
       "      <th></th>\n",
       "      <th>provider_state</th>\n",
       "      <th>total_discharges</th>\n",
       "      <th>average_covered_charges</th>\n",
       "      <th>average_total_payments</th>\n",
       "      <th>average_medicare_payments</th>\n",
       "      <th>State</th>\n",
       "      <th>pa_total</th>\n",
       "      <th>per_capita_payment_per_discharge</th>\n",
       "    </tr>\n",
       "  </thead>\n",
       "  <tbody>\n",
       "    <tr>\n",
       "      <th>0</th>\n",
       "      <td>AK</td>\n",
       "      <td>7681</td>\n",
       "      <td>2.337966e+07</td>\n",
       "      <td>5.705120e+06</td>\n",
       "      <td>4.996261e+06</td>\n",
       "      <td>Alaska</td>\n",
       "      <td>346.0</td>\n",
       "      <td>742.757479</td>\n",
       "    </tr>\n",
       "    <tr>\n",
       "      <th>1</th>\n",
       "      <td>AL</td>\n",
       "      <td>142060</td>\n",
       "      <td>2.143038e+08</td>\n",
       "      <td>4.119621e+07</td>\n",
       "      <td>3.409628e+07</td>\n",
       "      <td>Alabama</td>\n",
       "      <td>535.0</td>\n",
       "      <td>289.991599</td>\n",
       "    </tr>\n",
       "    <tr>\n",
       "      <th>2</th>\n",
       "      <td>AR</td>\n",
       "      <td>91655</td>\n",
       "      <td>1.058598e+08</td>\n",
       "      <td>2.707915e+07</td>\n",
       "      <td>2.321937e+07</td>\n",
       "      <td>Arkansas</td>\n",
       "      <td>209.0</td>\n",
       "      <td>295.446526</td>\n",
       "    </tr>\n",
       "    <tr>\n",
       "      <th>3</th>\n",
       "      <td>AZ</td>\n",
       "      <td>115039</td>\n",
       "      <td>2.434176e+08</td>\n",
       "      <td>5.071762e+07</td>\n",
       "      <td>4.397756e+07</td>\n",
       "      <td>Arizona</td>\n",
       "      <td>1940.0</td>\n",
       "      <td>440.873251</td>\n",
       "    </tr>\n",
       "    <tr>\n",
       "      <th>4</th>\n",
       "      <td>CA</td>\n",
       "      <td>531134</td>\n",
       "      <td>1.619089e+09</td>\n",
       "      <td>2.802472e+08</td>\n",
       "      <td>2.466170e+08</td>\n",
       "      <td>California</td>\n",
       "      <td>7917.0</td>\n",
       "      <td>527.639260</td>\n",
       "    </tr>\n",
       "  </tbody>\n",
       "</table>\n",
       "</div>"
      ],
      "text/plain": [
       "  provider_state  total_discharges  average_covered_charges  \\\n",
       "0             AK              7681             2.337966e+07   \n",
       "1             AL            142060             2.143038e+08   \n",
       "2             AR             91655             1.058598e+08   \n",
       "3             AZ            115039             2.434176e+08   \n",
       "4             CA            531134             1.619089e+09   \n",
       "\n",
       "   average_total_payments  average_medicare_payments       State  pa_total  \\\n",
       "0            5.705120e+06               4.996261e+06      Alaska     346.0   \n",
       "1            4.119621e+07               3.409628e+07     Alabama     535.0   \n",
       "2            2.707915e+07               2.321937e+07    Arkansas     209.0   \n",
       "3            5.071762e+07               4.397756e+07     Arizona    1940.0   \n",
       "4            2.802472e+08               2.466170e+08  California    7917.0   \n",
       "\n",
       "   per_capita_payment_per_discharge  \n",
       "0                        742.757479  \n",
       "1                        289.991599  \n",
       "2                        295.446526  \n",
       "3                        440.873251  \n",
       "4                        527.639260  "
      ]
     },
     "execution_count": 826,
     "metadata": {},
     "output_type": "execute_result"
    }
   ],
   "source": [
    "pa_results.head()"
   ]
  },
  {
   "cell_type": "code",
   "execution_count": 827,
   "metadata": {},
   "outputs": [],
   "source": [
    "pa_results = pa_results.sort_values(\"pa_total\", ascending=False)"
   ]
  },
  {
   "cell_type": "code",
   "execution_count": 833,
   "metadata": {},
   "outputs": [
    {
     "data": {
      "text/html": [
       "<div>\n",
       "<style scoped>\n",
       "    .dataframe tbody tr th:only-of-type {\n",
       "        vertical-align: middle;\n",
       "    }\n",
       "\n",
       "    .dataframe tbody tr th {\n",
       "        vertical-align: top;\n",
       "    }\n",
       "\n",
       "    .dataframe thead th {\n",
       "        text-align: right;\n",
       "    }\n",
       "</style>\n",
       "<table border=\"1\" class=\"dataframe\">\n",
       "  <thead>\n",
       "    <tr style=\"text-align: right;\">\n",
       "      <th></th>\n",
       "      <th>provider_state</th>\n",
       "      <th>total_discharges</th>\n",
       "      <th>average_covered_charges</th>\n",
       "      <th>average_total_payments</th>\n",
       "      <th>average_medicare_payments</th>\n",
       "      <th>State</th>\n",
       "      <th>pa_total</th>\n",
       "      <th>per_capita_payment_per_discharge</th>\n",
       "    </tr>\n",
       "  </thead>\n",
       "  <tbody>\n",
       "    <tr>\n",
       "      <th>34</th>\n",
       "      <td>NY</td>\n",
       "      <td>428911</td>\n",
       "      <td>6.934001e+08</td>\n",
       "      <td>1.901102e+08</td>\n",
       "      <td>1.622839e+08</td>\n",
       "      <td>New York</td>\n",
       "      <td>8893.0</td>\n",
       "      <td>443.239158</td>\n",
       "    </tr>\n",
       "    <tr>\n",
       "      <th>4</th>\n",
       "      <td>CA</td>\n",
       "      <td>531134</td>\n",
       "      <td>1.619089e+09</td>\n",
       "      <td>2.802472e+08</td>\n",
       "      <td>2.466170e+08</td>\n",
       "      <td>California</td>\n",
       "      <td>7917.0</td>\n",
       "      <td>527.639260</td>\n",
       "    </tr>\n",
       "    <tr>\n",
       "      <th>9</th>\n",
       "      <td>FL</td>\n",
       "      <td>582437</td>\n",
       "      <td>1.137604e+09</td>\n",
       "      <td>1.764597e+08</td>\n",
       "      <td>1.500737e+08</td>\n",
       "      <td>Florida</td>\n",
       "      <td>6093.0</td>\n",
       "      <td>302.967838</td>\n",
       "    </tr>\n",
       "    <tr>\n",
       "      <th>43</th>\n",
       "      <td>TX</td>\n",
       "      <td>499356</td>\n",
       "      <td>9.899876e+08</td>\n",
       "      <td>1.773738e+08</td>\n",
       "      <td>1.467447e+08</td>\n",
       "      <td>Texas</td>\n",
       "      <td>5843.0</td>\n",
       "      <td>355.205014</td>\n",
       "    </tr>\n",
       "    <tr>\n",
       "      <th>38</th>\n",
       "      <td>PA</td>\n",
       "      <td>324956</td>\n",
       "      <td>6.421601e+08</td>\n",
       "      <td>1.273274e+08</td>\n",
       "      <td>1.011620e+08</td>\n",
       "      <td>Pennsylvania</td>\n",
       "      <td>5669.0</td>\n",
       "      <td>391.829753</td>\n",
       "    </tr>\n",
       "  </tbody>\n",
       "</table>\n",
       "</div>"
      ],
      "text/plain": [
       "   provider_state  total_discharges  average_covered_charges  \\\n",
       "34             NY            428911             6.934001e+08   \n",
       "4              CA            531134             1.619089e+09   \n",
       "9              FL            582437             1.137604e+09   \n",
       "43             TX            499356             9.899876e+08   \n",
       "38             PA            324956             6.421601e+08   \n",
       "\n",
       "    average_total_payments  average_medicare_payments         State  pa_total  \\\n",
       "34            1.901102e+08               1.622839e+08      New York    8893.0   \n",
       "4             2.802472e+08               2.466170e+08    California    7917.0   \n",
       "9             1.764597e+08               1.500737e+08       Florida    6093.0   \n",
       "43            1.773738e+08               1.467447e+08         Texas    5843.0   \n",
       "38            1.273274e+08               1.011620e+08  Pennsylvania    5669.0   \n",
       "\n",
       "    per_capita_payment_per_discharge  \n",
       "34                        443.239158  \n",
       "4                         527.639260  \n",
       "9                         302.967838  \n",
       "43                        355.205014  \n",
       "38                        391.829753  "
      ]
     },
     "execution_count": 833,
     "metadata": {},
     "output_type": "execute_result"
    }
   ],
   "source": [
    "pa_results.head()"
   ]
  },
  {
   "cell_type": "code",
   "execution_count": 847,
   "metadata": {},
   "outputs": [
    {
     "data": {
      "image/png": "[encoded data removed]",
      "text/plain": [
       "<Figure size 432x288 with 1 Axes>"
      ]
     },
     "metadata": {
      "needs_background": "light"
     },
     "output_type": "display_data"
    }
   ],
   "source": [
    "pa_results.plot.scatter(\"pa_total\", \"per_capita_payment_per_discharge\")\n",
    "plt.title(\"Per Capita Discharges per Physicians Assistants vs Per Capita Discharge Payment\")\n",
    "# plt.savefig(\"Per Capita Discharges per Physicians Assistants vs Per Capita Discharge Payment\")"
   ]
  },
  {
   "cell_type": "code",
   "execution_count": 831,
   "metadata": {},
   "outputs": [
    {
     "data": {
      "text/html": [
       "<div>\n",
       "<style scoped>\n",
       "    .dataframe tbody tr th:only-of-type {\n",
       "        vertical-align: middle;\n",
       "    }\n",
       "\n",
       "    .dataframe tbody tr th {\n",
       "        vertical-align: top;\n",
       "    }\n",
       "\n",
       "    .dataframe thead th {\n",
       "        text-align: right;\n",
       "    }\n",
       "</style>\n",
       "<table border=\"1\" class=\"dataframe\">\n",
       "  <thead>\n",
       "    <tr style=\"text-align: right;\">\n",
       "      <th></th>\n",
       "      <th>pa_total</th>\n",
       "      <th>per_capita_payment_per_discharge</th>\n",
       "    </tr>\n",
       "  </thead>\n",
       "  <tbody>\n",
       "    <tr>\n",
       "      <th>pa_total</th>\n",
       "      <td>1.000000</td>\n",
       "      <td>0.018953</td>\n",
       "    </tr>\n",
       "    <tr>\n",
       "      <th>per_capita_payment_per_discharge</th>\n",
       "      <td>0.018953</td>\n",
       "      <td>1.000000</td>\n",
       "    </tr>\n",
       "  </tbody>\n",
       "</table>\n",
       "</div>"
      ],
      "text/plain": [
       "                                  pa_total  per_capita_payment_per_discharge\n",
       "pa_total                          1.000000                          0.018953\n",
       "per_capita_payment_per_discharge  0.018953                          1.000000"
      ]
     },
     "execution_count": 831,
     "metadata": {},
     "output_type": "execute_result"
    }
   ],
   "source": [
    "corr = pa_results[[\"pa_total\", \"per_capita_payment_per_discharge\"]]\n",
    "corr.corr()"
   ]
  },
  {
   "cell_type": "code",
   "execution_count": null,
   "metadata": {},
   "outputs": [],
   "source": []
  }
 ],
 "metadata": {
  "kernelspec": {
   "display_name": "Python 3",
   "language": "python",
   "name": "python3"
  },
  "language_info": {
   "codemirror_mode": {
    "name": "ipython",
    "version": 3
   },
   "file_extension": ".py",
   "mimetype": "text/x-python",
   "name": "python",
   "nbconvert_exporter": "python",
   "pygments_lexer": "ipython3",
   "version": "3.7.3"
  }
 },
 "nbformat": 4,
 "nbformat_minor": 2
}
