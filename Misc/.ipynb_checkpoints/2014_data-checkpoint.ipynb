{
 "cells": [
  {
   "cell_type": "code",
   "execution_count": 1,
   "metadata": {},
   "outputs": [],
   "source": [
    "import pandas as pd\n",
    "import os"
   ]
  },
  {
   "cell_type": "code",
   "execution_count": 2,
   "metadata": {},
   "outputs": [],
   "source": [
    "data_2014 = os.path.join(\"Resources\", \"2014.csv\")"
   ]
  },
  {
   "cell_type": "code",
   "execution_count": 3,
   "metadata": {},
   "outputs": [],
   "source": [
    "data_2014 = pd.read_csv(data_2014)"
   ]
  },
  {
   "cell_type": "code",
   "execution_count": 4,
   "metadata": {},
   "outputs": [],
   "source": [
    "data_2014.columns = data_2014.columns.str.strip().str.lower().str.replace(' ', '_').str.replace('(', '').str.replace(')', '')"
   ]
  },
  {
   "cell_type": "code",
   "execution_count": 5,
   "metadata": {},
   "outputs": [],
   "source": [
    "data_2014 = data_2014[[\"drg_definition\", \"total_discharges\", \"average_medicare_payments\"]]"
   ]
  },
  {
   "cell_type": "code",
   "execution_count": 6,
   "metadata": {},
   "outputs": [],
   "source": [
    "grouped_2014 = data_2014.groupby(\"drg_definition\").sum()"
   ]
  },
  {
   "cell_type": "code",
   "execution_count": 7,
   "metadata": {},
   "outputs": [],
   "source": [
    "grouped_2014[\"average_medicare_payments\"] = grouped_2014[\"average_medicare_payments\"]\n",
    "# .map('${:,.2f}'.format)"
   ]
  },
  {
   "cell_type": "code",
   "execution_count": 8,
   "metadata": {},
   "outputs": [],
   "source": [
    "grouped_2014[\"total_average_medicare_payments\"] = (grouped_2014[\"total_discharges\"]*grouped_2014[\"average_medicare_payments\"])"
   ]
  },
  {
   "cell_type": "code",
   "execution_count": 9,
   "metadata": {},
   "outputs": [],
   "source": [
    "grouped_2014[\"average_medicare_payments\"] = grouped_2014[\"average_medicare_payments\"].map('${:,.2f}'.format)"
   ]
  },
  {
   "cell_type": "code",
   "execution_count": 10,
   "metadata": {},
   "outputs": [],
   "source": [
    "grouped_2014[\"total_average_medicare_payments\"] = grouped_2014[\"total_average_medicare_payments\"].map('${:,.2f}'.format)"
   ]
  },
  {
   "cell_type": "code",
   "execution_count": 13,
   "metadata": {},
   "outputs": [],
   "source": [
    "grouped_2014[\"total_discharges\"] = grouped_2014[\"total_discharges\"].map('{:,.2f}'.format)"
   ]
  },
  {
   "cell_type": "code",
   "execution_count": 14,
   "metadata": {},
   "outputs": [
    {
     "data": {
      "text/html": [
       "<div>\n",
       "<style scoped>\n",
       "    .dataframe tbody tr th:only-of-type {\n",
       "        vertical-align: middle;\n",
       "    }\n",
       "\n",
       "    .dataframe tbody tr th {\n",
       "        vertical-align: top;\n",
       "    }\n",
       "\n",
       "    .dataframe thead th {\n",
       "        text-align: right;\n",
       "    }\n",
       "</style>\n",
       "<table border=\"1\" class=\"dataframe\">\n",
       "  <thead>\n",
       "    <tr style=\"text-align: right;\">\n",
       "      <th></th>\n",
       "      <th>total_discharges</th>\n",
       "      <th>average_medicare_payments</th>\n",
       "      <th>total_average_medicare_payments</th>\n",
       "    </tr>\n",
       "    <tr>\n",
       "      <th>drg_definition</th>\n",
       "      <th></th>\n",
       "      <th></th>\n",
       "      <th></th>\n",
       "    </tr>\n",
       "  </thead>\n",
       "  <tbody>\n",
       "    <tr>\n",
       "      <th>001 - HEART TRANSPLANT OR IMPLANT OF HEART ASSIST SYSTEM W MCC</th>\n",
       "      <td>1,495.00</td>\n",
       "      <td>$14,221,613.28</td>\n",
       "      <td>$21,261,311,849.11</td>\n",
       "    </tr>\n",
       "    <tr>\n",
       "      <th>002 - HEART TRANSPLANT OR IMPLANT OF HEART ASSIST SYSTEM W/O MCC</th>\n",
       "      <td>23.00</td>\n",
       "      <td>$256,187.32</td>\n",
       "      <td>$5,892,308.32</td>\n",
       "    </tr>\n",
       "    <tr>\n",
       "      <th>003 - ECMO OR TRACH W MV 96+ HRS OR PDX EXC FACE, MOUTH &amp; NECK W MAJ O.R.</th>\n",
       "      <td>11,987.00</td>\n",
       "      <td>$54,997,546.11</td>\n",
       "      <td>$659,255,585,169.03</td>\n",
       "    </tr>\n",
       "    <tr>\n",
       "      <th>004 - TRACH W MV 96+ HRS OR PDX EXC FACE, MOUTH &amp; NECK W/O MAJ O.R.</th>\n",
       "      <td>11,774.00</td>\n",
       "      <td>$41,499,440.01</td>\n",
       "      <td>$488,614,406,645.83</td>\n",
       "    </tr>\n",
       "    <tr>\n",
       "      <th>005 - LIVER TRANSPLANT W MCC OR INTESTINAL TRANSPLANT</th>\n",
       "      <td>741.00</td>\n",
       "      <td>$3,895,729.80</td>\n",
       "      <td>$2,886,735,785.18</td>\n",
       "    </tr>\n",
       "  </tbody>\n",
       "</table>\n",
       "</div>"
      ],
      "text/plain": [
       "                                                   total_discharges  \\\n",
       "drg_definition                                                        \n",
       "001 - HEART TRANSPLANT OR IMPLANT OF HEART ASSI...         1,495.00   \n",
       "002 - HEART TRANSPLANT OR IMPLANT OF HEART ASSI...            23.00   \n",
       "003 - ECMO OR TRACH W MV 96+ HRS OR PDX EXC FAC...        11,987.00   \n",
       "004 - TRACH W MV 96+ HRS OR PDX EXC FACE, MOUTH...        11,774.00   \n",
       "005 - LIVER TRANSPLANT W MCC OR INTESTINAL TRAN...           741.00   \n",
       "\n",
       "                                                   average_medicare_payments  \\\n",
       "drg_definition                                                                 \n",
       "001 - HEART TRANSPLANT OR IMPLANT OF HEART ASSI...            $14,221,613.28   \n",
       "002 - HEART TRANSPLANT OR IMPLANT OF HEART ASSI...               $256,187.32   \n",
       "003 - ECMO OR TRACH W MV 96+ HRS OR PDX EXC FAC...            $54,997,546.11   \n",
       "004 - TRACH W MV 96+ HRS OR PDX EXC FACE, MOUTH...            $41,499,440.01   \n",
       "005 - LIVER TRANSPLANT W MCC OR INTESTINAL TRAN...             $3,895,729.80   \n",
       "\n",
       "                                                   total_average_medicare_payments  \n",
       "drg_definition                                                                      \n",
       "001 - HEART TRANSPLANT OR IMPLANT OF HEART ASSI...              $21,261,311,849.11  \n",
       "002 - HEART TRANSPLANT OR IMPLANT OF HEART ASSI...                   $5,892,308.32  \n",
       "003 - ECMO OR TRACH W MV 96+ HRS OR PDX EXC FAC...             $659,255,585,169.03  \n",
       "004 - TRACH W MV 96+ HRS OR PDX EXC FACE, MOUTH...             $488,614,406,645.83  \n",
       "005 - LIVER TRANSPLANT W MCC OR INTESTINAL TRAN...               $2,886,735,785.18  "
      ]
     },
     "execution_count": 14,
     "metadata": {},
     "output_type": "execute_result"
    }
   ],
   "source": [
    "grouped_2014.head()"
   ]
  },
  {
   "cell_type": "code",
   "execution_count": null,
   "metadata": {},
   "outputs": [],
   "source": []
  },
  {
   "cell_type": "code",
   "execution_count": null,
   "metadata": {},
   "outputs": [],
   "source": []
  },
  {
   "cell_type": "code",
   "execution_count": null,
   "metadata": {},
   "outputs": [],
   "source": []
  },
  {
   "cell_type": "code",
   "execution_count": null,
   "metadata": {},
   "outputs": [],
   "source": []
  }
 ],
 "metadata": {
  "kernelspec": {
   "display_name": "Python 3",
   "language": "python",
   "name": "python3"
  },
  "language_info": {
   "codemirror_mode": {
    "name": "ipython",
    "version": 3
   },
   "file_extension": ".py",
   "mimetype": "text/x-python",
   "name": "python",
   "nbconvert_exporter": "python",
   "pygments_lexer": "ipython3",
   "version": "3.7.3"
  }
 },
 "nbformat": 4,
 "nbformat_minor": 2
}
